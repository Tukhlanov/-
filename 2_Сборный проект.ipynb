{
 "cells": [
  {
   "cell_type": "markdown",
   "id": "39d78a07",
   "metadata": {},
   "source": [
    "# Библиотеки"
   ]
  },
  {
   "cell_type": "code",
   "execution_count": 1,
   "id": "412e46c2",
   "metadata": {},
   "outputs": [],
   "source": [
    "import pandas as pd\n",
    "import matplotlib.pyplot as plt\n",
    "from sklearn.tree import DecisionTreeRegressor\n",
    "from sklearn.ensemble import RandomForestRegressor\n",
    "from sklearn.linear_model import LinearRegression\n",
    "from sklearn.preprocessing import StandardScaler\n",
    "\n",
    "scaler = StandardScaler()"
   ]
  },
  {
   "cell_type": "markdown",
   "id": "5b4aa678",
   "metadata": {},
   "source": [
    "# Восстановление золота из руды"
   ]
  },
  {
   "cell_type": "markdown",
   "id": "57ec8b6f",
   "metadata": {},
   "source": [
    "# Техническое задание:\n",
    "\n",
    "Подготовьте прототип модели машинного обучения для «Цифры». Компания разрабатывает решения для эффективной работы промышленных предприятий.\n",
    "\n",
    "Модель должна предсказать коэффициент восстановления золота из золотосодержащей руды. Используйте данные с параметрами добычи и очистки. \n",
    "\n",
    "Модель поможет оптимизировать производство, чтобы не запускать предприятие с убыточными характеристиками.\n",
    "\n",
    "Вам нужно:\n",
    "\n",
    "1. Подготовить данные;\n",
    "2. Провести исследовательский анализ данных;\n",
    "3. Построить и обучить модель.\n",
    "\n",
    "Чтобы выполнить проект, обращайтесь к библиотекам *pandas*, *matplotlib* и *sklearn.* Вам поможет их документация."
   ]
  },
  {
   "cell_type": "markdown",
   "id": "48eb21da",
   "metadata": {},
   "source": [
    "# Описание проекта:\n",
    "\n",
    "Данные находятся в трёх файлах:\n",
    "* gold_recovery_train_new.csv — обучающая выборка;\n",
    "* gold_recovery_test_new.csv — тестовая выборка;\n",
    "* gold_recovery_full_new.csv — исходные данные.\n",
    "\n",
    "Данные индексируются датой и временем получения информации (признак date). Соседние по времени параметры часто похожи.\n",
    "Некоторые параметры недоступны, потому что замеряются и/или рассчитываются значительно позже. Из-за этого в тестовой выборке отсутствуют некоторые признаки, которые могут быть в обучающей. Также в тестовом наборе нет целевых признаков.\n",
    "Исходный датасет содержит обучающую и тестовую выборки со всеми признаками.\n",
    "В вашем распоряжении сырые данные: их просто выгрузили из хранилища. Прежде чем приступить к построению модели, проверьте по нашей инструкции их на корректность."
   ]
  },
  {
   "cell_type": "markdown",
   "id": "bc7c88a6",
   "metadata": {},
   "source": [
    "# Описание данных:\n",
    "\n",
    "Технологический процесс:\n",
    "* Rougher feed — исходное сырье\n",
    "* Rougher additions (или reagent additions) — флотационные реагенты: Xanthate, Sulphate, Depressant: \n",
    " * Xanthate **— ксантогенат (промотер, или активатор флотации);\n",
    " * Sulphate — сульфат (на данном производстве сульфид натрия);\n",
    " * Depressant — депрессант (силикат натрия).\n",
    "* Rougher process (англ. «грубый процесс») — флотация\n",
    "* Rougher tails — отвальные хвосты\n",
    "* Float banks — флотационная установка\n",
    "* Cleaner process — очистка\n",
    "* Rougher Au — черновой концентрат золота\n",
    "* Final Au — финальный концентрат золота\n",
    "\n",
    "Параметры этапов:\n",
    "* air amount — объём воздуха\n",
    "* fluid levels — уровень жидкости\n",
    "* feed size — размер гранул сырья\n",
    "* feed rate — скорость подачи\n",
    "\n",
    "Наименование признаков:\n",
    "\n",
    "Наименование признаков должно быть такое:\n",
    "[этап].[тип_параметра].[название_параметра]\n",
    "\n",
    "Пример: rougher.input.feed_ag\n",
    "\n",
    "Возможные значения для блока [этап]:\n",
    "* rougher — флотация\n",
    "* primary_cleaner — первичная очистка\n",
    "* secondary_cleaner — вторичная очистка\n",
    "* final — финальные характеристики\n",
    "\n",
    "Возможные значения для блока [тип_параметра]:\n",
    "* input — параметры сырья\n",
    "* output — параметры продукта\n",
    "* state — параметры, характеризующие текущее состояние этапа\n",
    "* calculation — расчётные характеристики"
   ]
  },
  {
   "cell_type": "markdown",
   "id": "37588dc8",
   "metadata": {},
   "source": [
    "## Подготовка данных"
   ]
  },
  {
   "cell_type": "markdown",
   "id": "1faad5b5",
   "metadata": {},
   "source": [
    "### Откроем файлы и изучим их."
   ]
  },
  {
   "cell_type": "code",
   "execution_count": 2,
   "id": "0a4f0dd3",
   "metadata": {},
   "outputs": [],
   "source": [
    "df_train = pd.read_csv('/datasets/gold_recovery_train_new.csv')\n",
    "df_test = pd.read_csv('/datasets/gold_recovery_test_new.csv')\n",
    "df_full = pd.read_csv('/datasets/gold_recovery_full_new.csv')"
   ]
  },
  {
   "cell_type": "code",
   "execution_count": 3,
   "id": "f4086953",
   "metadata": {
    "scrolled": false
   },
   "outputs": [
    {
     "name": "stdout",
     "output_type": "stream",
     "text": [
      "df_train:\n",
      "<class 'pandas.core.frame.DataFrame'>\n",
      "RangeIndex: 14149 entries, 0 to 14148\n",
      "Data columns (total 87 columns):\n",
      " #   Column                                              Non-Null Count  Dtype  \n",
      "---  ------                                              --------------  -----  \n",
      " 0   date                                                14149 non-null  object \n",
      " 1   final.output.concentrate_ag                         14148 non-null  float64\n",
      " 2   final.output.concentrate_pb                         14148 non-null  float64\n",
      " 3   final.output.concentrate_sol                        13938 non-null  float64\n",
      " 4   final.output.concentrate_au                         14149 non-null  float64\n",
      " 5   final.output.recovery                               14149 non-null  float64\n",
      " 6   final.output.tail_ag                                14149 non-null  float64\n",
      " 7   final.output.tail_pb                                14049 non-null  float64\n",
      " 8   final.output.tail_sol                               14144 non-null  float64\n",
      " 9   final.output.tail_au                                14149 non-null  float64\n",
      " 10  primary_cleaner.input.sulfate                       14129 non-null  float64\n",
      " 11  primary_cleaner.input.depressant                    14117 non-null  float64\n",
      " 12  primary_cleaner.input.feed_size                     14149 non-null  float64\n",
      " 13  primary_cleaner.input.xanthate                      14049 non-null  float64\n",
      " 14  primary_cleaner.output.concentrate_ag               14149 non-null  float64\n",
      " 15  primary_cleaner.output.concentrate_pb               14063 non-null  float64\n",
      " 16  primary_cleaner.output.concentrate_sol              13863 non-null  float64\n",
      " 17  primary_cleaner.output.concentrate_au               14149 non-null  float64\n",
      " 18  primary_cleaner.output.tail_ag                      14148 non-null  float64\n",
      " 19  primary_cleaner.output.tail_pb                      14134 non-null  float64\n",
      " 20  primary_cleaner.output.tail_sol                     14103 non-null  float64\n",
      " 21  primary_cleaner.output.tail_au                      14149 non-null  float64\n",
      " 22  primary_cleaner.state.floatbank8_a_air              14145 non-null  float64\n",
      " 23  primary_cleaner.state.floatbank8_a_level            14148 non-null  float64\n",
      " 24  primary_cleaner.state.floatbank8_b_air              14145 non-null  float64\n",
      " 25  primary_cleaner.state.floatbank8_b_level            14148 non-null  float64\n",
      " 26  primary_cleaner.state.floatbank8_c_air              14147 non-null  float64\n",
      " 27  primary_cleaner.state.floatbank8_c_level            14148 non-null  float64\n",
      " 28  primary_cleaner.state.floatbank8_d_air              14146 non-null  float64\n",
      " 29  primary_cleaner.state.floatbank8_d_level            14148 non-null  float64\n",
      " 30  rougher.calculation.sulfate_to_au_concentrate       14148 non-null  float64\n",
      " 31  rougher.calculation.floatbank10_sulfate_to_au_feed  14148 non-null  float64\n",
      " 32  rougher.calculation.floatbank11_sulfate_to_au_feed  14148 non-null  float64\n",
      " 33  rougher.calculation.au_pb_ratio                     14149 non-null  float64\n",
      " 34  rougher.input.feed_ag                               14149 non-null  float64\n",
      " 35  rougher.input.feed_pb                               14049 non-null  float64\n",
      " 36  rougher.input.feed_rate                             14141 non-null  float64\n",
      " 37  rougher.input.feed_size                             14005 non-null  float64\n",
      " 38  rougher.input.feed_sol                              14071 non-null  float64\n",
      " 39  rougher.input.feed_au                               14149 non-null  float64\n",
      " 40  rougher.input.floatbank10_sulfate                   14120 non-null  float64\n",
      " 41  rougher.input.floatbank10_xanthate                  14141 non-null  float64\n",
      " 42  rougher.input.floatbank11_sulfate                   14113 non-null  float64\n",
      " 43  rougher.input.floatbank11_xanthate                  13721 non-null  float64\n",
      " 44  rougher.output.concentrate_ag                       14149 non-null  float64\n",
      " 45  rougher.output.concentrate_pb                       14149 non-null  float64\n",
      " 46  rougher.output.concentrate_sol                      14127 non-null  float64\n",
      " 47  rougher.output.concentrate_au                       14149 non-null  float64\n",
      " 48  rougher.output.recovery                             14149 non-null  float64\n",
      " 49  rougher.output.tail_ag                              14148 non-null  float64\n",
      " 50  rougher.output.tail_pb                              14149 non-null  float64\n",
      " 51  rougher.output.tail_sol                             14149 non-null  float64\n",
      " 52  rougher.output.tail_au                              14149 non-null  float64\n",
      " 53  rougher.state.floatbank10_a_air                     14148 non-null  float64\n",
      " 54  rougher.state.floatbank10_a_level                   14148 non-null  float64\n",
      " 55  rougher.state.floatbank10_b_air                     14148 non-null  float64\n",
      " 56  rougher.state.floatbank10_b_level                   14148 non-null  float64\n",
      " 57  rougher.state.floatbank10_c_air                     14148 non-null  float64\n",
      " 58  rougher.state.floatbank10_c_level                   14148 non-null  float64\n",
      " 59  rougher.state.floatbank10_d_air                     14149 non-null  float64\n",
      " 60  rougher.state.floatbank10_d_level                   14149 non-null  float64\n",
      " 61  rougher.state.floatbank10_e_air                     13713 non-null  float64\n",
      " 62  rougher.state.floatbank10_e_level                   14149 non-null  float64\n",
      " 63  rougher.state.floatbank10_f_air                     14149 non-null  float64\n",
      " 64  rougher.state.floatbank10_f_level                   14149 non-null  float64\n",
      " 65  secondary_cleaner.output.tail_ag                    14147 non-null  float64\n",
      " 66  secondary_cleaner.output.tail_pb                    14139 non-null  float64\n",
      " 67  secondary_cleaner.output.tail_sol                   12544 non-null  float64\n",
      " 68  secondary_cleaner.output.tail_au                    14149 non-null  float64\n",
      " 69  secondary_cleaner.state.floatbank2_a_air            13932 non-null  float64\n",
      " 70  secondary_cleaner.state.floatbank2_a_level          14148 non-null  float64\n",
      " 71  secondary_cleaner.state.floatbank2_b_air            14128 non-null  float64\n",
      " 72  secondary_cleaner.state.floatbank2_b_level          14148 non-null  float64\n",
      " 73  secondary_cleaner.state.floatbank3_a_air            14145 non-null  float64\n",
      " 74  secondary_cleaner.state.floatbank3_a_level          14148 non-null  float64\n",
      " 75  secondary_cleaner.state.floatbank3_b_air            14148 non-null  float64\n",
      " 76  secondary_cleaner.state.floatbank3_b_level          14148 non-null  float64\n",
      " 77  secondary_cleaner.state.floatbank4_a_air            14143 non-null  float64\n",
      " 78  secondary_cleaner.state.floatbank4_a_level          14148 non-null  float64\n",
      " 79  secondary_cleaner.state.floatbank4_b_air            14148 non-null  float64\n",
      " 80  secondary_cleaner.state.floatbank4_b_level          14148 non-null  float64\n",
      " 81  secondary_cleaner.state.floatbank5_a_air            14148 non-null  float64\n",
      " 82  secondary_cleaner.state.floatbank5_a_level          14148 non-null  float64\n",
      " 83  secondary_cleaner.state.floatbank5_b_air            14148 non-null  float64\n",
      " 84  secondary_cleaner.state.floatbank5_b_level          14148 non-null  float64\n",
      " 85  secondary_cleaner.state.floatbank6_a_air            14147 non-null  float64\n",
      " 86  secondary_cleaner.state.floatbank6_a_level          14148 non-null  float64\n",
      "dtypes: float64(86), object(1)\n",
      "memory usage: 9.4+ MB\n",
      "--------------------------------------------------------------------------------\n",
      "df_test:\n",
      "<class 'pandas.core.frame.DataFrame'>\n",
      "RangeIndex: 5290 entries, 0 to 5289\n",
      "Data columns (total 53 columns):\n",
      " #   Column                                      Non-Null Count  Dtype  \n",
      "---  ------                                      --------------  -----  \n",
      " 0   date                                        5290 non-null   object \n",
      " 1   primary_cleaner.input.sulfate               5286 non-null   float64\n",
      " 2   primary_cleaner.input.depressant            5285 non-null   float64\n",
      " 3   primary_cleaner.input.feed_size             5290 non-null   float64\n",
      " 4   primary_cleaner.input.xanthate              5286 non-null   float64\n",
      " 5   primary_cleaner.state.floatbank8_a_air      5290 non-null   float64\n",
      " 6   primary_cleaner.state.floatbank8_a_level    5290 non-null   float64\n",
      " 7   primary_cleaner.state.floatbank8_b_air      5290 non-null   float64\n",
      " 8   primary_cleaner.state.floatbank8_b_level    5290 non-null   float64\n",
      " 9   primary_cleaner.state.floatbank8_c_air      5290 non-null   float64\n",
      " 10  primary_cleaner.state.floatbank8_c_level    5290 non-null   float64\n",
      " 11  primary_cleaner.state.floatbank8_d_air      5290 non-null   float64\n",
      " 12  primary_cleaner.state.floatbank8_d_level    5290 non-null   float64\n",
      " 13  rougher.input.feed_ag                       5290 non-null   float64\n",
      " 14  rougher.input.feed_pb                       5290 non-null   float64\n",
      " 15  rougher.input.feed_rate                     5287 non-null   float64\n",
      " 16  rougher.input.feed_size                     5289 non-null   float64\n",
      " 17  rougher.input.feed_sol                      5269 non-null   float64\n",
      " 18  rougher.input.feed_au                       5290 non-null   float64\n",
      " 19  rougher.input.floatbank10_sulfate           5285 non-null   float64\n",
      " 20  rougher.input.floatbank10_xanthate          5290 non-null   float64\n",
      " 21  rougher.input.floatbank11_sulfate           5282 non-null   float64\n",
      " 22  rougher.input.floatbank11_xanthate          5265 non-null   float64\n",
      " 23  rougher.state.floatbank10_a_air             5290 non-null   float64\n",
      " 24  rougher.state.floatbank10_a_level           5290 non-null   float64\n",
      " 25  rougher.state.floatbank10_b_air             5290 non-null   float64\n",
      " 26  rougher.state.floatbank10_b_level           5290 non-null   float64\n",
      " 27  rougher.state.floatbank10_c_air             5290 non-null   float64\n",
      " 28  rougher.state.floatbank10_c_level           5290 non-null   float64\n",
      " 29  rougher.state.floatbank10_d_air             5290 non-null   float64\n",
      " 30  rougher.state.floatbank10_d_level           5290 non-null   float64\n",
      " 31  rougher.state.floatbank10_e_air             5290 non-null   float64\n",
      " 32  rougher.state.floatbank10_e_level           5290 non-null   float64\n",
      " 33  rougher.state.floatbank10_f_air             5290 non-null   float64\n",
      " 34  rougher.state.floatbank10_f_level           5290 non-null   float64\n",
      " 35  secondary_cleaner.state.floatbank2_a_air    5287 non-null   float64\n",
      " 36  secondary_cleaner.state.floatbank2_a_level  5290 non-null   float64\n",
      " 37  secondary_cleaner.state.floatbank2_b_air    5288 non-null   float64\n",
      " 38  secondary_cleaner.state.floatbank2_b_level  5290 non-null   float64\n",
      " 39  secondary_cleaner.state.floatbank3_a_air    5281 non-null   float64\n",
      " 40  secondary_cleaner.state.floatbank3_a_level  5290 non-null   float64\n",
      " 41  secondary_cleaner.state.floatbank3_b_air    5290 non-null   float64\n",
      " 42  secondary_cleaner.state.floatbank3_b_level  5290 non-null   float64\n",
      " 43  secondary_cleaner.state.floatbank4_a_air    5290 non-null   float64\n",
      " 44  secondary_cleaner.state.floatbank4_a_level  5290 non-null   float64\n",
      " 45  secondary_cleaner.state.floatbank4_b_air    5290 non-null   float64\n",
      " 46  secondary_cleaner.state.floatbank4_b_level  5290 non-null   float64\n",
      " 47  secondary_cleaner.state.floatbank5_a_air    5290 non-null   float64\n",
      " 48  secondary_cleaner.state.floatbank5_a_level  5290 non-null   float64\n",
      " 49  secondary_cleaner.state.floatbank5_b_air    5290 non-null   float64\n",
      " 50  secondary_cleaner.state.floatbank5_b_level  5290 non-null   float64\n",
      " 51  secondary_cleaner.state.floatbank6_a_air    5290 non-null   float64\n",
      " 52  secondary_cleaner.state.floatbank6_a_level  5290 non-null   float64\n",
      "dtypes: float64(52), object(1)\n",
      "memory usage: 2.1+ MB\n",
      "--------------------------------------------------------------------------------\n",
      "df_full:\n",
      "<class 'pandas.core.frame.DataFrame'>\n",
      "RangeIndex: 19439 entries, 0 to 19438\n",
      "Data columns (total 87 columns):\n",
      " #   Column                                              Non-Null Count  Dtype  \n",
      "---  ------                                              --------------  -----  \n",
      " 0   date                                                19439 non-null  object \n",
      " 1   final.output.concentrate_ag                         19438 non-null  float64\n",
      " 2   final.output.concentrate_pb                         19438 non-null  float64\n",
      " 3   final.output.concentrate_sol                        19228 non-null  float64\n",
      " 4   final.output.concentrate_au                         19439 non-null  float64\n",
      " 5   final.output.recovery                               19439 non-null  float64\n",
      " 6   final.output.tail_ag                                19438 non-null  float64\n",
      " 7   final.output.tail_pb                                19338 non-null  float64\n",
      " 8   final.output.tail_sol                               19433 non-null  float64\n",
      " 9   final.output.tail_au                                19439 non-null  float64\n",
      " 10  primary_cleaner.input.sulfate                       19415 non-null  float64\n",
      " 11  primary_cleaner.input.depressant                    19402 non-null  float64\n",
      " 12  primary_cleaner.input.feed_size                     19439 non-null  float64\n",
      " 13  primary_cleaner.input.xanthate                      19335 non-null  float64\n",
      " 14  primary_cleaner.output.concentrate_ag               19439 non-null  float64\n",
      " 15  primary_cleaner.output.concentrate_pb               19323 non-null  float64\n",
      " 16  primary_cleaner.output.concentrate_sol              19069 non-null  float64\n",
      " 17  primary_cleaner.output.concentrate_au               19439 non-null  float64\n",
      " 18  primary_cleaner.output.tail_ag                      19435 non-null  float64\n",
      " 19  primary_cleaner.output.tail_pb                      19418 non-null  float64\n",
      " 20  primary_cleaner.output.tail_sol                     19377 non-null  float64\n",
      " 21  primary_cleaner.output.tail_au                      19439 non-null  float64\n",
      " 22  primary_cleaner.state.floatbank8_a_air              19435 non-null  float64\n",
      " 23  primary_cleaner.state.floatbank8_a_level            19438 non-null  float64\n",
      " 24  primary_cleaner.state.floatbank8_b_air              19435 non-null  float64\n",
      " 25  primary_cleaner.state.floatbank8_b_level            19438 non-null  float64\n",
      " 26  primary_cleaner.state.floatbank8_c_air              19437 non-null  float64\n",
      " 27  primary_cleaner.state.floatbank8_c_level            19438 non-null  float64\n",
      " 28  primary_cleaner.state.floatbank8_d_air              19436 non-null  float64\n",
      " 29  primary_cleaner.state.floatbank8_d_level            19438 non-null  float64\n",
      " 30  rougher.calculation.sulfate_to_au_concentrate       19437 non-null  float64\n",
      " 31  rougher.calculation.floatbank10_sulfate_to_au_feed  19437 non-null  float64\n",
      " 32  rougher.calculation.floatbank11_sulfate_to_au_feed  19437 non-null  float64\n",
      " 33  rougher.calculation.au_pb_ratio                     19439 non-null  float64\n",
      " 34  rougher.input.feed_ag                               19439 non-null  float64\n",
      " 35  rougher.input.feed_pb                               19339 non-null  float64\n",
      " 36  rougher.input.feed_rate                             19428 non-null  float64\n",
      " 37  rougher.input.feed_size                             19294 non-null  float64\n",
      " 38  rougher.input.feed_sol                              19340 non-null  float64\n",
      " 39  rougher.input.feed_au                               19439 non-null  float64\n",
      " 40  rougher.input.floatbank10_sulfate                   19405 non-null  float64\n",
      " 41  rougher.input.floatbank10_xanthate                  19431 non-null  float64\n",
      " 42  rougher.input.floatbank11_sulfate                   19395 non-null  float64\n",
      " 43  rougher.input.floatbank11_xanthate                  18986 non-null  float64\n",
      " 44  rougher.output.concentrate_ag                       19439 non-null  float64\n",
      " 45  rougher.output.concentrate_pb                       19439 non-null  float64\n",
      " 46  rougher.output.concentrate_sol                      19416 non-null  float64\n",
      " 47  rougher.output.concentrate_au                       19439 non-null  float64\n",
      " 48  rougher.output.recovery                             19439 non-null  float64\n",
      " 49  rougher.output.tail_ag                              19438 non-null  float64\n",
      " 50  rougher.output.tail_pb                              19439 non-null  float64\n",
      " 51  rougher.output.tail_sol                             19439 non-null  float64\n",
      " 52  rougher.output.tail_au                              19439 non-null  float64\n",
      " 53  rougher.state.floatbank10_a_air                     19438 non-null  float64\n",
      " 54  rougher.state.floatbank10_a_level                   19438 non-null  float64\n",
      " 55  rougher.state.floatbank10_b_air                     19438 non-null  float64\n",
      " 56  rougher.state.floatbank10_b_level                   19438 non-null  float64\n",
      " 57  rougher.state.floatbank10_c_air                     19438 non-null  float64\n",
      " 58  rougher.state.floatbank10_c_level                   19438 non-null  float64\n",
      " 59  rougher.state.floatbank10_d_air                     19439 non-null  float64\n",
      " 60  rougher.state.floatbank10_d_level                   19439 non-null  float64\n",
      " 61  rougher.state.floatbank10_e_air                     19003 non-null  float64\n",
      " 62  rougher.state.floatbank10_e_level                   19439 non-null  float64\n",
      " 63  rougher.state.floatbank10_f_air                     19439 non-null  float64\n",
      " 64  rougher.state.floatbank10_f_level                   19439 non-null  float64\n",
      " 65  secondary_cleaner.output.tail_ag                    19437 non-null  float64\n",
      " 66  secondary_cleaner.output.tail_pb                    19427 non-null  float64\n",
      " 67  secondary_cleaner.output.tail_sol                   17691 non-null  float64\n",
      " 68  secondary_cleaner.output.tail_au                    19439 non-null  float64\n",
      " 69  secondary_cleaner.state.floatbank2_a_air            19219 non-null  float64\n",
      " 70  secondary_cleaner.state.floatbank2_a_level          19438 non-null  float64\n",
      " 71  secondary_cleaner.state.floatbank2_b_air            19416 non-null  float64\n",
      " 72  secondary_cleaner.state.floatbank2_b_level          19438 non-null  float64\n",
      " 73  secondary_cleaner.state.floatbank3_a_air            19426 non-null  float64\n",
      " 74  secondary_cleaner.state.floatbank3_a_level          19438 non-null  float64\n",
      " 75  secondary_cleaner.state.floatbank3_b_air            19438 non-null  float64\n",
      " 76  secondary_cleaner.state.floatbank3_b_level          19438 non-null  float64\n",
      " 77  secondary_cleaner.state.floatbank4_a_air            19433 non-null  float64\n",
      " 78  secondary_cleaner.state.floatbank4_a_level          19438 non-null  float64\n",
      " 79  secondary_cleaner.state.floatbank4_b_air            19438 non-null  float64\n",
      " 80  secondary_cleaner.state.floatbank4_b_level          19438 non-null  float64\n",
      " 81  secondary_cleaner.state.floatbank5_a_air            19438 non-null  float64\n",
      " 82  secondary_cleaner.state.floatbank5_a_level          19438 non-null  float64\n",
      " 83  secondary_cleaner.state.floatbank5_b_air            19438 non-null  float64\n",
      " 84  secondary_cleaner.state.floatbank5_b_level          19438 non-null  float64\n",
      " 85  secondary_cleaner.state.floatbank6_a_air            19437 non-null  float64\n",
      " 86  secondary_cleaner.state.floatbank6_a_level          19438 non-null  float64\n",
      "dtypes: float64(86), object(1)\n",
      "memory usage: 12.9+ MB\n"
     ]
    }
   ],
   "source": [
    "print('df_train:')\n",
    "df_train.info()\n",
    "print('-'*80)\n",
    "print('df_test:')\n",
    "df_test.info()\n",
    "print('-'*80)\n",
    "print('df_full:')\n",
    "df_full.info()"
   ]
  },
  {
   "cell_type": "code",
   "execution_count": 4,
   "id": "35bb2fd9",
   "metadata": {
    "scrolled": false
   },
   "outputs": [
    {
     "name": "stdout",
     "output_type": "stream",
     "text": [
      "Пропуски в данных (в процентах):\n",
      "\n",
      "df_train:\n",
      "secondary_cleaner.output.tail_sol             11.343558\n",
      "rougher.state.floatbank10_e_air                3.081490\n",
      "rougher.input.floatbank11_xanthate             3.024949\n",
      "primary_cleaner.output.concentrate_sol         2.021344\n",
      "secondary_cleaner.state.floatbank2_a_air       1.533677\n",
      "                                                ...    \n",
      "rougher.state.floatbank10_a_air                0.007068\n",
      "rougher.state.floatbank10_a_level              0.007068\n",
      "rougher.state.floatbank10_b_air                0.007068\n",
      "rougher.state.floatbank10_b_level              0.007068\n",
      "secondary_cleaner.state.floatbank6_a_level     0.007068\n",
      "Length: 62, dtype: float64\n",
      "------------------------------------------------------------\n",
      "df_test:\n",
      "rougher.input.floatbank11_xanthate          0.472590\n",
      "rougher.input.feed_sol                      0.396975\n",
      "secondary_cleaner.state.floatbank3_a_air    0.170132\n",
      "rougher.input.floatbank11_sulfate           0.151229\n",
      "primary_cleaner.input.depressant            0.094518\n",
      "rougher.input.floatbank10_sulfate           0.094518\n",
      "primary_cleaner.input.sulfate               0.075614\n",
      "primary_cleaner.input.xanthate              0.075614\n",
      "rougher.input.feed_rate                     0.056711\n",
      "secondary_cleaner.state.floatbank2_a_air    0.056711\n",
      "secondary_cleaner.state.floatbank2_b_air    0.037807\n",
      "rougher.input.feed_size                     0.018904\n",
      "dtype: float64\n",
      "------------------------------------------------------------\n",
      "df_full:\n",
      "secondary_cleaner.output.tail_sol             8.992232\n",
      "rougher.input.floatbank11_xanthate            2.330367\n",
      "rougher.state.floatbank10_e_air               2.242914\n",
      "primary_cleaner.output.concentrate_sol        1.903390\n",
      "secondary_cleaner.state.floatbank2_a_air      1.131745\n",
      "                                                ...   \n",
      "primary_cleaner.state.floatbank8_c_level      0.005144\n",
      "primary_cleaner.state.floatbank8_b_level      0.005144\n",
      "primary_cleaner.state.floatbank8_a_level      0.005144\n",
      "final.output.tail_ag                          0.005144\n",
      "secondary_cleaner.state.floatbank6_a_level    0.005144\n",
      "Length: 63, dtype: float64\n"
     ]
    }
   ],
   "source": [
    "print('Пропуски в данных (в процентах):')\n",
    "print()\n",
    "print('df_train:')\n",
    "print((df_train.drop(df_train.dropna(axis=1).columns, axis=1)\n",
    "       .isna().mean()*100).sort_values(ascending=False))\n",
    "print('-'*60)\n",
    "print('df_test:')\n",
    "print((df_test.drop(df_test.dropna(axis=1).columns, axis=1)\n",
    "       .isna().mean()*100).sort_values(ascending=False))\n",
    "print('-'*60)\n",
    "print('df_full:')\n",
    "print((df_full.drop(df_full.dropna(axis=1).columns, axis=1)\n",
    "       .isna().mean()*100).sort_values(ascending=False))"
   ]
  },
  {
   "cell_type": "markdown",
   "id": "e5fd4867",
   "metadata": {},
   "source": [
    "В данных есть пропуски, а в df_test отсутсвует 34 столбца."
   ]
  },
  {
   "cell_type": "markdown",
   "id": "5c66efc1",
   "metadata": {},
   "source": [
    "### Проверим, что эффективность обогащения рассчитана правильно. Вычислим её на обучающей выборке для признака rougher.output.recovery. Найдём MAE между нашими расчётами и значением признака. Опишем выводы."
   ]
  },
  {
   "cell_type": "markdown",
   "id": "c54b834f",
   "metadata": {},
   "source": [
    "Эффективность обогащения рассчитывается по формуле\n",
    "\n",
    "recovery = ((С * (F - T)) / (F * (C - T))) * 100%\n",
    "\n",
    "где:\n",
    "* C — доля золота в концентрате после флотации/очистки;\n",
    "* F — доля золота в сырье/концентрате до флотации/очистки;\n",
    "* T — доля золота в отвальных хвостах после флотации/очистки."
   ]
  },
  {
   "cell_type": "code",
   "execution_count": 5,
   "id": "10e8454d",
   "metadata": {},
   "outputs": [
    {
     "name": "stdout",
     "output_type": "stream",
     "text": [
      "MAE между нашими расчётами и значением признака rougher.output.recovery = 9.73512347450521e-15\n"
     ]
    }
   ],
   "source": [
    "C = df_train['rougher.output.concentrate_au']\n",
    "F = df_train['rougher.input.feed_au']\n",
    "T = df_train['rougher.output.tail_au']\n",
    "\n",
    "recovery = ((C * (F - T)) / (F * (C - T))) * 100\n",
    "MAE = (abs(recovery - df_train['rougher.output.recovery'])).sum()/len(recovery)\n",
    "print('MAE между нашими расчётами и значением признака rougher.output.recovery =', MAE)"
   ]
  },
  {
   "cell_type": "markdown",
   "id": "e2ee6c57",
   "metadata": {},
   "source": [
    "MAE между нашими расчётами и значением признака rougher.output.recovery ничтожно мала, что даёт основание считать: в данных эффективность обогащения recovery рассчитана правильно."
   ]
  },
  {
   "cell_type": "markdown",
   "id": "0caf7cb9",
   "metadata": {},
   "source": [
    "### Проанализируем признаки, недоступные в тестовой выборке. Что это за параметры? К какому типу относятся?"
   ]
  },
  {
   "cell_type": "code",
   "execution_count": 6,
   "id": "31ea7182",
   "metadata": {},
   "outputs": [
    {
     "name": "stdout",
     "output_type": "stream",
     "text": [
      "Признаки, недоступные в тестовой выборке:\n"
     ]
    },
    {
     "data": {
      "text/plain": [
       "['final.output.concentrate_ag',\n",
       " 'final.output.concentrate_pb',\n",
       " 'final.output.concentrate_sol',\n",
       " 'final.output.concentrate_au',\n",
       " 'final.output.recovery',\n",
       " 'final.output.tail_ag',\n",
       " 'final.output.tail_pb',\n",
       " 'final.output.tail_sol',\n",
       " 'final.output.tail_au',\n",
       " 'primary_cleaner.output.concentrate_ag',\n",
       " 'primary_cleaner.output.concentrate_pb',\n",
       " 'primary_cleaner.output.concentrate_sol',\n",
       " 'primary_cleaner.output.concentrate_au',\n",
       " 'primary_cleaner.output.tail_ag',\n",
       " 'primary_cleaner.output.tail_pb',\n",
       " 'primary_cleaner.output.tail_sol',\n",
       " 'primary_cleaner.output.tail_au',\n",
       " 'rougher.calculation.sulfate_to_au_concentrate',\n",
       " 'rougher.calculation.floatbank10_sulfate_to_au_feed',\n",
       " 'rougher.calculation.floatbank11_sulfate_to_au_feed',\n",
       " 'rougher.calculation.au_pb_ratio',\n",
       " 'rougher.output.concentrate_ag',\n",
       " 'rougher.output.concentrate_pb',\n",
       " 'rougher.output.concentrate_sol',\n",
       " 'rougher.output.concentrate_au',\n",
       " 'rougher.output.recovery',\n",
       " 'rougher.output.tail_ag',\n",
       " 'rougher.output.tail_pb',\n",
       " 'rougher.output.tail_sol',\n",
       " 'rougher.output.tail_au',\n",
       " 'secondary_cleaner.output.tail_ag',\n",
       " 'secondary_cleaner.output.tail_pb',\n",
       " 'secondary_cleaner.output.tail_sol',\n",
       " 'secondary_cleaner.output.tail_au']"
      ]
     },
     "execution_count": 6,
     "metadata": {},
     "output_type": "execute_result"
    }
   ],
   "source": [
    "print('Признаки, недоступные в тестовой выборке:')\n",
    "list(df_full.columns[~(df_full.columns.isin(df_test.columns))])"
   ]
  },
  {
   "cell_type": "markdown",
   "id": "f9130648",
   "metadata": {},
   "source": [
    "В df_test отсутсвуют все параметры принадлежащие типу output и типу calculation. Т.е. присутствуют вводные параметры сырья и параметры, характеризующие текущее состояние этапа, но отсутствуют параметры выходящего продукта и расчётные характеристики. Тестовая выборка составлена только из данных с параметрами добычи и очистки, что предполагает обучение модели только на этих данных, поскольку остальные данные являются результатом обработки и неизвестны до запуска предприятия.\n",
    "\n",
    "Зафиксируем список признаков для обучения в educational_columns, исключив идентификационный признак date."
   ]
  },
  {
   "cell_type": "code",
   "execution_count": 7,
   "id": "8c2bc027",
   "metadata": {},
   "outputs": [],
   "source": [
    "educational_columns = df_test.columns.drop('date')"
   ]
  },
  {
   "cell_type": "markdown",
   "id": "1f210a59",
   "metadata": {},
   "source": [
    "###  Проведём предобработку данных."
   ]
  },
  {
   "cell_type": "code",
   "execution_count": 8,
   "id": "f51aa962",
   "metadata": {
    "scrolled": false
   },
   "outputs": [
    {
     "name": "stdout",
     "output_type": "stream",
     "text": [
      "Количество уникальных значений df_full['date']: 19439\n",
      "Количество строк df_full                        19439\n"
     ]
    }
   ],
   "source": [
    "print('Количество уникальных значений df_full[\\'date\\']:', len(df_full['date'].unique()))\n",
    "print('Количество строк df_full                       ', len(df_full))"
   ]
  },
  {
   "cell_type": "markdown",
   "id": "20b56eda",
   "metadata": {},
   "source": [
    "Каждое значение date является уникальным, а из описания проекта следует, что соседние по времени параметры часто похожи. Для заполнения пропусков близкими по времени значениями воспользуемся методом ffill, а недостающие признаки в df_test добавим из df_full."
   ]
  },
  {
   "cell_type": "code",
   "execution_count": 9,
   "id": "e0d2d115",
   "metadata": {
    "scrolled": true
   },
   "outputs": [
    {
     "name": "stdout",
     "output_type": "stream",
     "text": [
      "Количество пропусков в df_train: 0\n",
      "Количество пропусков в df_test: 0\n",
      "Количество пропусков в df_full: 0\n"
     ]
    }
   ],
   "source": [
    "df_full = df_full.sort_values(by='date').ffill()\n",
    "df_train = df_train[['date']].merge(df_full, on='date', how='left')\n",
    "df_test = df_test[['date']].merge(df_full, on='date', how='left')\n",
    "\n",
    "print('Количество пропусков в df_train:', df_train.isna().sum().sum())\n",
    "print('Количество пропусков в df_test:', df_test.isna().sum().sum())\n",
    "print('Количество пропусков в df_full:', df_full.isna().sum().sum())"
   ]
  },
  {
   "cell_type": "markdown",
   "id": "87b20e95",
   "metadata": {},
   "source": [
    "## Анализ данных"
   ]
  },
  {
   "cell_type": "markdown",
   "id": "ef6d2719",
   "metadata": {},
   "source": [
    "### Посмотрим, как меняется концентрация металлов (Au, Ag, Pb) на различных этапах очистки. Опишем выводы."
   ]
  },
  {
   "cell_type": "code",
   "execution_count": 10,
   "id": "b82d7722",
   "metadata": {
    "scrolled": true
   },
   "outputs": [
    {
     "data": {
      "image/png": "[encoded data removed]",
      "text/plain": [
       "<Figure size 864x432 with 1 Axes>"
      ]
     },
     "metadata": {
      "needs_background": "light"
     },
     "output_type": "display_data"
    }
   ],
   "source": [
    "ax = df_full.plot(kind='hist',\n",
    "                  y='rougher.output.concentrate_au',\n",
    "                  histtype='step',\n",
    "                  ylim=(0, 6000),\n",
    "                  figsize=(12, 6),\n",
    "                  bins=50,\n",
    "                  linewidth=3,\n",
    "                  alpha=1,\n",
    "                  label='rougher.output.concentrate_au',\n",
    "                  legend=True)\n",
    "df_full.plot(kind='hist',\n",
    "             y='primary_cleaner.output.concentrate_au',\n",
    "             histtype='step',\n",
    "             figsize=(12, 6),\n",
    "             bins=50,\n",
    "             linewidth=3,\n",
    "             alpha=1,\n",
    "             label='primary_cleaner.output.concentrate_au',\n",
    "             ax=ax)\n",
    "df_full.plot(kind='hist',\n",
    "             y='final.output.concentrate_au',\n",
    "             histtype='step',\n",
    "             bins=50,\n",
    "             linewidth=3,\n",
    "             alpha=1,\n",
    "             label='final.output.concentrate_au',\n",
    "             ax=ax,\n",
    "             grid=True)\n",
    "plt.show()"
   ]
  },
  {
   "cell_type": "markdown",
   "id": "23a3eef4",
   "metadata": {},
   "source": [
    "Концентрация au с каждым этапом обработки увеличивается и достигает максимума после финального этапа. Накждом этапе присутствуют концентраты с нулевым содержанием au. Количество таких концентратов уменьшается после каждого этапа обработки."
   ]
  },
  {
   "cell_type": "code",
   "execution_count": 11,
   "id": "13f5d09b",
   "metadata": {
    "scrolled": true
   },
   "outputs": [
    {
     "data": {
      "image/png": "[encoded data removed]",
      "text/plain": [
       "<Figure size 864x432 with 1 Axes>"
      ]
     },
     "metadata": {
      "needs_background": "light"
     },
     "output_type": "display_data"
    }
   ],
   "source": [
    "ax = df_full.plot(kind='hist',\n",
    "                  y='rougher.output.concentrate_ag',\n",
    "                  histtype='step',\n",
    "                  ylim=(0, 3000),\n",
    "                  figsize=(12, 6),\n",
    "                  bins=50,\n",
    "                  linewidth=3,\n",
    "                  alpha=1,\n",
    "                  label='rougher.output.concentrate_ag',\n",
    "                  legend=True)\n",
    "df_full.plot(kind='hist',\n",
    "             y='primary_cleaner.output.concentrate_ag',\n",
    "             histtype='step',\n",
    "             figsize=(12, 6),\n",
    "             bins=50,\n",
    "             linewidth=3,\n",
    "             alpha=1,\n",
    "             label='primary_cleaner.output.concentrate_ag',\n",
    "             ax=ax)\n",
    "df_full.plot(kind='hist',\n",
    "             y='final.output.concentrate_ag',\n",
    "             histtype='step',\n",
    "             bins=50,\n",
    "             linewidth=3,\n",
    "             alpha=1,\n",
    "             label='final.output.concentrate_ag',\n",
    "             ax=ax,\n",
    "             grid=True)\n",
    "plt.show()"
   ]
  },
  {
   "cell_type": "markdown",
   "id": "126b878f",
   "metadata": {},
   "source": [
    "Концентрация ag с каждым этапом обработки уменьшается и достигает минимума после финального этапа. Накждом этапе присутствуют концентраты с нулевым содержанием ag. Количество таких концентратов уменьшается после каждого этапа обработки."
   ]
  },
  {
   "cell_type": "code",
   "execution_count": 12,
   "id": "db4100b5",
   "metadata": {},
   "outputs": [
    {
     "data": {
      "image/png": "[encoded data removed]",
      "text/plain": [
       "<Figure size 864x432 with 1 Axes>"
      ]
     },
     "metadata": {
      "needs_background": "light"
     },
     "output_type": "display_data"
    }
   ],
   "source": [
    "ax = df_full.plot(kind='hist',\n",
    "                  y='rougher.output.concentrate_pb',\n",
    "                  histtype='step',\n",
    "                  ylim=(0, 3000),\n",
    "                  figsize=(12, 6),\n",
    "                  bins=50,\n",
    "                  linewidth=3,\n",
    "                  alpha=1,\n",
    "                  label='rougher.output.concentrate_pb',\n",
    "                  legend=True)\n",
    "df_full.plot(kind='hist',\n",
    "             y='primary_cleaner.output.concentrate_pb',\n",
    "             histtype='step',\n",
    "             figsize=(12, 6),\n",
    "             bins=50,\n",
    "             linewidth=3,\n",
    "             alpha=1,\n",
    "             label='primary_cleaner.output.concentrate_pb',\n",
    "             ax=ax)\n",
    "df_full.plot(kind='hist',\n",
    "             y='final.output.concentrate_pb',\n",
    "             histtype='step',\n",
    "             bins=50,\n",
    "             linewidth=3,\n",
    "             alpha=1,\n",
    "             label='final.output.concentrate_pb',\n",
    "             ax=ax,\n",
    "             grid=True)\n",
    "plt.show()"
   ]
  },
  {
   "cell_type": "markdown",
   "id": "e62ec2e1",
   "metadata": {},
   "source": [
    "После первого этапа обработки содержание pb в концентрате немного увеличивается. Затем содержание остаётся на прежнем уровне, но при этом количество средних значений снижается, а количество значений смещёных к максимальным и минимальным - увеличивается: распределение растёт. Накждом этапе присутствуют концентраты с нулевым содержанием pb. Количество таких концентратов уменьшается после каждого этапа обработки."
   ]
  },
  {
   "cell_type": "markdown",
   "id": "741132c5",
   "metadata": {},
   "source": [
    "### Сравним распределения размеров гранул сырья на обучающей и тестовой выборках. Если распределения сильно отличаются друг от друга, оценка модели будет неправильной."
   ]
  },
  {
   "cell_type": "code",
   "execution_count": 244,
   "id": "c660d687",
   "metadata": {
    "scrolled": false
   },
   "outputs": [
    {
     "data": {
      "image/png": "[encoded data removed]",
      "text/plain": [
       "<Figure size 864x432 with 1 Axes>"
      ]
     },
     "metadata": {
      "needs_background": "light"
     },
     "output_type": "display_data"
    }
   ],
   "source": [
    "ax = df_train.plot(kind='hist',\n",
    "                  y='rougher.input.feed_size',\n",
    "                  histtype='step',\n",
    "                  ylim=(0, 6000),\n",
    "                  figsize=(12, 6),\n",
    "                  bins=50,\n",
    "                  linewidth=3,\n",
    "                  alpha=1,\n",
    "                  label='train: rougher.input.feed_size',\n",
    "                  legend=True)\n",
    "df_test.plot(kind='hist',\n",
    "             y='rougher.input.feed_size',\n",
    "             histtype='step',\n",
    "             figsize=(12, 6),\n",
    "             bins=50,\n",
    "             linewidth=3,\n",
    "             alpha=1,\n",
    "             label='test: rougher.input.feed_size',\n",
    "             ax=ax)\n",
    "plt.show()"
   ]
  },
  {
   "cell_type": "code",
   "execution_count": 245,
   "id": "18de9208",
   "metadata": {},
   "outputs": [
    {
     "name": "stdout",
     "output_type": "stream",
     "text": [
      "Отношение средних значений размеров гранул:\n"
     ]
    },
    {
     "data": {
      "text/plain": [
       "1.0766200348502637"
      ]
     },
     "execution_count": 245,
     "metadata": {},
     "output_type": "execute_result"
    }
   ],
   "source": [
    "print('Отношение средних значений размеров гранул:')\n",
    "(df_train['rougher.input.feed_size'].mean() / \n",
    "df_test['rougher.input.feed_size'].mean())"
   ]
  },
  {
   "cell_type": "code",
   "execution_count": 246,
   "id": "26e1b961",
   "metadata": {},
   "outputs": [
    {
     "name": "stdout",
     "output_type": "stream",
     "text": [
      "Отношение медианных значений размеров гранул:\n"
     ]
    },
    {
     "data": {
      "text/plain": [
       "1.0869855522110683"
      ]
     },
     "execution_count": 246,
     "metadata": {},
     "output_type": "execute_result"
    }
   ],
   "source": [
    "print('Отношение медианных значений размеров гранул:')\n",
    "(df_train['rougher.input.feed_size'].median() / \n",
    "df_test['rougher.input.feed_size'].median())"
   ]
  },
  {
   "cell_type": "markdown",
   "id": "718abb8e",
   "metadata": {},
   "source": [
    "Распределения размеров гранул сырья на обучающей и тестовой выборках находятся в одинаковых диапазонах, динамика распределения схожа. Средние и медианные значения почти равны (отношение медианных и средних значений размеров гранул близки к еденице). Распределения не сильно отличаются друг от друга, оценка модели будет правильной."
   ]
  },
  {
   "cell_type": "code",
   "execution_count": 26,
   "id": "9e1ed6d5",
   "metadata": {
    "scrolled": true
   },
   "outputs": [
    {
     "data": {
      "image/png": "[encoded data removed]",
      "text/plain": [
       "<Figure size 432x288 with 1 Axes>"
      ]
     },
     "metadata": {
      "needs_background": "light"
     },
     "output_type": "display_data"
    }
   ],
   "source": [
    "df_train['rougher.input.feed_size'].hist(density=True, bins=30, alpha=.5)\n",
    "df_test['rougher.input.feed_size'].hist(density=True, bins=30, alpha=.5)\n",
    "plt.show()"
   ]
  },
  {
   "cell_type": "markdown",
   "id": "59e2aad8",
   "metadata": {},
   "source": [
    "### Исследуем суммарную концентрацию всех веществ на разных стадиях: в сырье, в черновом и финальном концентратах."
   ]
  },
  {
   "cell_type": "markdown",
   "id": "0caa01a3",
   "metadata": {},
   "source": [
    "Присвоим значения суммарных концентраций каждой партии сырья."
   ]
  },
  {
   "cell_type": "code",
   "execution_count": 247,
   "id": "e251a8d3",
   "metadata": {},
   "outputs": [],
   "source": [
    "df_full['rougher.output.concentrate_total'] = (\n",
    "    df_full[['rougher.output.concentrate_au',\n",
    "            'rougher.output.concentrate_ag',\n",
    "            'rougher.output.concentrate_pb',\n",
    "            'rougher.output.concentrate_sol']].sum(axis=1)\n",
    ")"
   ]
  },
  {
   "cell_type": "code",
   "execution_count": 248,
   "id": "ae7f08c1",
   "metadata": {},
   "outputs": [],
   "source": [
    "df_full['primary_cleaner.output.concentrate_total'] = (\n",
    "    df_full[['primary_cleaner.output.concentrate_au',\n",
    "            'primary_cleaner.output.concentrate_ag',\n",
    "            'primary_cleaner.output.concentrate_pb',\n",
    "            'primary_cleaner.output.concentrate_sol']].sum(axis=1)\n",
    ")"
   ]
  },
  {
   "cell_type": "code",
   "execution_count": 249,
   "id": "ae32345f",
   "metadata": {},
   "outputs": [],
   "source": [
    "df_full['final.output.concentrate_total'] = (\n",
    "    df_full[['final.output.concentrate_au',\n",
    "            'final.output.concentrate_ag',\n",
    "            'final.output.concentrate_pb',\n",
    "            'final.output.concentrate_sol']].sum(axis=1)\n",
    ")"
   ]
  },
  {
   "cell_type": "code",
   "execution_count": 250,
   "id": "89cbcf95",
   "metadata": {},
   "outputs": [
    {
     "name": "stdout",
     "output_type": "stream",
     "text": [
      "Количество значений df_full['rougher.output.concentrate_total'] равных \"0\"]: 394\n",
      "Количество значений df_full['primary_cleaner.output.concentrate_total'] равных \"0\"]: 108\n",
      "Количество значений df_full['final.output.concentrate_total'] равных \"0\"]: 98\n"
     ]
    }
   ],
   "source": [
    "print('Количество значений df_full[\\'rougher.output.concentrate_total\\'] равных \\\"0\\\"]:', \n",
    "len(df_full[df_full['rougher.output.concentrate_total'] == 0]))\n",
    "\n",
    "print('Количество значений df_full[\\'primary_cleaner.output.concentrate_total\\'] равных \\\"0\\\"]:', \n",
    "len(df_full[df_full['primary_cleaner.output.concentrate_total'] == 0]))\n",
    "\n",
    "print('Количество значений df_full[\\'final.output.concentrate_total\\'] равных \\\"0\\\"]:', \n",
    "len(df_full[df_full['final.output.concentrate_total'] == 0]))"
   ]
  },
  {
   "cell_type": "code",
   "execution_count": 251,
   "id": "940a669f",
   "metadata": {},
   "outputs": [
    {
     "name": "stdout",
     "output_type": "stream",
     "text": [
      "Количество партий с концентрацией веществ равной \"0\" после финальной обработки,\n",
      "так же имеющие концентрацию веществ равной \"0\" в исходном сырье:\n"
     ]
    },
    {
     "data": {
      "text/plain": [
       "2"
      ]
     },
     "execution_count": 251,
     "metadata": {},
     "output_type": "execute_result"
    }
   ],
   "source": [
    "print('Количество партий с концентрацией веществ равной \"0\" после финальной обработки,')\n",
    "print('так же имеющие концентрацию веществ равной \"0\" в исходном сырье:')\n",
    "\n",
    "len(df_full[(df_full['final.output.concentrate_total'] == 0) &\n",
    "    (df_full['rougher.output.concentrate_total'] == 0)])"
   ]
  },
  {
   "cell_type": "markdown",
   "id": "f67a0d31",
   "metadata": {},
   "source": [
    "Среди суммарных концентраций всех веществ на разных стадиях присутствуют значения равные \"0\".\n",
    "\n",
    "Логично утверждать, что в партиях с концентрацией равной \"0\" в поступающем сырье, после финальной обработки концентрация так же должна быть равна \"0\" по условиям технологического процесса. Значит после финальной стадии обработки количество партий с концентрацией веществ равной \"0\" может быть не меньше, чем количество партий с концентрацией веществ равной \"0\" в поступающем сырье. Учитывая, что это не так, а почти все партии имеющие в финальной стадии концентрацию равную \"0\" в начальном сырье имели концентрацию не равную \"0\", партии с концентрацией веществ на любой стадии равной \"0\" признаем выбросами и исключим их из таблиц."
   ]
  },
  {
   "cell_type": "code",
   "execution_count": 252,
   "id": "e6d8918c",
   "metadata": {
    "scrolled": false
   },
   "outputs": [
    {
     "name": "stdout",
     "output_type": "stream",
     "text": [
      "<class 'pandas.core.frame.DataFrame'>\n",
      "RangeIndex: 18848 entries, 0 to 18847\n",
      "Data columns (total 90 columns):\n",
      " #   Column                                              Non-Null Count  Dtype  \n",
      "---  ------                                              --------------  -----  \n",
      " 0   date                                                18848 non-null  object \n",
      " 1   final.output.concentrate_ag                         18848 non-null  float64\n",
      " 2   final.output.concentrate_pb                         18848 non-null  float64\n",
      " 3   final.output.concentrate_sol                        18848 non-null  float64\n",
      " 4   final.output.concentrate_au                         18848 non-null  float64\n",
      " 5   final.output.recovery                               18848 non-null  float64\n",
      " 6   final.output.tail_ag                                18848 non-null  float64\n",
      " 7   final.output.tail_pb                                18848 non-null  float64\n",
      " 8   final.output.tail_sol                               18848 non-null  float64\n",
      " 9   final.output.tail_au                                18848 non-null  float64\n",
      " 10  primary_cleaner.input.sulfate                       18848 non-null  float64\n",
      " 11  primary_cleaner.input.depressant                    18848 non-null  float64\n",
      " 12  primary_cleaner.input.feed_size                     18848 non-null  float64\n",
      " 13  primary_cleaner.input.xanthate                      18848 non-null  float64\n",
      " 14  primary_cleaner.output.concentrate_ag               18848 non-null  float64\n",
      " 15  primary_cleaner.output.concentrate_pb               18848 non-null  float64\n",
      " 16  primary_cleaner.output.concentrate_sol              18848 non-null  float64\n",
      " 17  primary_cleaner.output.concentrate_au               18848 non-null  float64\n",
      " 18  primary_cleaner.output.tail_ag                      18848 non-null  float64\n",
      " 19  primary_cleaner.output.tail_pb                      18848 non-null  float64\n",
      " 20  primary_cleaner.output.tail_sol                     18848 non-null  float64\n",
      " 21  primary_cleaner.output.tail_au                      18848 non-null  float64\n",
      " 22  primary_cleaner.state.floatbank8_a_air              18848 non-null  float64\n",
      " 23  primary_cleaner.state.floatbank8_a_level            18848 non-null  float64\n",
      " 24  primary_cleaner.state.floatbank8_b_air              18848 non-null  float64\n",
      " 25  primary_cleaner.state.floatbank8_b_level            18848 non-null  float64\n",
      " 26  primary_cleaner.state.floatbank8_c_air              18848 non-null  float64\n",
      " 27  primary_cleaner.state.floatbank8_c_level            18848 non-null  float64\n",
      " 28  primary_cleaner.state.floatbank8_d_air              18848 non-null  float64\n",
      " 29  primary_cleaner.state.floatbank8_d_level            18848 non-null  float64\n",
      " 30  rougher.calculation.sulfate_to_au_concentrate       18848 non-null  float64\n",
      " 31  rougher.calculation.floatbank10_sulfate_to_au_feed  18848 non-null  float64\n",
      " 32  rougher.calculation.floatbank11_sulfate_to_au_feed  18848 non-null  float64\n",
      " 33  rougher.calculation.au_pb_ratio                     18848 non-null  float64\n",
      " 34  rougher.input.feed_ag                               18848 non-null  float64\n",
      " 35  rougher.input.feed_pb                               18848 non-null  float64\n",
      " 36  rougher.input.feed_rate                             18848 non-null  float64\n",
      " 37  rougher.input.feed_size                             18848 non-null  float64\n",
      " 38  rougher.input.feed_sol                              18848 non-null  float64\n",
      " 39  rougher.input.feed_au                               18848 non-null  float64\n",
      " 40  rougher.input.floatbank10_sulfate                   18848 non-null  float64\n",
      " 41  rougher.input.floatbank10_xanthate                  18848 non-null  float64\n",
      " 42  rougher.input.floatbank11_sulfate                   18848 non-null  float64\n",
      " 43  rougher.input.floatbank11_xanthate                  18848 non-null  float64\n",
      " 44  rougher.output.concentrate_ag                       18848 non-null  float64\n",
      " 45  rougher.output.concentrate_pb                       18848 non-null  float64\n",
      " 46  rougher.output.concentrate_sol                      18848 non-null  float64\n",
      " 47  rougher.output.concentrate_au                       18848 non-null  float64\n",
      " 48  rougher.output.recovery                             18848 non-null  float64\n",
      " 49  rougher.output.tail_ag                              18848 non-null  float64\n",
      " 50  rougher.output.tail_pb                              18848 non-null  float64\n",
      " 51  rougher.output.tail_sol                             18848 non-null  float64\n",
      " 52  rougher.output.tail_au                              18848 non-null  float64\n",
      " 53  rougher.state.floatbank10_a_air                     18848 non-null  float64\n",
      " 54  rougher.state.floatbank10_a_level                   18848 non-null  float64\n",
      " 55  rougher.state.floatbank10_b_air                     18848 non-null  float64\n",
      " 56  rougher.state.floatbank10_b_level                   18848 non-null  float64\n",
      " 57  rougher.state.floatbank10_c_air                     18848 non-null  float64\n",
      " 58  rougher.state.floatbank10_c_level                   18848 non-null  float64\n",
      " 59  rougher.state.floatbank10_d_air                     18848 non-null  float64\n",
      " 60  rougher.state.floatbank10_d_level                   18848 non-null  float64\n",
      " 61  rougher.state.floatbank10_e_air                     18848 non-null  float64\n",
      " 62  rougher.state.floatbank10_e_level                   18848 non-null  float64\n",
      " 63  rougher.state.floatbank10_f_air                     18848 non-null  float64\n",
      " 64  rougher.state.floatbank10_f_level                   18848 non-null  float64\n",
      " 65  secondary_cleaner.output.tail_ag                    18848 non-null  float64\n",
      " 66  secondary_cleaner.output.tail_pb                    18848 non-null  float64\n",
      " 67  secondary_cleaner.output.tail_sol                   18848 non-null  float64\n",
      " 68  secondary_cleaner.output.tail_au                    18848 non-null  float64\n",
      " 69  secondary_cleaner.state.floatbank2_a_air            18848 non-null  float64\n",
      " 70  secondary_cleaner.state.floatbank2_a_level          18848 non-null  float64\n",
      " 71  secondary_cleaner.state.floatbank2_b_air            18848 non-null  float64\n",
      " 72  secondary_cleaner.state.floatbank2_b_level          18848 non-null  float64\n",
      " 73  secondary_cleaner.state.floatbank3_a_air            18848 non-null  float64\n",
      " 74  secondary_cleaner.state.floatbank3_a_level          18848 non-null  float64\n",
      " 75  secondary_cleaner.state.floatbank3_b_air            18848 non-null  float64\n",
      " 76  secondary_cleaner.state.floatbank3_b_level          18848 non-null  float64\n",
      " 77  secondary_cleaner.state.floatbank4_a_air            18848 non-null  float64\n",
      " 78  secondary_cleaner.state.floatbank4_a_level          18848 non-null  float64\n",
      " 79  secondary_cleaner.state.floatbank4_b_air            18848 non-null  float64\n",
      " 80  secondary_cleaner.state.floatbank4_b_level          18848 non-null  float64\n",
      " 81  secondary_cleaner.state.floatbank5_a_air            18848 non-null  float64\n",
      " 82  secondary_cleaner.state.floatbank5_a_level          18848 non-null  float64\n",
      " 83  secondary_cleaner.state.floatbank5_b_air            18848 non-null  float64\n",
      " 84  secondary_cleaner.state.floatbank5_b_level          18848 non-null  float64\n",
      " 85  secondary_cleaner.state.floatbank6_a_air            18848 non-null  float64\n",
      " 86  secondary_cleaner.state.floatbank6_a_level          18848 non-null  float64\n",
      " 87  rougher.output.concentrate_total                    18848 non-null  float64\n",
      " 88  primary_cleaner.output.concentrate_total            18848 non-null  float64\n",
      " 89  final.output.concentrate_total                      18848 non-null  float64\n",
      "dtypes: float64(89), object(1)\n",
      "memory usage: 12.9+ MB\n",
      "<class 'pandas.core.frame.DataFrame'>\n",
      "RangeIndex: 13725 entries, 0 to 13724\n",
      "Data columns (total 87 columns):\n",
      " #   Column                                              Non-Null Count  Dtype  \n",
      "---  ------                                              --------------  -----  \n",
      " 0   date                                                13725 non-null  object \n",
      " 1   final.output.concentrate_ag                         13725 non-null  float64\n",
      " 2   final.output.concentrate_pb                         13725 non-null  float64\n",
      " 3   final.output.concentrate_sol                        13725 non-null  float64\n",
      " 4   final.output.concentrate_au                         13725 non-null  float64\n",
      " 5   final.output.recovery                               13725 non-null  float64\n",
      " 6   final.output.tail_ag                                13725 non-null  float64\n",
      " 7   final.output.tail_pb                                13725 non-null  float64\n",
      " 8   final.output.tail_sol                               13725 non-null  float64\n",
      " 9   final.output.tail_au                                13725 non-null  float64\n",
      " 10  primary_cleaner.input.sulfate                       13725 non-null  float64\n",
      " 11  primary_cleaner.input.depressant                    13725 non-null  float64\n",
      " 12  primary_cleaner.input.feed_size                     13725 non-null  float64\n",
      " 13  primary_cleaner.input.xanthate                      13725 non-null  float64\n",
      " 14  primary_cleaner.output.concentrate_ag               13725 non-null  float64\n",
      " 15  primary_cleaner.output.concentrate_pb               13725 non-null  float64\n",
      " 16  primary_cleaner.output.concentrate_sol              13725 non-null  float64\n",
      " 17  primary_cleaner.output.concentrate_au               13725 non-null  float64\n",
      " 18  primary_cleaner.output.tail_ag                      13725 non-null  float64\n",
      " 19  primary_cleaner.output.tail_pb                      13725 non-null  float64\n",
      " 20  primary_cleaner.output.tail_sol                     13725 non-null  float64\n",
      " 21  primary_cleaner.output.tail_au                      13725 non-null  float64\n",
      " 22  primary_cleaner.state.floatbank8_a_air              13725 non-null  float64\n",
      " 23  primary_cleaner.state.floatbank8_a_level            13725 non-null  float64\n",
      " 24  primary_cleaner.state.floatbank8_b_air              13725 non-null  float64\n",
      " 25  primary_cleaner.state.floatbank8_b_level            13725 non-null  float64\n",
      " 26  primary_cleaner.state.floatbank8_c_air              13725 non-null  float64\n",
      " 27  primary_cleaner.state.floatbank8_c_level            13725 non-null  float64\n",
      " 28  primary_cleaner.state.floatbank8_d_air              13725 non-null  float64\n",
      " 29  primary_cleaner.state.floatbank8_d_level            13725 non-null  float64\n",
      " 30  rougher.calculation.sulfate_to_au_concentrate       13725 non-null  float64\n",
      " 31  rougher.calculation.floatbank10_sulfate_to_au_feed  13725 non-null  float64\n",
      " 32  rougher.calculation.floatbank11_sulfate_to_au_feed  13725 non-null  float64\n",
      " 33  rougher.calculation.au_pb_ratio                     13725 non-null  float64\n",
      " 34  rougher.input.feed_ag                               13725 non-null  float64\n",
      " 35  rougher.input.feed_pb                               13725 non-null  float64\n",
      " 36  rougher.input.feed_rate                             13725 non-null  float64\n",
      " 37  rougher.input.feed_size                             13725 non-null  float64\n",
      " 38  rougher.input.feed_sol                              13725 non-null  float64\n",
      " 39  rougher.input.feed_au                               13725 non-null  float64\n",
      " 40  rougher.input.floatbank10_sulfate                   13725 non-null  float64\n",
      " 41  rougher.input.floatbank10_xanthate                  13725 non-null  float64\n",
      " 42  rougher.input.floatbank11_sulfate                   13725 non-null  float64\n",
      " 43  rougher.input.floatbank11_xanthate                  13725 non-null  float64\n",
      " 44  rougher.output.concentrate_ag                       13725 non-null  float64\n",
      " 45  rougher.output.concentrate_pb                       13725 non-null  float64\n",
      " 46  rougher.output.concentrate_sol                      13725 non-null  float64\n",
      " 47  rougher.output.concentrate_au                       13725 non-null  float64\n",
      " 48  rougher.output.recovery                             13725 non-null  float64\n",
      " 49  rougher.output.tail_ag                              13725 non-null  float64\n",
      " 50  rougher.output.tail_pb                              13725 non-null  float64\n",
      " 51  rougher.output.tail_sol                             13725 non-null  float64\n",
      " 52  rougher.output.tail_au                              13725 non-null  float64\n",
      " 53  rougher.state.floatbank10_a_air                     13725 non-null  float64\n",
      " 54  rougher.state.floatbank10_a_level                   13725 non-null  float64\n",
      " 55  rougher.state.floatbank10_b_air                     13725 non-null  float64\n",
      " 56  rougher.state.floatbank10_b_level                   13725 non-null  float64\n",
      " 57  rougher.state.floatbank10_c_air                     13725 non-null  float64\n",
      " 58  rougher.state.floatbank10_c_level                   13725 non-null  float64\n",
      " 59  rougher.state.floatbank10_d_air                     13725 non-null  float64\n",
      " 60  rougher.state.floatbank10_d_level                   13725 non-null  float64\n",
      " 61  rougher.state.floatbank10_e_air                     13725 non-null  float64\n",
      " 62  rougher.state.floatbank10_e_level                   13725 non-null  float64\n",
      " 63  rougher.state.floatbank10_f_air                     13725 non-null  float64\n",
      " 64  rougher.state.floatbank10_f_level                   13725 non-null  float64\n",
      " 65  secondary_cleaner.output.tail_ag                    13725 non-null  float64\n",
      " 66  secondary_cleaner.output.tail_pb                    13725 non-null  float64\n",
      " 67  secondary_cleaner.output.tail_sol                   13725 non-null  float64\n",
      " 68  secondary_cleaner.output.tail_au                    13725 non-null  float64\n",
      " 69  secondary_cleaner.state.floatbank2_a_air            13725 non-null  float64\n",
      " 70  secondary_cleaner.state.floatbank2_a_level          13725 non-null  float64\n",
      " 71  secondary_cleaner.state.floatbank2_b_air            13725 non-null  float64\n",
      " 72  secondary_cleaner.state.floatbank2_b_level          13725 non-null  float64\n",
      " 73  secondary_cleaner.state.floatbank3_a_air            13725 non-null  float64\n",
      " 74  secondary_cleaner.state.floatbank3_a_level          13725 non-null  float64\n",
      " 75  secondary_cleaner.state.floatbank3_b_air            13725 non-null  float64\n",
      " 76  secondary_cleaner.state.floatbank3_b_level          13725 non-null  float64\n",
      " 77  secondary_cleaner.state.floatbank4_a_air            13725 non-null  float64\n",
      " 78  secondary_cleaner.state.floatbank4_a_level          13725 non-null  float64\n",
      " 79  secondary_cleaner.state.floatbank4_b_air            13725 non-null  float64\n",
      " 80  secondary_cleaner.state.floatbank4_b_level          13725 non-null  float64\n",
      " 81  secondary_cleaner.state.floatbank5_a_air            13725 non-null  float64\n",
      " 82  secondary_cleaner.state.floatbank5_a_level          13725 non-null  float64\n",
      " 83  secondary_cleaner.state.floatbank5_b_air            13725 non-null  float64\n",
      " 84  secondary_cleaner.state.floatbank5_b_level          13725 non-null  float64\n",
      " 85  secondary_cleaner.state.floatbank6_a_air            13725 non-null  float64\n",
      " 86  secondary_cleaner.state.floatbank6_a_level          13725 non-null  float64\n",
      "dtypes: float64(86), object(1)\n",
      "memory usage: 9.1+ MB\n",
      "<class 'pandas.core.frame.DataFrame'>\n",
      "RangeIndex: 5123 entries, 0 to 5122\n",
      "Data columns (total 87 columns):\n",
      " #   Column                                              Non-Null Count  Dtype  \n",
      "---  ------                                              --------------  -----  \n",
      " 0   date                                                5123 non-null   object \n",
      " 1   final.output.concentrate_ag                         5123 non-null   float64\n",
      " 2   final.output.concentrate_pb                         5123 non-null   float64\n",
      " 3   final.output.concentrate_sol                        5123 non-null   float64\n",
      " 4   final.output.concentrate_au                         5123 non-null   float64\n",
      " 5   final.output.recovery                               5123 non-null   float64\n",
      " 6   final.output.tail_ag                                5123 non-null   float64\n",
      " 7   final.output.tail_pb                                5123 non-null   float64\n",
      " 8   final.output.tail_sol                               5123 non-null   float64\n",
      " 9   final.output.tail_au                                5123 non-null   float64\n",
      " 10  primary_cleaner.input.sulfate                       5123 non-null   float64\n",
      " 11  primary_cleaner.input.depressant                    5123 non-null   float64\n",
      " 12  primary_cleaner.input.feed_size                     5123 non-null   float64\n",
      " 13  primary_cleaner.input.xanthate                      5123 non-null   float64\n",
      " 14  primary_cleaner.output.concentrate_ag               5123 non-null   float64\n",
      " 15  primary_cleaner.output.concentrate_pb               5123 non-null   float64\n",
      " 16  primary_cleaner.output.concentrate_sol              5123 non-null   float64\n",
      " 17  primary_cleaner.output.concentrate_au               5123 non-null   float64\n",
      " 18  primary_cleaner.output.tail_ag                      5123 non-null   float64\n",
      " 19  primary_cleaner.output.tail_pb                      5123 non-null   float64\n",
      " 20  primary_cleaner.output.tail_sol                     5123 non-null   float64\n",
      " 21  primary_cleaner.output.tail_au                      5123 non-null   float64\n",
      " 22  primary_cleaner.state.floatbank8_a_air              5123 non-null   float64\n",
      " 23  primary_cleaner.state.floatbank8_a_level            5123 non-null   float64\n",
      " 24  primary_cleaner.state.floatbank8_b_air              5123 non-null   float64\n",
      " 25  primary_cleaner.state.floatbank8_b_level            5123 non-null   float64\n",
      " 26  primary_cleaner.state.floatbank8_c_air              5123 non-null   float64\n",
      " 27  primary_cleaner.state.floatbank8_c_level            5123 non-null   float64\n",
      " 28  primary_cleaner.state.floatbank8_d_air              5123 non-null   float64\n",
      " 29  primary_cleaner.state.floatbank8_d_level            5123 non-null   float64\n",
      " 30  rougher.calculation.sulfate_to_au_concentrate       5123 non-null   float64\n",
      " 31  rougher.calculation.floatbank10_sulfate_to_au_feed  5123 non-null   float64\n",
      " 32  rougher.calculation.floatbank11_sulfate_to_au_feed  5123 non-null   float64\n",
      " 33  rougher.calculation.au_pb_ratio                     5123 non-null   float64\n",
      " 34  rougher.input.feed_ag                               5123 non-null   float64\n",
      " 35  rougher.input.feed_pb                               5123 non-null   float64\n",
      " 36  rougher.input.feed_rate                             5123 non-null   float64\n",
      " 37  rougher.input.feed_size                             5123 non-null   float64\n",
      " 38  rougher.input.feed_sol                              5123 non-null   float64\n",
      " 39  rougher.input.feed_au                               5123 non-null   float64\n",
      " 40  rougher.input.floatbank10_sulfate                   5123 non-null   float64\n",
      " 41  rougher.input.floatbank10_xanthate                  5123 non-null   float64\n",
      " 42  rougher.input.floatbank11_sulfate                   5123 non-null   float64\n",
      " 43  rougher.input.floatbank11_xanthate                  5123 non-null   float64\n",
      " 44  rougher.output.concentrate_ag                       5123 non-null   float64\n",
      " 45  rougher.output.concentrate_pb                       5123 non-null   float64\n",
      " 46  rougher.output.concentrate_sol                      5123 non-null   float64\n",
      " 47  rougher.output.concentrate_au                       5123 non-null   float64\n",
      " 48  rougher.output.recovery                             5123 non-null   float64\n",
      " 49  rougher.output.tail_ag                              5123 non-null   float64\n",
      " 50  rougher.output.tail_pb                              5123 non-null   float64\n",
      " 51  rougher.output.tail_sol                             5123 non-null   float64\n",
      " 52  rougher.output.tail_au                              5123 non-null   float64\n",
      " 53  rougher.state.floatbank10_a_air                     5123 non-null   float64\n",
      " 54  rougher.state.floatbank10_a_level                   5123 non-null   float64\n",
      " 55  rougher.state.floatbank10_b_air                     5123 non-null   float64\n",
      " 56  rougher.state.floatbank10_b_level                   5123 non-null   float64\n",
      " 57  rougher.state.floatbank10_c_air                     5123 non-null   float64\n",
      " 58  rougher.state.floatbank10_c_level                   5123 non-null   float64\n",
      " 59  rougher.state.floatbank10_d_air                     5123 non-null   float64\n",
      " 60  rougher.state.floatbank10_d_level                   5123 non-null   float64\n",
      " 61  rougher.state.floatbank10_e_air                     5123 non-null   float64\n",
      " 62  rougher.state.floatbank10_e_level                   5123 non-null   float64\n",
      " 63  rougher.state.floatbank10_f_air                     5123 non-null   float64\n",
      " 64  rougher.state.floatbank10_f_level                   5123 non-null   float64\n",
      " 65  secondary_cleaner.output.tail_ag                    5123 non-null   float64\n",
      " 66  secondary_cleaner.output.tail_pb                    5123 non-null   float64\n",
      " 67  secondary_cleaner.output.tail_sol                   5123 non-null   float64\n",
      " 68  secondary_cleaner.output.tail_au                    5123 non-null   float64\n",
      " 69  secondary_cleaner.state.floatbank2_a_air            5123 non-null   float64\n",
      " 70  secondary_cleaner.state.floatbank2_a_level          5123 non-null   float64\n",
      " 71  secondary_cleaner.state.floatbank2_b_air            5123 non-null   float64\n",
      " 72  secondary_cleaner.state.floatbank2_b_level          5123 non-null   float64\n",
      " 73  secondary_cleaner.state.floatbank3_a_air            5123 non-null   float64\n",
      " 74  secondary_cleaner.state.floatbank3_a_level          5123 non-null   float64\n",
      " 75  secondary_cleaner.state.floatbank3_b_air            5123 non-null   float64\n",
      " 76  secondary_cleaner.state.floatbank3_b_level          5123 non-null   float64\n",
      " 77  secondary_cleaner.state.floatbank4_a_air            5123 non-null   float64\n",
      " 78  secondary_cleaner.state.floatbank4_a_level          5123 non-null   float64\n",
      " 79  secondary_cleaner.state.floatbank4_b_air            5123 non-null   float64\n",
      " 80  secondary_cleaner.state.floatbank4_b_level          5123 non-null   float64\n",
      " 81  secondary_cleaner.state.floatbank5_a_air            5123 non-null   float64\n",
      " 82  secondary_cleaner.state.floatbank5_a_level          5123 non-null   float64\n",
      " 83  secondary_cleaner.state.floatbank5_b_air            5123 non-null   float64\n",
      " 84  secondary_cleaner.state.floatbank5_b_level          5123 non-null   float64\n",
      " 85  secondary_cleaner.state.floatbank6_a_air            5123 non-null   float64\n",
      " 86  secondary_cleaner.state.floatbank6_a_level          5123 non-null   float64\n",
      "dtypes: float64(86), object(1)\n",
      "memory usage: 3.4+ MB\n"
     ]
    }
   ],
   "source": [
    "drop_date = (\n",
    "    df_full[(df_full['rougher.output.concentrate_total'] == 0) |\n",
    "           (df_full['primary_cleaner.output.concentrate_total'] == 0) |\n",
    "           (df_full['final.output.concentrate_total'] == 0)]['date']\n",
    ")\n",
    "\n",
    "df_full = df_full[~df_full['date'].isin(drop_date)].reset_index(drop=True)\n",
    "df_train = df_train[~df_train['date'].isin(drop_date)].reset_index(drop=True)\n",
    "df_test = df_test[~df_test['date'].isin(drop_date)].reset_index(drop=True)\n",
    "\n",
    "df_full.info()\n",
    "df_train.info()\n",
    "df_test.info()"
   ]
  },
  {
   "cell_type": "markdown",
   "id": "3b7c1c3e",
   "metadata": {},
   "source": [
    "Данные подготовлены для построения модели."
   ]
  },
  {
   "cell_type": "markdown",
   "id": "7a03477f",
   "metadata": {},
   "source": [
    "## Модель"
   ]
  },
  {
   "cell_type": "markdown",
   "id": "d15dd2c9",
   "metadata": {},
   "source": [
    "Для решения задачи введём новую метрику качества — sMAPE (англ. Symmetric Mean Absolute Percentage Error, «симметричное среднее абсолютное процентное отклонение»).\n",
    "\n",
    "Она похожа на MAE, но выражается не в абсолютных величинах, а в относительных. Почему симметричная? Она одинаково учитывает масштаб и целевого признака, и предсказания.\n",
    "\n",
    "Метрика sMAPE вычисляется так:"
   ]
  },
  {
   "attachments": {
    "image.png": {
     "image/png": "[encoded data removed]"
    }
   },
   "cell_type": "markdown",
   "id": "094bc84e",
   "metadata": {},
   "source": [
    "![image.png](attachment:image.png)"
   ]
  },
  {
   "cell_type": "markdown",
   "id": "769850f2",
   "metadata": {},
   "source": [
    "Обозначения:"
   ]
  },
  {
   "attachments": {
    "image.png": {
     "image/png": "[encoded data removed]"
    }
   },
   "cell_type": "markdown",
   "id": "c69208b7",
   "metadata": {},
   "source": [
    "![image.png](attachment:image.png)"
   ]
  },
  {
   "cell_type": "markdown",
   "id": "8c97f59c",
   "metadata": {},
   "source": [
    "Значение целевого признака для объекта с порядковым номером i в выборке, на которой измеряется качество."
   ]
  },
  {
   "attachments": {
    "image.png": {
     "image/png": "[encoded data removed]"
    }
   },
   "cell_type": "markdown",
   "id": "b7e49d95",
   "metadata": {},
   "source": [
    "![image.png](attachment:image.png)"
   ]
  },
  {
   "cell_type": "markdown",
   "id": "20f197cc",
   "metadata": {},
   "source": [
    "Значение предсказания для объекта с порядковым номером i, например, в тестовой выборке."
   ]
  },
  {
   "attachments": {
    "image.png": {
     "image/png": "[encoded data removed]"
    }
   },
   "cell_type": "markdown",
   "id": "da45cbb3",
   "metadata": {},
   "source": [
    "![image.png](attachment:image.png)"
   ]
  },
  {
   "cell_type": "markdown",
   "id": "c1c95c3c",
   "metadata": {},
   "source": [
    "Количество объектов в выборке."
   ]
  },
  {
   "attachments": {
    "image.png": {
     "image/png": "[encoded data removed]"
    }
   },
   "cell_type": "markdown",
   "id": "5a2a01bf",
   "metadata": {},
   "source": [
    "![image.png](attachment:image.png)"
   ]
  },
  {
   "cell_type": "markdown",
   "id": "d9730836",
   "metadata": {},
   "source": [
    "Суммирование по всем объектам выборки (i меняется от 1 до N)."
   ]
  },
  {
   "cell_type": "markdown",
   "id": "b15f7351",
   "metadata": {},
   "source": [
    "Нужно спрогнозировать сразу две величины:\n",
    "* эффективность обогащения чернового концентрата rougher.output.recovery;\n",
    "* эффективность обогащения финального концентрата final.output.recovery.\n",
    "\n",
    "Итоговая метрика складывается из двух величин:"
   ]
  },
  {
   "attachments": {
    "image.png": {
     "image/png": "[encoded data removed]"
    }
   },
   "cell_type": "markdown",
   "id": "5c80a457",
   "metadata": {},
   "source": [
    "![image.png](attachment:image.png)"
   ]
  },
  {
   "cell_type": "markdown",
   "id": "a9df2d85",
   "metadata": {},
   "source": [
    "### Функция для вычисления итоговой sMAPE"
   ]
  },
  {
   "cell_type": "code",
   "execution_count": 253,
   "id": "f1dad177",
   "metadata": {},
   "outputs": [],
   "source": [
    "def result_sMAPE(target_rougher, predict_rougher, target_final, predict_final):\n",
    "    sMAPE_rougher = (\n",
    "        (abs(target_rougher - predict_rougher) /\n",
    "        ((abs(target_rougher) + abs(predict_rougher)) / 2)\n",
    "    ).sum() / len(target_rougher)) * 100\n",
    "    \n",
    "    sMAPE_final = (\n",
    "        (abs(target_final - predict_final) /\n",
    "        ((abs(target_final) + abs(predict_final)) / 2)\n",
    "    ).sum() / len(target_final)) * 100\n",
    "    \n",
    "    return (.25 * sMAPE_rougher) + (.75 * sMAPE_final)"
   ]
  },
  {
   "cell_type": "markdown",
   "id": "16ca71aa",
   "metadata": {},
   "source": [
    "### Функция для кросс-валидации"
   ]
  },
  {
   "cell_type": "code",
   "execution_count": 254,
   "id": "8d73e83c",
   "metadata": {},
   "outputs": [],
   "source": [
    "def cross_validation(model, divider):\n",
    "    scores = []\n",
    "    sample_size = int(len(df_train)/divider)\n",
    "    \n",
    "    for i in range(0, len(df_train), sample_size):\n",
    "        m = i + sample_size\n",
    "        if m > len(df_train):\n",
    "            m = len(df_train)\n",
    "        valid_indexes = range(i, m)\n",
    "        train_indexes = df_train.index.drop(valid_indexes)\n",
    "        features_train = df_train[educational_columns].loc[train_indexes]\n",
    "        target_train = df_train['rougher.output.recovery'].loc[train_indexes]\n",
    "        features_valid = df_train[educational_columns].loc[valid_indexes]\n",
    "        target_rougher = df_train['rougher.output.recovery'].loc[valid_indexes]\n",
    "        \n",
    "        scaler.fit(features_train)\n",
    "        features_train[features_train.columns] = scaler.transform(features_train[features_train.columns])\n",
    "        features_valid[features_valid.columns] = scaler.transform(features_valid[features_valid.columns])\n",
    "        \n",
    "        model.fit(features_train, target_train)\n",
    "        predict_rougher = model.predict(features_valid)\n",
    "        \n",
    "        target_train = df_train['final.output.recovery'].loc[train_indexes]\n",
    "        target_final = df_train['final.output.recovery'].loc[valid_indexes]\n",
    "        \n",
    "        model.fit(features_train, target_train)\n",
    "        predict_final = model.predict(features_valid)\n",
    "        \n",
    "        score = result_sMAPE(\n",
    "            target_rougher, predict_rougher,\n",
    "            target_final, predict_final\n",
    "        )\n",
    "        \n",
    "        scores.append(score)\n",
    "    final_score = pd.Series(scores).mean()\n",
    "    return final_score"
   ]
  },
  {
   "cell_type": "code",
   "execution_count": 27,
   "id": "6cb0759f",
   "metadata": {},
   "outputs": [],
   "source": [
    "from sklearn.model_selection import cross_val_score"
   ]
  },
  {
   "cell_type": "markdown",
   "id": "2a0f9406",
   "metadata": {},
   "source": [
    "### Обучим разные модели и оценим их качество кросс-валидацией. Выберем лучшую модель и проверем её на тестовой выборке."
   ]
  },
  {
   "cell_type": "markdown",
   "id": "17db48ed",
   "metadata": {},
   "source": [
    "Наименьшее отклонение sMAPE определит наилучшую модель."
   ]
  },
  {
   "cell_type": "markdown",
   "id": "8a76b28d",
   "metadata": {},
   "source": [
    "#### модель LinearRegression"
   ]
  },
  {
   "cell_type": "code",
   "execution_count": 259,
   "id": "817057c2",
   "metadata": {
    "scrolled": true
   },
   "outputs": [
    {
     "name": "stdout",
     "output_type": "stream",
     "text": [
      "Модель - LinearRegression.\n",
      "--------------------------------------------------\n",
      "Средняя оценка качества модели result_sMAPE: 9.09 %\n"
     ]
    }
   ],
   "source": [
    "model = LinearRegression()\n",
    "print('Модель - LinearRegression.')\n",
    "print('-'*50)\n",
    "\n",
    "final_score = cross_validation(model, 7)\n",
    "print('Средняя оценка качества модели result_sMAPE:', final_score.round(2), '%')"
   ]
  },
  {
   "cell_type": "markdown",
   "id": "7f6f012c",
   "metadata": {},
   "source": [
    "#### модель DecisionTreeRegressor"
   ]
  },
  {
   "cell_type": "code",
   "execution_count": 260,
   "id": "6f543fc8",
   "metadata": {},
   "outputs": [
    {
     "name": "stdout",
     "output_type": "stream",
     "text": [
      "Модель - DecisionTreeRegressor.\n",
      "--------------------------------------------------\n",
      "\"Глубина дерева\": 1 , result_sMAPE: 8.78 %\n",
      "\"Глубина дерева\": 2 , result_sMAPE: 8.46 %\n",
      "\"Глубина дерева\": 3 , result_sMAPE: 8.24 %\n",
      "\"Глубина дерева\": 4 , result_sMAPE: 8.24 %\n",
      "\"Глубина дерева\": 5 , result_sMAPE: 8.18 %\n",
      "\"Глубина дерева\": 6 , result_sMAPE: 8.33 %\n",
      "\"Глубина дерева\": 7 , result_sMAPE: 9.4 %\n",
      "\"Глубина дерева\": 8 , result_sMAPE: 9.67 %\n",
      "\"Глубина дерева\": 9 , result_sMAPE: 9.56 %\n",
      "--------------------------------------------------\n",
      "Наилучший параметр \"Глубина дерева\" для модели: 5\n",
      "Наилучшая средняя оценка качества модели result_sMAPE: 8.18 %\n"
     ]
    }
   ],
   "source": [
    "print('Модель - DecisionTreeRegressor.')\n",
    "print('-'*50)\n",
    "\n",
    "best_result = 10000\n",
    "best_depth = 0\n",
    "\n",
    "for depth in range(1, 10):\n",
    "    model = DecisionTreeRegressor(random_state=12345, max_depth=depth)\n",
    "    \n",
    "    final_score = cross_validation(model, 7)\n",
    "    print('\\\"Глубина дерева\\\":', depth, ', result_sMAPE:', final_score.round(2), '%')\n",
    "    \n",
    "    if final_score < best_result:\n",
    "        best_result = final_score\n",
    "        best_depth = depth\n",
    "print('-'*50)\n",
    "print(\"Наилучший параметр \\\"Глубина дерева\\\" для модели:\", best_depth)\n",
    "print('Наилучшая средняя оценка качества модели result_sMAPE:', best_result.round(2), '%')"
   ]
  },
  {
   "cell_type": "markdown",
   "id": "d2ea828b",
   "metadata": {},
   "source": [
    "#### Модель RandomForestRegressor"
   ]
  },
  {
   "cell_type": "code",
   "execution_count": 261,
   "id": "599fb56a",
   "metadata": {},
   "outputs": [
    {
     "name": "stdout",
     "output_type": "stream",
     "text": [
      "Модель - RandomForestRegressor.\n",
      "----------------------------------------------------------------------\n",
      "\"Количество деревьев\": 10 , \"Глубина дерева\": 1 , result_sMAPE: 8.7 %\n",
      "\"Количество деревьев\": 10 , \"Глубина дерева\": 2 , result_sMAPE: 8.28 %\n",
      "\"Количество деревьев\": 10 , \"Глубина дерева\": 3 , result_sMAPE: 7.97 %\n",
      "\"Количество деревьев\": 10 , \"Глубина дерева\": 4 , result_sMAPE: 7.96 %\n",
      "\"Количество деревьев\": 10 , \"Глубина дерева\": 5 , result_sMAPE: 7.69 %\n",
      "\"Количество деревьев\": 10 , \"Глубина дерева\": 6 , result_sMAPE: 7.61 %\n",
      "\"Количество деревьев\": 10 , \"Глубина дерева\": 7 , result_sMAPE: 7.81 %\n",
      "\"Количество деревьев\": 10 , \"Глубина дерева\": 8 , result_sMAPE: 8.18 %\n",
      "\"Количество деревьев\": 10 , \"Глубина дерева\": 9 , result_sMAPE: 8.27 %\n",
      "\"Количество деревьев\": 20 , \"Глубина дерева\": 1 , result_sMAPE: 8.73 %\n",
      "\"Количество деревьев\": 20 , \"Глубина дерева\": 2 , result_sMAPE: 8.28 %\n",
      "\"Количество деревьев\": 20 , \"Глубина дерева\": 3 , result_sMAPE: 7.92 %\n",
      "\"Количество деревьев\": 20 , \"Глубина дерева\": 4 , result_sMAPE: 7.93 %\n",
      "\"Количество деревьев\": 20 , \"Глубина дерева\": 5 , result_sMAPE: 7.63 %\n",
      "\"Количество деревьев\": 20 , \"Глубина дерева\": 6 , result_sMAPE: 7.64 %\n",
      "\"Количество деревьев\": 20 , \"Глубина дерева\": 7 , result_sMAPE: 7.72 %\n",
      "\"Количество деревьев\": 20 , \"Глубина дерева\": 8 , result_sMAPE: 7.98 %\n",
      "\"Количество деревьев\": 20 , \"Глубина дерева\": 9 , result_sMAPE: 7.9 %\n",
      "\"Количество деревьев\": 30 , \"Глубина дерева\": 1 , result_sMAPE: 8.77 %\n",
      "\"Количество деревьев\": 30 , \"Глубина дерева\": 2 , result_sMAPE: 8.3 %\n",
      "\"Количество деревьев\": 30 , \"Глубина дерева\": 3 , result_sMAPE: 7.96 %\n",
      "\"Количество деревьев\": 30 , \"Глубина дерева\": 4 , result_sMAPE: 7.92 %\n",
      "\"Количество деревьев\": 30 , \"Глубина дерева\": 5 , result_sMAPE: 7.66 %\n",
      "\"Количество деревьев\": 30 , \"Глубина дерева\": 6 , result_sMAPE: 7.63 %\n",
      "\"Количество деревьев\": 30 , \"Глубина дерева\": 7 , result_sMAPE: 7.69 %\n",
      "\"Количество деревьев\": 30 , \"Глубина дерева\": 8 , result_sMAPE: 7.83 %\n",
      "\"Количество деревьев\": 30 , \"Глубина дерева\": 9 , result_sMAPE: 7.84 %\n",
      "----------------------------------------------------------------------\n",
      "Наилучший параметр \"Количество деревьев\" для модели: 10\n",
      "Наилучший параметр \"Глубина дерева\" для модели: 6\n",
      "Наилучшая средняя оценка качества модели result_sMAPE: 7.61 %\n"
     ]
    }
   ],
   "source": [
    "print('Модель - RandomForestRegressor.')\n",
    "print('-'*70)\n",
    "\n",
    "best_result = 10000\n",
    "best_est = 0\n",
    "best_depth = 0\n",
    "\n",
    "for est in range(10, 31, 10):\n",
    "    for depth in range(1, 10):\n",
    "        model = RandomForestRegressor(random_state=12345, max_depth=depth, n_estimators=est)\n",
    "        \n",
    "        final_score = cross_validation(model, 7)\n",
    "\n",
    "        print('\\\"Количество деревьев\\\":', est, ', \\\"Глубина дерева\\\":', depth, ', result_sMAPE:', final_score.round(2), '%')\n",
    "        \n",
    "        if final_score < best_result:\n",
    "            best_result = final_score\n",
    "            best_est = est\n",
    "            best_depth = depth\n",
    "            \n",
    "print('-'*70)\n",
    "print(\"Наилучший параметр \\\"Количество деревьев\\\" для модели:\", best_est)\n",
    "print(\"Наилучший параметр \\\"Глубина дерева\\\" для модели:\", best_depth)\n",
    "print('Наилучшая средняя оценка качества модели result_sMAPE:', best_result.round(2), '%')"
   ]
  },
  {
   "cell_type": "markdown",
   "id": "b12fc132",
   "metadata": {},
   "source": [
    "# Наилучшая модель:\n",
    "\n",
    "RandomForestRegressor(random_state=12345, max_depth=6, n_estimators=10)"
   ]
  },
  {
   "cell_type": "code",
   "execution_count": 262,
   "id": "2865e349",
   "metadata": {},
   "outputs": [],
   "source": [
    "# Там, ниже, что-то всё \"порозовело\", поэтому:\n",
    "import warnings\n",
    "warnings.filterwarnings('ignore')"
   ]
  },
  {
   "cell_type": "code",
   "execution_count": 268,
   "id": "34b95f85",
   "metadata": {},
   "outputs": [
    {
     "name": "stdout",
     "output_type": "stream",
     "text": [
      "RandomForestRegressor(random_state=12345, max_depth=6, n_estimators=10).\n",
      "----------------------------------------------------------------------\n",
      "Оценка качества result_sMAPE на тестовой выборке: 7.31 %\n"
     ]
    }
   ],
   "source": [
    "model = RandomForestRegressor(random_state=12345, max_depth=6, n_estimators=10)\n",
    "print('RandomForestRegressor(random_state=12345, max_depth=6, n_estimators=10).')\n",
    "print('-'*70)\n",
    "\n",
    "features_train = df_train[educational_columns]\n",
    "target_train = df_train['rougher.output.recovery']\n",
    "features_valid = df_test[educational_columns]\n",
    "target_rougher = df_test['rougher.output.recovery']\n",
    "\n",
    "scaler.fit(features_train)\n",
    "features_train[features_train.columns] = scaler.transform(features_train[features_train.columns])\n",
    "features_valid[features_valid.columns] = scaler.transform(features_valid[features_valid.columns])\n",
    "\n",
    "model.fit(features_train, target_train)\n",
    "predict_rougher = model.predict(features_valid)\n",
    "\n",
    "target_train = df_train['final.output.recovery']\n",
    "target_final = df_test['final.output.recovery']\n",
    "\n",
    "model.fit(features_train, target_train)\n",
    "predict_final = model.predict(features_valid)\n",
    "\n",
    "score = result_sMAPE(\n",
    "    target_rougher, predict_rougher,\n",
    "    target_final, predict_final\n",
    ")\n",
    "\n",
    "print('Оценка качества result_sMAPE на тестовой выборке:', score.round(2), '%')"
   ]
  },
  {
   "cell_type": "markdown",
   "id": "67266704",
   "metadata": {},
   "source": [
    "## Вывод"
   ]
  },
  {
   "cell_type": "markdown",
   "id": "8ddd3da1",
   "metadata": {},
   "source": [
    "Наилучшие результаты показала модель RandomForestRegressor(random_state=12345, max_depth=5, n_estimators=10).\n",
    "\n",
    "На тестовой выборке result_sMAPE: 7.31 %"
   ]
  },
  {
   "cell_type": "code",
   "execution_count": null,
   "id": "17210c6e",
   "metadata": {},
   "outputs": [],
   "source": []
  }
 ],
 "metadata": {
  "kernelspec": {
   "display_name": "Python 3 (ipykernel)",
   "language": "python",
   "name": "python3"
  },
  "language_info": {
   "codemirror_mode": {
    "name": "ipython",
    "version": 3
   },
   "file_extension": ".py",
   "mimetype": "text/x-python",
   "name": "python",
   "nbconvert_exporter": "python",
   "pygments_lexer": "ipython3",
   "version": "3.9.5"
  },
  "toc": {
   "base_numbering": 1,
   "nav_menu": {},
   "number_sections": true,
   "sideBar": true,
   "skip_h1_title": true,
   "title_cell": "Table of Contents",
   "title_sidebar": "Contents",
   "toc_cell": false,
   "toc_position": {},
   "toc_section_display": true,
   "toc_window_display": false
  }
 },
 "nbformat": 4,
 "nbformat_minor": 5
}
