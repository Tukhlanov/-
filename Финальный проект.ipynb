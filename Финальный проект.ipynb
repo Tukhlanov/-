{
 "cells": [
  {
   "cell_type": "code",
   "execution_count": 99,
   "id": "ba681352",
   "metadata": {},
   "outputs": [],
   "source": [
    "from sklearn.linear_model import LinearRegression\n",
    "from sklearn.ensemble import RandomForestRegressor\n",
    "from sklearn.tree import DecisionTreeRegressor\n",
    "from catboost import CatBoostRegressor\n",
    "from lightgbm import LGBMRegressor\n",
    "\n",
    "\n",
    "from sklearn.feature_selection import GenericUnivariateSelect, chi2\n",
    "from sklearn.feature_selection import mutual_info_regression\n",
    "\n",
    "\n",
    "from sklearn.metrics import mean_absolute_error, make_scorer\n",
    "from sklearn.model_selection import GridSearchCV\n",
    "\n",
    "import matplotlib.pyplot as plt\n",
    "import pandas as pd\n",
    "\n",
    "from sklearn.model_selection import train_test_split"
   ]
  },
  {
   "cell_type": "markdown",
   "id": "9a01a3eb",
   "metadata": {},
   "source": [
    "# Финальный проект DS_32 (Промышленность)\n",
    "Студент: Тухланов Ярослав "
   ]
  },
  {
   "cell_type": "markdown",
   "id": "00790087",
   "metadata": {},
   "source": [
    "## Описание проекта\n",
    "\n",
    "Чтобы оптимизировать производственные расходы, металлургический комбинат ООО «Так закаляем сталь» решил уменьшить потребление электроэнергии на этапе обработки стали. Вам предстоит построить модель, которая предскажет температуру стали.\n",
    "\n",
    "### Описание этапа обработки\n",
    "\n",
    "Сталь обрабатывают в металлическом ковше вместимостью около 100 тонн. Чтобы ковш выдерживал высокие температуры, изнутри его облицовывают огнеупорным кирпичом. Расплавленную сталь заливают в ковш и подогревают до нужной температуры графитовыми электродами. Они установлены в крышке ковша. \n",
    "\n",
    "Из сплава выводится сера (десульфурация), добавлением примесей корректируется химический состав и отбираются пробы. Сталь легируют — изменяют её состав — подавая куски сплава из бункера для сыпучих материалов или проволоку через специальный трайб-аппарат (англ. tribe, «масса»).\n",
    "\n",
    "Перед тем как первый раз ввести легирующие добавки, измеряют температуру стали и производят её химический анализ. Потом температуру на несколько минут повышают, добавляют легирующие материалы и продувают сплав инертным газом. Затем его перемешивают и снова проводят измерения. Такой цикл повторяется до достижения целевого химического состава и оптимальной температуры плавки.\n",
    "\n",
    "Тогда расплавленная сталь отправляется на доводку металла или поступает в машину непрерывной разливки. Оттуда готовый продукт выходит в виде заготовок-слябов (англ. *slab*, «плита»).\n",
    "\n",
    "### Описание данных\n",
    "\n",
    "Данные состоят из файлов, полученных из разных источников:\n",
    "\n",
    "- `data_arc.csv` — данные об электродах;\n",
    "- `data_bulk.csv` — данные о подаче сыпучих материалов (объём);\n",
    "- `data_bulk_time.csv` *—* данные о подаче сыпучих материалов (время);\n",
    "- `data_gas.csv` — данные о продувке сплава газом;\n",
    "- `data_temp.csv` — результаты измерения температуры;\n",
    "- `data_wire.csv` — данные о проволочных материалах (объём);\n",
    "- `data_wire_time.csv` — данные о проволочных материалах (время).\n",
    "\n",
    "Во всех файлах столбец `key` содержит номер партии. В файлах может быть несколько строк с одинаковым значением `key`: они соответствуют разным итерациям обработки.\n",
    "\n",
    "### Данные\n",
    "\n",
    "[final_steel.zip](https://s3-us-west-2.amazonaws.com/secure.notion-static.com/f3fbea3a-263d-4e1c-babd-0bf07920c911/final_steel.zip)\n",
    "\n",
    "Данные также находятся в тренажёре, в папке `/datasets/final_steel/`."
   ]
  },
  {
   "cell_type": "markdown",
   "id": "8dd2a4cc",
   "metadata": {},
   "source": [
    "## Исследовательский анализ данных "
   ]
  },
  {
   "cell_type": "markdown",
   "id": "14c9f546",
   "metadata": {},
   "source": [
    "### данные об электродах"
   ]
  },
  {
   "cell_type": "code",
   "execution_count": 100,
   "id": "0d6ed80c",
   "metadata": {
    "scrolled": false
   },
   "outputs": [
    {
     "data": {
      "text/html": [
       "<div>\n",
       "<style scoped>\n",
       "    .dataframe tbody tr th:only-of-type {\n",
       "        vertical-align: middle;\n",
       "    }\n",
       "\n",
       "    .dataframe tbody tr th {\n",
       "        vertical-align: top;\n",
       "    }\n",
       "\n",
       "    .dataframe thead th {\n",
       "        text-align: right;\n",
       "    }\n",
       "</style>\n",
       "<table border=\"1\" class=\"dataframe\">\n",
       "  <thead>\n",
       "    <tr style=\"text-align: right;\">\n",
       "      <th></th>\n",
       "      <th>key</th>\n",
       "      <th>Начало нагрева дугой</th>\n",
       "      <th>Конец нагрева дугой</th>\n",
       "      <th>Активная мощность</th>\n",
       "      <th>Реактивная мощность</th>\n",
       "    </tr>\n",
       "  </thead>\n",
       "  <tbody>\n",
       "    <tr>\n",
       "      <th>0</th>\n",
       "      <td>1</td>\n",
       "      <td>2019-05-03 11:02:14</td>\n",
       "      <td>2019-05-03 11:06:02</td>\n",
       "      <td>0.976059</td>\n",
       "      <td>0.687084</td>\n",
       "    </tr>\n",
       "    <tr>\n",
       "      <th>1</th>\n",
       "      <td>1</td>\n",
       "      <td>2019-05-03 11:07:28</td>\n",
       "      <td>2019-05-03 11:10:33</td>\n",
       "      <td>0.805607</td>\n",
       "      <td>0.520285</td>\n",
       "    </tr>\n",
       "    <tr>\n",
       "      <th>2</th>\n",
       "      <td>1</td>\n",
       "      <td>2019-05-03 11:11:44</td>\n",
       "      <td>2019-05-03 11:14:36</td>\n",
       "      <td>0.744363</td>\n",
       "      <td>0.498805</td>\n",
       "    </tr>\n",
       "    <tr>\n",
       "      <th>3</th>\n",
       "      <td>1</td>\n",
       "      <td>2019-05-03 11:18:14</td>\n",
       "      <td>2019-05-03 11:24:19</td>\n",
       "      <td>1.659363</td>\n",
       "      <td>1.062669</td>\n",
       "    </tr>\n",
       "    <tr>\n",
       "      <th>4</th>\n",
       "      <td>1</td>\n",
       "      <td>2019-05-03 11:26:09</td>\n",
       "      <td>2019-05-03 11:28:37</td>\n",
       "      <td>0.692755</td>\n",
       "      <td>0.414397</td>\n",
       "    </tr>\n",
       "    <tr>\n",
       "      <th>5</th>\n",
       "      <td>2</td>\n",
       "      <td>2019-05-03 11:34:14</td>\n",
       "      <td>2019-05-03 11:36:31</td>\n",
       "      <td>0.438063</td>\n",
       "      <td>0.283043</td>\n",
       "    </tr>\n",
       "    <tr>\n",
       "      <th>6</th>\n",
       "      <td>2</td>\n",
       "      <td>2019-05-03 11:38:50</td>\n",
       "      <td>2019-05-03 11:44:28</td>\n",
       "      <td>1.296415</td>\n",
       "      <td>0.892914</td>\n",
       "    </tr>\n",
       "    <tr>\n",
       "      <th>7</th>\n",
       "      <td>2</td>\n",
       "      <td>2019-05-03 11:46:19</td>\n",
       "      <td>2019-05-03 11:48:25</td>\n",
       "      <td>0.490377</td>\n",
       "      <td>0.305281</td>\n",
       "    </tr>\n",
       "    <tr>\n",
       "      <th>8</th>\n",
       "      <td>2</td>\n",
       "      <td>2019-05-03 11:49:48</td>\n",
       "      <td>2019-05-03 11:53:18</td>\n",
       "      <td>0.827743</td>\n",
       "      <td>0.516874</td>\n",
       "    </tr>\n",
       "    <tr>\n",
       "      <th>9</th>\n",
       "      <td>3</td>\n",
       "      <td>2019-05-03 12:06:54</td>\n",
       "      <td>2019-05-03 12:11:34</td>\n",
       "      <td>1.062053</td>\n",
       "      <td>0.671494</td>\n",
       "    </tr>\n",
       "  </tbody>\n",
       "</table>\n",
       "</div>"
      ],
      "text/plain": [
       "   key Начало нагрева дугой  Конец нагрева дугой  Активная мощность  \\\n",
       "0    1  2019-05-03 11:02:14  2019-05-03 11:06:02           0.976059   \n",
       "1    1  2019-05-03 11:07:28  2019-05-03 11:10:33           0.805607   \n",
       "2    1  2019-05-03 11:11:44  2019-05-03 11:14:36           0.744363   \n",
       "3    1  2019-05-03 11:18:14  2019-05-03 11:24:19           1.659363   \n",
       "4    1  2019-05-03 11:26:09  2019-05-03 11:28:37           0.692755   \n",
       "5    2  2019-05-03 11:34:14  2019-05-03 11:36:31           0.438063   \n",
       "6    2  2019-05-03 11:38:50  2019-05-03 11:44:28           1.296415   \n",
       "7    2  2019-05-03 11:46:19  2019-05-03 11:48:25           0.490377   \n",
       "8    2  2019-05-03 11:49:48  2019-05-03 11:53:18           0.827743   \n",
       "9    3  2019-05-03 12:06:54  2019-05-03 12:11:34           1.062053   \n",
       "\n",
       "   Реактивная мощность  \n",
       "0             0.687084  \n",
       "1             0.520285  \n",
       "2             0.498805  \n",
       "3             1.062669  \n",
       "4             0.414397  \n",
       "5             0.283043  \n",
       "6             0.892914  \n",
       "7             0.305281  \n",
       "8             0.516874  \n",
       "9             0.671494  "
      ]
     },
     "execution_count": 100,
     "metadata": {},
     "output_type": "execute_result"
    }
   ],
   "source": [
    "data_arc = pd.read_csv('/datasets/final_steel/data_arc.csv')\n",
    "data_arc.head(10)"
   ]
  },
  {
   "cell_type": "code",
   "execution_count": 101,
   "id": "624cb5b7",
   "metadata": {},
   "outputs": [
    {
     "name": "stdout",
     "output_type": "stream",
     "text": [
      "Количество уникальных значений номера партии:\n"
     ]
    },
    {
     "data": {
      "text/plain": [
       "3214"
      ]
     },
     "execution_count": 101,
     "metadata": {},
     "output_type": "execute_result"
    }
   ],
   "source": [
    "print('Количество уникальных значений номера партии:')\n",
    "len(data_arc['key'].unique())"
   ]
  },
  {
   "cell_type": "code",
   "execution_count": 102,
   "id": "3efb61bd",
   "metadata": {
    "scrolled": false
   },
   "outputs": [
    {
     "name": "stdout",
     "output_type": "stream",
     "text": [
      "<class 'pandas.core.frame.DataFrame'>\n",
      "RangeIndex: 14876 entries, 0 to 14875\n",
      "Data columns (total 5 columns):\n",
      " #   Column                Non-Null Count  Dtype  \n",
      "---  ------                --------------  -----  \n",
      " 0   key                   14876 non-null  int64  \n",
      " 1   Начало нагрева дугой  14876 non-null  object \n",
      " 2   Конец нагрева дугой   14876 non-null  object \n",
      " 3   Активная мощность     14876 non-null  float64\n",
      " 4   Реактивная мощность   14876 non-null  float64\n",
      "dtypes: float64(2), int64(1), object(2)\n",
      "memory usage: 581.2+ KB\n"
     ]
    }
   ],
   "source": [
    "data_arc.info()"
   ]
  },
  {
   "cell_type": "markdown",
   "id": "c2102dab",
   "metadata": {},
   "source": [
    "Пропусков в data_arc нет. Формат данных приемлемый."
   ]
  },
  {
   "cell_type": "code",
   "execution_count": 103,
   "id": "a6a244fc",
   "metadata": {
    "scrolled": true
   },
   "outputs": [
    {
     "data": {
      "text/html": [
       "<div>\n",
       "<style scoped>\n",
       "    .dataframe tbody tr th:only-of-type {\n",
       "        vertical-align: middle;\n",
       "    }\n",
       "\n",
       "    .dataframe tbody tr th {\n",
       "        vertical-align: top;\n",
       "    }\n",
       "\n",
       "    .dataframe thead th {\n",
       "        text-align: right;\n",
       "    }\n",
       "</style>\n",
       "<table border=\"1\" class=\"dataframe\">\n",
       "  <thead>\n",
       "    <tr style=\"text-align: right;\">\n",
       "      <th></th>\n",
       "      <th>key</th>\n",
       "      <th>Начало нагрева дугой</th>\n",
       "      <th>Конец нагрева дугой</th>\n",
       "      <th>Активная мощность</th>\n",
       "      <th>Реактивная мощность</th>\n",
       "    </tr>\n",
       "  </thead>\n",
       "  <tbody>\n",
       "    <tr>\n",
       "      <th>count</th>\n",
       "      <td>14876.000000</td>\n",
       "      <td>14876</td>\n",
       "      <td>14876</td>\n",
       "      <td>14876.000000</td>\n",
       "      <td>14876.000000</td>\n",
       "    </tr>\n",
       "    <tr>\n",
       "      <th>mean</th>\n",
       "      <td>1615.220422</td>\n",
       "      <td>2019-07-02 16:15:28.218203904</td>\n",
       "      <td>2019-07-02 16:18:19.889150208</td>\n",
       "      <td>0.670441</td>\n",
       "      <td>0.452592</td>\n",
       "    </tr>\n",
       "    <tr>\n",
       "      <th>min</th>\n",
       "      <td>1.000000</td>\n",
       "      <td>2019-05-03 11:02:14</td>\n",
       "      <td>2019-05-03 11:06:02</td>\n",
       "      <td>0.030002</td>\n",
       "      <td>-715.504924</td>\n",
       "    </tr>\n",
       "    <tr>\n",
       "      <th>25%</th>\n",
       "      <td>806.000000</td>\n",
       "      <td>2019-06-02 07:01:09.249999872</td>\n",
       "      <td>2019-06-02 07:04:21</td>\n",
       "      <td>0.395297</td>\n",
       "      <td>0.290991</td>\n",
       "    </tr>\n",
       "    <tr>\n",
       "      <th>50%</th>\n",
       "      <td>1617.000000</td>\n",
       "      <td>2019-06-30 09:57:14.500000</td>\n",
       "      <td>2019-06-30 10:01:01</td>\n",
       "      <td>0.555517</td>\n",
       "      <td>0.415962</td>\n",
       "    </tr>\n",
       "    <tr>\n",
       "      <th>75%</th>\n",
       "      <td>2429.000000</td>\n",
       "      <td>2019-08-03 13:04:47.750000128</td>\n",
       "      <td>2019-08-03 13:09:14</td>\n",
       "      <td>0.857034</td>\n",
       "      <td>0.637371</td>\n",
       "    </tr>\n",
       "    <tr>\n",
       "      <th>max</th>\n",
       "      <td>3241.000000</td>\n",
       "      <td>2019-09-01 04:34:47</td>\n",
       "      <td>2019-09-01 04:36:08</td>\n",
       "      <td>3.731596</td>\n",
       "      <td>2.676388</td>\n",
       "    </tr>\n",
       "    <tr>\n",
       "      <th>std</th>\n",
       "      <td>934.571502</td>\n",
       "      <td>NaN</td>\n",
       "      <td>NaN</td>\n",
       "      <td>0.408159</td>\n",
       "      <td>5.878702</td>\n",
       "    </tr>\n",
       "  </tbody>\n",
       "</table>\n",
       "</div>"
      ],
      "text/plain": [
       "                key           Начало нагрева дугой  \\\n",
       "count  14876.000000                          14876   \n",
       "mean    1615.220422  2019-07-02 16:15:28.218203904   \n",
       "min        1.000000            2019-05-03 11:02:14   \n",
       "25%      806.000000  2019-06-02 07:01:09.249999872   \n",
       "50%     1617.000000     2019-06-30 09:57:14.500000   \n",
       "75%     2429.000000  2019-08-03 13:04:47.750000128   \n",
       "max     3241.000000            2019-09-01 04:34:47   \n",
       "std      934.571502                            NaN   \n",
       "\n",
       "                 Конец нагрева дугой  Активная мощность  Реактивная мощность  \n",
       "count                          14876       14876.000000         14876.000000  \n",
       "mean   2019-07-02 16:18:19.889150208           0.670441             0.452592  \n",
       "min              2019-05-03 11:06:02           0.030002          -715.504924  \n",
       "25%              2019-06-02 07:04:21           0.395297             0.290991  \n",
       "50%              2019-06-30 10:01:01           0.555517             0.415962  \n",
       "75%              2019-08-03 13:09:14           0.857034             0.637371  \n",
       "max              2019-09-01 04:36:08           3.731596             2.676388  \n",
       "std                              NaN           0.408159             5.878702  "
      ]
     },
     "execution_count": 103,
     "metadata": {},
     "output_type": "execute_result"
    }
   ],
   "source": [
    "data_arc['Начало нагрева дугой'] = pd.to_datetime(data_arc['Начало нагрева дугой'])\n",
    "data_arc['Конец нагрева дугой'] = pd.to_datetime(data_arc['Конец нагрева дугой'])\n",
    "data_arc.describe(datetime_is_numeric=True)"
   ]
  },
  {
   "cell_type": "markdown",
   "id": "80e94909",
   "metadata": {},
   "source": [
    "Значения всех признаков соответствуют ожидаемому диапазону, кроме отрицательного значения \"Реактивная мощность\", определим количество таких (отрицательных) значений данного признака:"
   ]
  },
  {
   "cell_type": "code",
   "execution_count": 104,
   "id": "1ee14629",
   "metadata": {
    "scrolled": true
   },
   "outputs": [
    {
     "name": "stdout",
     "output_type": "stream",
     "text": [
      "Индексы строк с отрицательным значением признака \"Реактивная мощность\": [9780]\n",
      "Количество строк с отрицательным значением признака \"Реактивная мощность\": 1\n"
     ]
    }
   ],
   "source": [
    "print('Индексы строк с отрицательным значением признака \"Реактивная мощность\":',\n",
    "      list(data_arc[data_arc['Реактивная мощность'] < 0].index))\n",
    "print('Количество строк с отрицательным значением признака \"Реактивная мощность\":',\n",
    "      (data_arc['Реактивная мощность'] < 0).sum())"
   ]
  },
  {
   "cell_type": "code",
   "execution_count": 106,
   "id": "0ca3abdf",
   "metadata": {
    "scrolled": true
   },
   "outputs": [
    {
     "name": "stdout",
     "output_type": "stream",
     "text": [
      "Таблица корреляции признаков data_arc без стрроки 9780:\n"
     ]
    },
    {
     "data": {
      "text/html": [
       "<div>\n",
       "<style scoped>\n",
       "    .dataframe tbody tr th:only-of-type {\n",
       "        vertical-align: middle;\n",
       "    }\n",
       "\n",
       "    .dataframe tbody tr th {\n",
       "        vertical-align: top;\n",
       "    }\n",
       "\n",
       "    .dataframe thead th {\n",
       "        text-align: right;\n",
       "    }\n",
       "</style>\n",
       "<table border=\"1\" class=\"dataframe\">\n",
       "  <thead>\n",
       "    <tr style=\"text-align: right;\">\n",
       "      <th></th>\n",
       "      <th>key</th>\n",
       "      <th>Активная мощность</th>\n",
       "      <th>Реактивная мощность</th>\n",
       "    </tr>\n",
       "  </thead>\n",
       "  <tbody>\n",
       "    <tr>\n",
       "      <th>key</th>\n",
       "      <td>1.000000</td>\n",
       "      <td>-0.021367</td>\n",
       "      <td>-0.000159</td>\n",
       "    </tr>\n",
       "    <tr>\n",
       "      <th>Активная мощность</th>\n",
       "      <td>-0.021367</td>\n",
       "      <td>1.000000</td>\n",
       "      <td>0.963182</td>\n",
       "    </tr>\n",
       "    <tr>\n",
       "      <th>Реактивная мощность</th>\n",
       "      <td>-0.000159</td>\n",
       "      <td>0.963182</td>\n",
       "      <td>1.000000</td>\n",
       "    </tr>\n",
       "  </tbody>\n",
       "</table>\n",
       "</div>"
      ],
      "text/plain": [
       "                          key  Активная мощность  Реактивная мощность\n",
       "key                  1.000000          -0.021367            -0.000159\n",
       "Активная мощность   -0.021367           1.000000             0.963182\n",
       "Реактивная мощность -0.000159           0.963182             1.000000"
      ]
     },
     "execution_count": 106,
     "metadata": {},
     "output_type": "execute_result"
    }
   ],
   "source": [
    "print('Таблица корреляции признаков data_arc без стрроки 9780:')\n",
    "data_arc.drop(index=9780).corr()"
   ]
  },
  {
   "cell_type": "code",
   "execution_count": 107,
   "id": "1bc14ff4",
   "metadata": {},
   "outputs": [
    {
     "name": "stdout",
     "output_type": "stream",
     "text": [
      "Строки data_arc со схожим (+/- 0.1%) значением \"Активная мощность\"\n"
     ]
    },
    {
     "data": {
      "text/html": [
       "<div>\n",
       "<style scoped>\n",
       "    .dataframe tbody tr th:only-of-type {\n",
       "        vertical-align: middle;\n",
       "    }\n",
       "\n",
       "    .dataframe tbody tr th {\n",
       "        vertical-align: top;\n",
       "    }\n",
       "\n",
       "    .dataframe thead th {\n",
       "        text-align: right;\n",
       "    }\n",
       "</style>\n",
       "<table border=\"1\" class=\"dataframe\">\n",
       "  <thead>\n",
       "    <tr style=\"text-align: right;\">\n",
       "      <th></th>\n",
       "      <th>key</th>\n",
       "      <th>Начало нагрева дугой</th>\n",
       "      <th>Конец нагрева дугой</th>\n",
       "      <th>Активная мощность</th>\n",
       "      <th>Реактивная мощность</th>\n",
       "    </tr>\n",
       "  </thead>\n",
       "  <tbody>\n",
       "    <tr>\n",
       "      <th>238</th>\n",
       "      <td>51</td>\n",
       "      <td>2019-05-05 05:45:24</td>\n",
       "      <td>2019-05-05 05:47:41</td>\n",
       "      <td>0.495662</td>\n",
       "      <td>0.343805</td>\n",
       "    </tr>\n",
       "    <tr>\n",
       "      <th>292</th>\n",
       "      <td>63</td>\n",
       "      <td>2019-05-05 15:48:27</td>\n",
       "      <td>2019-05-05 15:50:53</td>\n",
       "      <td>0.496026</td>\n",
       "      <td>0.442082</td>\n",
       "    </tr>\n",
       "    <tr>\n",
       "      <th>1742</th>\n",
       "      <td>375</td>\n",
       "      <td>2019-05-17 13:26:06</td>\n",
       "      <td>2019-05-17 13:27:57</td>\n",
       "      <td>0.495823</td>\n",
       "      <td>0.300950</td>\n",
       "    </tr>\n",
       "    <tr>\n",
       "      <th>2892</th>\n",
       "      <td>630</td>\n",
       "      <td>2019-05-26 14:57:15</td>\n",
       "      <td>2019-05-26 14:59:11</td>\n",
       "      <td>0.495938</td>\n",
       "      <td>0.339681</td>\n",
       "    </tr>\n",
       "    <tr>\n",
       "      <th>4103</th>\n",
       "      <td>881</td>\n",
       "      <td>2019-06-05 00:20:34</td>\n",
       "      <td>2019-06-05 00:22:41</td>\n",
       "      <td>0.496138</td>\n",
       "      <td>0.396164</td>\n",
       "    </tr>\n",
       "    <tr>\n",
       "      <th>4265</th>\n",
       "      <td>916</td>\n",
       "      <td>2019-06-06 02:39:58</td>\n",
       "      <td>2019-06-06 02:42:05</td>\n",
       "      <td>0.495671</td>\n",
       "      <td>0.408666</td>\n",
       "    </tr>\n",
       "    <tr>\n",
       "      <th>4354</th>\n",
       "      <td>935</td>\n",
       "      <td>2019-06-07 00:47:14</td>\n",
       "      <td>2019-06-07 00:51:02</td>\n",
       "      <td>0.495849</td>\n",
       "      <td>0.393928</td>\n",
       "    </tr>\n",
       "    <tr>\n",
       "      <th>4807</th>\n",
       "      <td>1039</td>\n",
       "      <td>2019-06-10 10:45:15</td>\n",
       "      <td>2019-06-10 10:47:24</td>\n",
       "      <td>0.496053</td>\n",
       "      <td>0.380603</td>\n",
       "    </tr>\n",
       "    <tr>\n",
       "      <th>5727</th>\n",
       "      <td>1246</td>\n",
       "      <td>2019-06-17 10:03:32</td>\n",
       "      <td>2019-06-17 10:05:59</td>\n",
       "      <td>0.495823</td>\n",
       "      <td>0.320860</td>\n",
       "    </tr>\n",
       "    <tr>\n",
       "      <th>6322</th>\n",
       "      <td>1375</td>\n",
       "      <td>2019-06-22 01:04:15</td>\n",
       "      <td>2019-06-22 01:06:14</td>\n",
       "      <td>0.495692</td>\n",
       "      <td>0.351515</td>\n",
       "    </tr>\n",
       "    <tr>\n",
       "      <th>6470</th>\n",
       "      <td>1408</td>\n",
       "      <td>2019-06-23 02:50:43</td>\n",
       "      <td>2019-06-23 02:52:57</td>\n",
       "      <td>0.495795</td>\n",
       "      <td>0.436362</td>\n",
       "    </tr>\n",
       "    <tr>\n",
       "      <th>6565</th>\n",
       "      <td>1429</td>\n",
       "      <td>2019-06-23 18:48:12</td>\n",
       "      <td>2019-06-23 18:50:20</td>\n",
       "      <td>0.495303</td>\n",
       "      <td>0.412458</td>\n",
       "    </tr>\n",
       "    <tr>\n",
       "      <th>7087</th>\n",
       "      <td>1538</td>\n",
       "      <td>2019-06-27 23:11:39</td>\n",
       "      <td>2019-06-27 23:14:14</td>\n",
       "      <td>0.495876</td>\n",
       "      <td>0.529416</td>\n",
       "    </tr>\n",
       "    <tr>\n",
       "      <th>7179</th>\n",
       "      <td>1560</td>\n",
       "      <td>2019-06-28 13:23:29</td>\n",
       "      <td>2019-06-28 13:25:39</td>\n",
       "      <td>0.496084</td>\n",
       "      <td>0.371574</td>\n",
       "    </tr>\n",
       "    <tr>\n",
       "      <th>7637</th>\n",
       "      <td>1658</td>\n",
       "      <td>2019-07-01 15:51:46</td>\n",
       "      <td>2019-07-01 15:53:48</td>\n",
       "      <td>0.496192</td>\n",
       "      <td>0.355677</td>\n",
       "    </tr>\n",
       "    <tr>\n",
       "      <th>8361</th>\n",
       "      <td>1819</td>\n",
       "      <td>2019-07-07 00:50:59</td>\n",
       "      <td>2019-07-07 00:53:07</td>\n",
       "      <td>0.495690</td>\n",
       "      <td>0.384664</td>\n",
       "    </tr>\n",
       "    <tr>\n",
       "      <th>8516</th>\n",
       "      <td>1853</td>\n",
       "      <td>2019-07-08 03:48:02</td>\n",
       "      <td>2019-07-08 03:50:07</td>\n",
       "      <td>0.495549</td>\n",
       "      <td>0.426265</td>\n",
       "    </tr>\n",
       "    <tr>\n",
       "      <th>9678</th>\n",
       "      <td>2097</td>\n",
       "      <td>2019-07-23 03:08:37</td>\n",
       "      <td>2019-07-23 03:10:43</td>\n",
       "      <td>0.495936</td>\n",
       "      <td>0.425784</td>\n",
       "    </tr>\n",
       "    <tr>\n",
       "      <th>10104</th>\n",
       "      <td>2191</td>\n",
       "      <td>2019-07-26 07:13:32</td>\n",
       "      <td>2019-07-26 07:15:37</td>\n",
       "      <td>0.495800</td>\n",
       "      <td>0.394590</td>\n",
       "    </tr>\n",
       "    <tr>\n",
       "      <th>10439</th>\n",
       "      <td>2268</td>\n",
       "      <td>2019-07-28 19:23:34</td>\n",
       "      <td>2019-07-28 19:25:54</td>\n",
       "      <td>0.495386</td>\n",
       "      <td>0.349924</td>\n",
       "    </tr>\n",
       "    <tr>\n",
       "      <th>11975</th>\n",
       "      <td>2606</td>\n",
       "      <td>2019-08-09 20:50:45</td>\n",
       "      <td>2019-08-09 20:53:17</td>\n",
       "      <td>0.495718</td>\n",
       "      <td>0.356403</td>\n",
       "    </tr>\n",
       "    <tr>\n",
       "      <th>12610</th>\n",
       "      <td>2740</td>\n",
       "      <td>2019-08-14 20:42:31</td>\n",
       "      <td>2019-08-14 20:45:00</td>\n",
       "      <td>0.495615</td>\n",
       "      <td>0.461116</td>\n",
       "    </tr>\n",
       "    <tr>\n",
       "      <th>12979</th>\n",
       "      <td>2821</td>\n",
       "      <td>2019-08-17 19:36:11</td>\n",
       "      <td>2019-08-17 19:37:59</td>\n",
       "      <td>0.495524</td>\n",
       "      <td>0.352547</td>\n",
       "    </tr>\n",
       "    <tr>\n",
       "      <th>13264</th>\n",
       "      <td>2887</td>\n",
       "      <td>2019-08-20 04:05:46</td>\n",
       "      <td>2019-08-20 04:08:10</td>\n",
       "      <td>0.495973</td>\n",
       "      <td>0.415399</td>\n",
       "    </tr>\n",
       "    <tr>\n",
       "      <th>14267</th>\n",
       "      <td>3101</td>\n",
       "      <td>2019-08-27 16:14:34</td>\n",
       "      <td>2019-08-27 16:16:26</td>\n",
       "      <td>0.495548</td>\n",
       "      <td>0.326059</td>\n",
       "    </tr>\n",
       "  </tbody>\n",
       "</table>\n",
       "</div>"
      ],
      "text/plain": [
       "        key Начало нагрева дугой Конец нагрева дугой  Активная мощность  \\\n",
       "238      51  2019-05-05 05:45:24 2019-05-05 05:47:41           0.495662   \n",
       "292      63  2019-05-05 15:48:27 2019-05-05 15:50:53           0.496026   \n",
       "1742    375  2019-05-17 13:26:06 2019-05-17 13:27:57           0.495823   \n",
       "2892    630  2019-05-26 14:57:15 2019-05-26 14:59:11           0.495938   \n",
       "4103    881  2019-06-05 00:20:34 2019-06-05 00:22:41           0.496138   \n",
       "4265    916  2019-06-06 02:39:58 2019-06-06 02:42:05           0.495671   \n",
       "4354    935  2019-06-07 00:47:14 2019-06-07 00:51:02           0.495849   \n",
       "4807   1039  2019-06-10 10:45:15 2019-06-10 10:47:24           0.496053   \n",
       "5727   1246  2019-06-17 10:03:32 2019-06-17 10:05:59           0.495823   \n",
       "6322   1375  2019-06-22 01:04:15 2019-06-22 01:06:14           0.495692   \n",
       "6470   1408  2019-06-23 02:50:43 2019-06-23 02:52:57           0.495795   \n",
       "6565   1429  2019-06-23 18:48:12 2019-06-23 18:50:20           0.495303   \n",
       "7087   1538  2019-06-27 23:11:39 2019-06-27 23:14:14           0.495876   \n",
       "7179   1560  2019-06-28 13:23:29 2019-06-28 13:25:39           0.496084   \n",
       "7637   1658  2019-07-01 15:51:46 2019-07-01 15:53:48           0.496192   \n",
       "8361   1819  2019-07-07 00:50:59 2019-07-07 00:53:07           0.495690   \n",
       "8516   1853  2019-07-08 03:48:02 2019-07-08 03:50:07           0.495549   \n",
       "9678   2097  2019-07-23 03:08:37 2019-07-23 03:10:43           0.495936   \n",
       "10104  2191  2019-07-26 07:13:32 2019-07-26 07:15:37           0.495800   \n",
       "10439  2268  2019-07-28 19:23:34 2019-07-28 19:25:54           0.495386   \n",
       "11975  2606  2019-08-09 20:50:45 2019-08-09 20:53:17           0.495718   \n",
       "12610  2740  2019-08-14 20:42:31 2019-08-14 20:45:00           0.495615   \n",
       "12979  2821  2019-08-17 19:36:11 2019-08-17 19:37:59           0.495524   \n",
       "13264  2887  2019-08-20 04:05:46 2019-08-20 04:08:10           0.495973   \n",
       "14267  3101  2019-08-27 16:14:34 2019-08-27 16:16:26           0.495548   \n",
       "\n",
       "       Реактивная мощность  \n",
       "238               0.343805  \n",
       "292               0.442082  \n",
       "1742              0.300950  \n",
       "2892              0.339681  \n",
       "4103              0.396164  \n",
       "4265              0.408666  \n",
       "4354              0.393928  \n",
       "4807              0.380603  \n",
       "5727              0.320860  \n",
       "6322              0.351515  \n",
       "6470              0.436362  \n",
       "6565              0.412458  \n",
       "7087              0.529416  \n",
       "7179              0.371574  \n",
       "7637              0.355677  \n",
       "8361              0.384664  \n",
       "8516              0.426265  \n",
       "9678              0.425784  \n",
       "10104             0.394590  \n",
       "10439             0.349924  \n",
       "11975             0.356403  \n",
       "12610             0.461116  \n",
       "12979             0.352547  \n",
       "13264             0.415399  \n",
       "14267             0.326059  "
      ]
     },
     "execution_count": 107,
     "metadata": {},
     "output_type": "execute_result"
    }
   ],
   "source": [
    "print('Строки data_arc со схожим (+/- 0.1%) значением \"Активная мощность\"')\n",
    "data_arc.drop(index=9780)\\\n",
    "[(data_arc.drop(index=9780)['Активная мощность']\\\n",
    "  < data_arc.loc[9780]['Активная мощность']*1.001) &\\\n",
    " (data_arc.drop(index=9780)['Активная мощность']\\\n",
    "  > data_arc.loc[9780]['Активная мощность']*0.999)]"
   ]
  },
  {
   "cell_type": "markdown",
   "id": "08ea381f",
   "metadata": {},
   "source": [
    "Отрицательное значение признака \"Реактивная мощность\" встречается всего один раз, явный выброс. Далее это значение следует изменить на среднее значение признака \"Реактивная мощность\" строк схожих (+/- 0.1%) по признаку \"Активная мощность\" ввиду присутствия явной корреляции между данными признаками."
   ]
  },
  {
   "cell_type": "code",
   "execution_count": 108,
   "id": "2fc8b7d9",
   "metadata": {},
   "outputs": [
    {
     "data": {
      "text/plain": [
       "count    14875.000000\n",
       "mean         0.500723\n",
       "std          0.310880\n",
       "min          0.020806\n",
       "25%          0.291003\n",
       "50%          0.415984\n",
       "75%          0.637403\n",
       "max          2.676388\n",
       "Name: Реактивная мощность, dtype: float64"
      ]
     },
     "execution_count": 108,
     "metadata": {},
     "output_type": "execute_result"
    }
   ],
   "source": [
    "data_arc['Реактивная мощность'][data_arc['Реактивная мощность'] > 0].describe()"
   ]
  },
  {
   "cell_type": "code",
   "execution_count": 109,
   "id": "7aec107d",
   "metadata": {
    "scrolled": true
   },
   "outputs": [
    {
     "data": {
      "image/png": "[encoded data removed]",
      "text/plain": [
       "<Figure size 432x288 with 2 Axes>"
      ]
     },
     "metadata": {
      "needs_background": "light"
     },
     "output_type": "display_data"
    }
   ],
   "source": [
    "data_arc[['Активная мощность', 'Реактивная мощность']]\\\n",
    "[data_arc['Реактивная мощность'] > 0].hist(bins=50)\n",
    "plt.show()"
   ]
  },
  {
   "cell_type": "markdown",
   "id": "0cc8769b",
   "metadata": {},
   "source": [
    "Распределения признаков нормальные, данные data_arc можно считать корректными (за исключением строки с индексом 9780)."
   ]
  },
  {
   "cell_type": "markdown",
   "id": "222e8b5a",
   "metadata": {},
   "source": [
    "### данные о подаче сыпучих материалов"
   ]
  },
  {
   "cell_type": "markdown",
   "id": "de2a3e2f",
   "metadata": {},
   "source": [
    "#### данные о подаче сыпучих материалов (объём)"
   ]
  },
  {
   "cell_type": "code",
   "execution_count": 110,
   "id": "e4eadfdf",
   "metadata": {
    "scrolled": false
   },
   "outputs": [
    {
     "data": {
      "text/html": [
       "<div>\n",
       "<style scoped>\n",
       "    .dataframe tbody tr th:only-of-type {\n",
       "        vertical-align: middle;\n",
       "    }\n",
       "\n",
       "    .dataframe tbody tr th {\n",
       "        vertical-align: top;\n",
       "    }\n",
       "\n",
       "    .dataframe thead th {\n",
       "        text-align: right;\n",
       "    }\n",
       "</style>\n",
       "<table border=\"1\" class=\"dataframe\">\n",
       "  <thead>\n",
       "    <tr style=\"text-align: right;\">\n",
       "      <th></th>\n",
       "      <th>key</th>\n",
       "      <th>Bulk 1</th>\n",
       "      <th>Bulk 2</th>\n",
       "      <th>Bulk 3</th>\n",
       "      <th>Bulk 4</th>\n",
       "      <th>Bulk 5</th>\n",
       "      <th>Bulk 6</th>\n",
       "      <th>Bulk 7</th>\n",
       "      <th>Bulk 8</th>\n",
       "      <th>Bulk 9</th>\n",
       "      <th>Bulk 10</th>\n",
       "      <th>Bulk 11</th>\n",
       "      <th>Bulk 12</th>\n",
       "      <th>Bulk 13</th>\n",
       "      <th>Bulk 14</th>\n",
       "      <th>Bulk 15</th>\n",
       "    </tr>\n",
       "  </thead>\n",
       "  <tbody>\n",
       "    <tr>\n",
       "      <th>0</th>\n",
       "      <td>1</td>\n",
       "      <td>NaN</td>\n",
       "      <td>NaN</td>\n",
       "      <td>NaN</td>\n",
       "      <td>43.0</td>\n",
       "      <td>NaN</td>\n",
       "      <td>NaN</td>\n",
       "      <td>NaN</td>\n",
       "      <td>NaN</td>\n",
       "      <td>NaN</td>\n",
       "      <td>NaN</td>\n",
       "      <td>NaN</td>\n",
       "      <td>206.0</td>\n",
       "      <td>NaN</td>\n",
       "      <td>150.0</td>\n",
       "      <td>154.0</td>\n",
       "    </tr>\n",
       "    <tr>\n",
       "      <th>1</th>\n",
       "      <td>2</td>\n",
       "      <td>NaN</td>\n",
       "      <td>NaN</td>\n",
       "      <td>NaN</td>\n",
       "      <td>73.0</td>\n",
       "      <td>NaN</td>\n",
       "      <td>NaN</td>\n",
       "      <td>NaN</td>\n",
       "      <td>NaN</td>\n",
       "      <td>NaN</td>\n",
       "      <td>NaN</td>\n",
       "      <td>NaN</td>\n",
       "      <td>206.0</td>\n",
       "      <td>NaN</td>\n",
       "      <td>149.0</td>\n",
       "      <td>154.0</td>\n",
       "    </tr>\n",
       "    <tr>\n",
       "      <th>2</th>\n",
       "      <td>3</td>\n",
       "      <td>NaN</td>\n",
       "      <td>NaN</td>\n",
       "      <td>NaN</td>\n",
       "      <td>34.0</td>\n",
       "      <td>NaN</td>\n",
       "      <td>NaN</td>\n",
       "      <td>NaN</td>\n",
       "      <td>NaN</td>\n",
       "      <td>NaN</td>\n",
       "      <td>NaN</td>\n",
       "      <td>NaN</td>\n",
       "      <td>205.0</td>\n",
       "      <td>NaN</td>\n",
       "      <td>152.0</td>\n",
       "      <td>153.0</td>\n",
       "    </tr>\n",
       "    <tr>\n",
       "      <th>3</th>\n",
       "      <td>4</td>\n",
       "      <td>NaN</td>\n",
       "      <td>NaN</td>\n",
       "      <td>NaN</td>\n",
       "      <td>81.0</td>\n",
       "      <td>NaN</td>\n",
       "      <td>NaN</td>\n",
       "      <td>NaN</td>\n",
       "      <td>NaN</td>\n",
       "      <td>NaN</td>\n",
       "      <td>NaN</td>\n",
       "      <td>NaN</td>\n",
       "      <td>207.0</td>\n",
       "      <td>NaN</td>\n",
       "      <td>153.0</td>\n",
       "      <td>154.0</td>\n",
       "    </tr>\n",
       "    <tr>\n",
       "      <th>4</th>\n",
       "      <td>5</td>\n",
       "      <td>NaN</td>\n",
       "      <td>NaN</td>\n",
       "      <td>NaN</td>\n",
       "      <td>78.0</td>\n",
       "      <td>NaN</td>\n",
       "      <td>NaN</td>\n",
       "      <td>NaN</td>\n",
       "      <td>NaN</td>\n",
       "      <td>NaN</td>\n",
       "      <td>NaN</td>\n",
       "      <td>NaN</td>\n",
       "      <td>203.0</td>\n",
       "      <td>NaN</td>\n",
       "      <td>151.0</td>\n",
       "      <td>152.0</td>\n",
       "    </tr>\n",
       "    <tr>\n",
       "      <th>5</th>\n",
       "      <td>6</td>\n",
       "      <td>NaN</td>\n",
       "      <td>NaN</td>\n",
       "      <td>NaN</td>\n",
       "      <td>117.0</td>\n",
       "      <td>NaN</td>\n",
       "      <td>NaN</td>\n",
       "      <td>NaN</td>\n",
       "      <td>NaN</td>\n",
       "      <td>NaN</td>\n",
       "      <td>NaN</td>\n",
       "      <td>NaN</td>\n",
       "      <td>204.0</td>\n",
       "      <td>NaN</td>\n",
       "      <td>201.0</td>\n",
       "      <td>154.0</td>\n",
       "    </tr>\n",
       "    <tr>\n",
       "      <th>6</th>\n",
       "      <td>7</td>\n",
       "      <td>NaN</td>\n",
       "      <td>NaN</td>\n",
       "      <td>NaN</td>\n",
       "      <td>117.0</td>\n",
       "      <td>NaN</td>\n",
       "      <td>NaN</td>\n",
       "      <td>NaN</td>\n",
       "      <td>NaN</td>\n",
       "      <td>NaN</td>\n",
       "      <td>NaN</td>\n",
       "      <td>NaN</td>\n",
       "      <td>204.0</td>\n",
       "      <td>NaN</td>\n",
       "      <td>152.0</td>\n",
       "      <td>154.0</td>\n",
       "    </tr>\n",
       "    <tr>\n",
       "      <th>7</th>\n",
       "      <td>8</td>\n",
       "      <td>NaN</td>\n",
       "      <td>NaN</td>\n",
       "      <td>NaN</td>\n",
       "      <td>99.0</td>\n",
       "      <td>NaN</td>\n",
       "      <td>NaN</td>\n",
       "      <td>NaN</td>\n",
       "      <td>NaN</td>\n",
       "      <td>NaN</td>\n",
       "      <td>NaN</td>\n",
       "      <td>NaN</td>\n",
       "      <td>410.0</td>\n",
       "      <td>NaN</td>\n",
       "      <td>252.0</td>\n",
       "      <td>153.0</td>\n",
       "    </tr>\n",
       "    <tr>\n",
       "      <th>8</th>\n",
       "      <td>9</td>\n",
       "      <td>NaN</td>\n",
       "      <td>NaN</td>\n",
       "      <td>NaN</td>\n",
       "      <td>117.0</td>\n",
       "      <td>NaN</td>\n",
       "      <td>NaN</td>\n",
       "      <td>NaN</td>\n",
       "      <td>NaN</td>\n",
       "      <td>NaN</td>\n",
       "      <td>NaN</td>\n",
       "      <td>NaN</td>\n",
       "      <td>107.0</td>\n",
       "      <td>NaN</td>\n",
       "      <td>99.0</td>\n",
       "      <td>203.0</td>\n",
       "    </tr>\n",
       "    <tr>\n",
       "      <th>9</th>\n",
       "      <td>10</td>\n",
       "      <td>NaN</td>\n",
       "      <td>NaN</td>\n",
       "      <td>NaN</td>\n",
       "      <td>NaN</td>\n",
       "      <td>NaN</td>\n",
       "      <td>NaN</td>\n",
       "      <td>NaN</td>\n",
       "      <td>NaN</td>\n",
       "      <td>NaN</td>\n",
       "      <td>NaN</td>\n",
       "      <td>NaN</td>\n",
       "      <td>203.0</td>\n",
       "      <td>NaN</td>\n",
       "      <td>102.0</td>\n",
       "      <td>204.0</td>\n",
       "    </tr>\n",
       "  </tbody>\n",
       "</table>\n",
       "</div>"
      ],
      "text/plain": [
       "   key  Bulk 1  Bulk 2  Bulk 3  Bulk 4  Bulk 5  Bulk 6  Bulk 7  Bulk 8  \\\n",
       "0    1     NaN     NaN     NaN    43.0     NaN     NaN     NaN     NaN   \n",
       "1    2     NaN     NaN     NaN    73.0     NaN     NaN     NaN     NaN   \n",
       "2    3     NaN     NaN     NaN    34.0     NaN     NaN     NaN     NaN   \n",
       "3    4     NaN     NaN     NaN    81.0     NaN     NaN     NaN     NaN   \n",
       "4    5     NaN     NaN     NaN    78.0     NaN     NaN     NaN     NaN   \n",
       "5    6     NaN     NaN     NaN   117.0     NaN     NaN     NaN     NaN   \n",
       "6    7     NaN     NaN     NaN   117.0     NaN     NaN     NaN     NaN   \n",
       "7    8     NaN     NaN     NaN    99.0     NaN     NaN     NaN     NaN   \n",
       "8    9     NaN     NaN     NaN   117.0     NaN     NaN     NaN     NaN   \n",
       "9   10     NaN     NaN     NaN     NaN     NaN     NaN     NaN     NaN   \n",
       "\n",
       "   Bulk 9  Bulk 10  Bulk 11  Bulk 12  Bulk 13  Bulk 14  Bulk 15  \n",
       "0     NaN      NaN      NaN    206.0      NaN    150.0    154.0  \n",
       "1     NaN      NaN      NaN    206.0      NaN    149.0    154.0  \n",
       "2     NaN      NaN      NaN    205.0      NaN    152.0    153.0  \n",
       "3     NaN      NaN      NaN    207.0      NaN    153.0    154.0  \n",
       "4     NaN      NaN      NaN    203.0      NaN    151.0    152.0  \n",
       "5     NaN      NaN      NaN    204.0      NaN    201.0    154.0  \n",
       "6     NaN      NaN      NaN    204.0      NaN    152.0    154.0  \n",
       "7     NaN      NaN      NaN    410.0      NaN    252.0    153.0  \n",
       "8     NaN      NaN      NaN    107.0      NaN     99.0    203.0  \n",
       "9     NaN      NaN      NaN    203.0      NaN    102.0    204.0  "
      ]
     },
     "execution_count": 110,
     "metadata": {},
     "output_type": "execute_result"
    }
   ],
   "source": [
    "data_bulk = pd.read_csv('/datasets/final_steel/data_bulk.csv')\n",
    "data_bulk.head(10)"
   ]
  },
  {
   "cell_type": "code",
   "execution_count": 111,
   "id": "5e152ea0",
   "metadata": {},
   "outputs": [
    {
     "name": "stdout",
     "output_type": "stream",
     "text": [
      "Количество уникальных значений номера партии:\n"
     ]
    },
    {
     "data": {
      "text/plain": [
       "3129"
      ]
     },
     "execution_count": 111,
     "metadata": {},
     "output_type": "execute_result"
    }
   ],
   "source": [
    "print('Количество уникальных значений номера партии:')\n",
    "len(data_bulk['key'].unique())"
   ]
  },
  {
   "cell_type": "code",
   "execution_count": 112,
   "id": "96c9f08d",
   "metadata": {
    "scrolled": false
   },
   "outputs": [
    {
     "name": "stdout",
     "output_type": "stream",
     "text": [
      "<class 'pandas.core.frame.DataFrame'>\n",
      "RangeIndex: 3129 entries, 0 to 3128\n",
      "Data columns (total 16 columns):\n",
      " #   Column   Non-Null Count  Dtype  \n",
      "---  ------   --------------  -----  \n",
      " 0   key      3129 non-null   int64  \n",
      " 1   Bulk 1   252 non-null    float64\n",
      " 2   Bulk 2   22 non-null     float64\n",
      " 3   Bulk 3   1298 non-null   float64\n",
      " 4   Bulk 4   1014 non-null   float64\n",
      " 5   Bulk 5   77 non-null     float64\n",
      " 6   Bulk 6   576 non-null    float64\n",
      " 7   Bulk 7   25 non-null     float64\n",
      " 8   Bulk 8   1 non-null      float64\n",
      " 9   Bulk 9   19 non-null     float64\n",
      " 10  Bulk 10  176 non-null    float64\n",
      " 11  Bulk 11  177 non-null    float64\n",
      " 12  Bulk 12  2450 non-null   float64\n",
      " 13  Bulk 13  18 non-null     float64\n",
      " 14  Bulk 14  2806 non-null   float64\n",
      " 15  Bulk 15  2248 non-null   float64\n",
      "dtypes: float64(15), int64(1)\n",
      "memory usage: 391.2 KB\n"
     ]
    }
   ],
   "source": [
    "data_bulk.info()"
   ]
  },
  {
   "cell_type": "markdown",
   "id": "01eb0789",
   "metadata": {},
   "source": [
    "Все значения признаков представленны в типе float64, бОльшая часть - пропуски."
   ]
  },
  {
   "cell_type": "code",
   "execution_count": 113,
   "id": "59f4ca95",
   "metadata": {
    "scrolled": true
   },
   "outputs": [
    {
     "data": {
      "text/plain": [
       "key          1.0\n",
       "Bulk 1      10.0\n",
       "Bulk 2     228.0\n",
       "Bulk 3       6.0\n",
       "Bulk 4      12.0\n",
       "Bulk 5      11.0\n",
       "Bulk 6      17.0\n",
       "Bulk 7      47.0\n",
       "Bulk 8      49.0\n",
       "Bulk 9      63.0\n",
       "Bulk 10     24.0\n",
       "Bulk 11      8.0\n",
       "Bulk 12     53.0\n",
       "Bulk 13    151.0\n",
       "Bulk 14     16.0\n",
       "Bulk 15      1.0\n",
       "dtype: float64"
      ]
     },
     "execution_count": 113,
     "metadata": {},
     "output_type": "execute_result"
    }
   ],
   "source": [
    "data_bulk.min()"
   ]
  },
  {
   "cell_type": "markdown",
   "id": "e50c8478",
   "metadata": {},
   "source": [
    "Отрицательных значений нет (выбросов по этому критерию нет)."
   ]
  },
  {
   "cell_type": "markdown",
   "id": "f90660da",
   "metadata": {},
   "source": [
    "#### данные о подаче сыпучих материалов (время)"
   ]
  },
  {
   "cell_type": "code",
   "execution_count": 114,
   "id": "2edf376d",
   "metadata": {
    "scrolled": false
   },
   "outputs": [
    {
     "data": {
      "text/html": [
       "<div>\n",
       "<style scoped>\n",
       "    .dataframe tbody tr th:only-of-type {\n",
       "        vertical-align: middle;\n",
       "    }\n",
       "\n",
       "    .dataframe tbody tr th {\n",
       "        vertical-align: top;\n",
       "    }\n",
       "\n",
       "    .dataframe thead th {\n",
       "        text-align: right;\n",
       "    }\n",
       "</style>\n",
       "<table border=\"1\" class=\"dataframe\">\n",
       "  <thead>\n",
       "    <tr style=\"text-align: right;\">\n",
       "      <th></th>\n",
       "      <th>key</th>\n",
       "      <th>Bulk 1</th>\n",
       "      <th>Bulk 2</th>\n",
       "      <th>Bulk 3</th>\n",
       "      <th>Bulk 4</th>\n",
       "      <th>Bulk 5</th>\n",
       "      <th>Bulk 6</th>\n",
       "      <th>Bulk 7</th>\n",
       "      <th>Bulk 8</th>\n",
       "      <th>Bulk 9</th>\n",
       "      <th>Bulk 10</th>\n",
       "      <th>Bulk 11</th>\n",
       "      <th>Bulk 12</th>\n",
       "      <th>Bulk 13</th>\n",
       "      <th>Bulk 14</th>\n",
       "      <th>Bulk 15</th>\n",
       "    </tr>\n",
       "  </thead>\n",
       "  <tbody>\n",
       "    <tr>\n",
       "      <th>0</th>\n",
       "      <td>1</td>\n",
       "      <td>NaN</td>\n",
       "      <td>NaN</td>\n",
       "      <td>NaN</td>\n",
       "      <td>2019-05-03 11:21:30</td>\n",
       "      <td>NaN</td>\n",
       "      <td>NaN</td>\n",
       "      <td>NaN</td>\n",
       "      <td>NaN</td>\n",
       "      <td>NaN</td>\n",
       "      <td>NaN</td>\n",
       "      <td>NaN</td>\n",
       "      <td>2019-05-03 11:03:52</td>\n",
       "      <td>NaN</td>\n",
       "      <td>2019-05-03 11:03:52</td>\n",
       "      <td>2019-05-03 11:03:52</td>\n",
       "    </tr>\n",
       "    <tr>\n",
       "      <th>1</th>\n",
       "      <td>2</td>\n",
       "      <td>NaN</td>\n",
       "      <td>NaN</td>\n",
       "      <td>NaN</td>\n",
       "      <td>2019-05-03 11:46:38</td>\n",
       "      <td>NaN</td>\n",
       "      <td>NaN</td>\n",
       "      <td>NaN</td>\n",
       "      <td>NaN</td>\n",
       "      <td>NaN</td>\n",
       "      <td>NaN</td>\n",
       "      <td>NaN</td>\n",
       "      <td>2019-05-03 11:40:20</td>\n",
       "      <td>NaN</td>\n",
       "      <td>2019-05-03 11:40:20</td>\n",
       "      <td>2019-05-03 11:40:20</td>\n",
       "    </tr>\n",
       "    <tr>\n",
       "      <th>2</th>\n",
       "      <td>3</td>\n",
       "      <td>NaN</td>\n",
       "      <td>NaN</td>\n",
       "      <td>NaN</td>\n",
       "      <td>2019-05-03 12:31:06</td>\n",
       "      <td>NaN</td>\n",
       "      <td>NaN</td>\n",
       "      <td>NaN</td>\n",
       "      <td>NaN</td>\n",
       "      <td>NaN</td>\n",
       "      <td>NaN</td>\n",
       "      <td>NaN</td>\n",
       "      <td>2019-05-03 12:09:40</td>\n",
       "      <td>NaN</td>\n",
       "      <td>2019-05-03 12:09:40</td>\n",
       "      <td>2019-05-03 12:09:40</td>\n",
       "    </tr>\n",
       "    <tr>\n",
       "      <th>3</th>\n",
       "      <td>4</td>\n",
       "      <td>NaN</td>\n",
       "      <td>NaN</td>\n",
       "      <td>NaN</td>\n",
       "      <td>2019-05-03 12:48:43</td>\n",
       "      <td>NaN</td>\n",
       "      <td>NaN</td>\n",
       "      <td>NaN</td>\n",
       "      <td>NaN</td>\n",
       "      <td>NaN</td>\n",
       "      <td>NaN</td>\n",
       "      <td>NaN</td>\n",
       "      <td>2019-05-03 12:41:24</td>\n",
       "      <td>NaN</td>\n",
       "      <td>2019-05-03 12:41:24</td>\n",
       "      <td>2019-05-03 12:41:24</td>\n",
       "    </tr>\n",
       "    <tr>\n",
       "      <th>4</th>\n",
       "      <td>5</td>\n",
       "      <td>NaN</td>\n",
       "      <td>NaN</td>\n",
       "      <td>NaN</td>\n",
       "      <td>2019-05-03 13:18:50</td>\n",
       "      <td>NaN</td>\n",
       "      <td>NaN</td>\n",
       "      <td>NaN</td>\n",
       "      <td>NaN</td>\n",
       "      <td>NaN</td>\n",
       "      <td>NaN</td>\n",
       "      <td>NaN</td>\n",
       "      <td>2019-05-03 13:12:56</td>\n",
       "      <td>NaN</td>\n",
       "      <td>2019-05-03 13:12:56</td>\n",
       "      <td>2019-05-03 13:12:56</td>\n",
       "    </tr>\n",
       "    <tr>\n",
       "      <th>5</th>\n",
       "      <td>6</td>\n",
       "      <td>NaN</td>\n",
       "      <td>NaN</td>\n",
       "      <td>NaN</td>\n",
       "      <td>2019-05-03 13:59:24</td>\n",
       "      <td>NaN</td>\n",
       "      <td>NaN</td>\n",
       "      <td>NaN</td>\n",
       "      <td>NaN</td>\n",
       "      <td>NaN</td>\n",
       "      <td>NaN</td>\n",
       "      <td>NaN</td>\n",
       "      <td>2019-05-03 13:53:27</td>\n",
       "      <td>NaN</td>\n",
       "      <td>2019-05-03 13:53:27</td>\n",
       "      <td>2019-05-03 13:53:27</td>\n",
       "    </tr>\n",
       "    <tr>\n",
       "      <th>6</th>\n",
       "      <td>7</td>\n",
       "      <td>NaN</td>\n",
       "      <td>NaN</td>\n",
       "      <td>NaN</td>\n",
       "      <td>2019-05-03 14:29:14</td>\n",
       "      <td>NaN</td>\n",
       "      <td>NaN</td>\n",
       "      <td>NaN</td>\n",
       "      <td>NaN</td>\n",
       "      <td>NaN</td>\n",
       "      <td>NaN</td>\n",
       "      <td>NaN</td>\n",
       "      <td>2019-05-03 14:22:19</td>\n",
       "      <td>NaN</td>\n",
       "      <td>2019-05-03 14:22:19</td>\n",
       "      <td>2019-05-03 14:22:19</td>\n",
       "    </tr>\n",
       "    <tr>\n",
       "      <th>7</th>\n",
       "      <td>8</td>\n",
       "      <td>NaN</td>\n",
       "      <td>NaN</td>\n",
       "      <td>NaN</td>\n",
       "      <td>2019-05-03 15:04:05</td>\n",
       "      <td>NaN</td>\n",
       "      <td>NaN</td>\n",
       "      <td>NaN</td>\n",
       "      <td>NaN</td>\n",
       "      <td>NaN</td>\n",
       "      <td>NaN</td>\n",
       "      <td>NaN</td>\n",
       "      <td>2019-05-03 14:55:46</td>\n",
       "      <td>NaN</td>\n",
       "      <td>2019-05-03 14:55:46</td>\n",
       "      <td>2019-05-03 14:55:46</td>\n",
       "    </tr>\n",
       "    <tr>\n",
       "      <th>8</th>\n",
       "      <td>9</td>\n",
       "      <td>NaN</td>\n",
       "      <td>NaN</td>\n",
       "      <td>NaN</td>\n",
       "      <td>2019-05-03 15:47:34</td>\n",
       "      <td>NaN</td>\n",
       "      <td>NaN</td>\n",
       "      <td>NaN</td>\n",
       "      <td>NaN</td>\n",
       "      <td>NaN</td>\n",
       "      <td>NaN</td>\n",
       "      <td>NaN</td>\n",
       "      <td>2019-05-03 15:41:00</td>\n",
       "      <td>NaN</td>\n",
       "      <td>2019-05-03 15:41:00</td>\n",
       "      <td>2019-05-03 15:41:00</td>\n",
       "    </tr>\n",
       "    <tr>\n",
       "      <th>9</th>\n",
       "      <td>10</td>\n",
       "      <td>NaN</td>\n",
       "      <td>NaN</td>\n",
       "      <td>NaN</td>\n",
       "      <td>NaN</td>\n",
       "      <td>NaN</td>\n",
       "      <td>NaN</td>\n",
       "      <td>NaN</td>\n",
       "      <td>NaN</td>\n",
       "      <td>NaN</td>\n",
       "      <td>NaN</td>\n",
       "      <td>NaN</td>\n",
       "      <td>2019-05-03 16:18:52</td>\n",
       "      <td>NaN</td>\n",
       "      <td>2019-05-03 16:18:52</td>\n",
       "      <td>2019-05-03 16:18:52</td>\n",
       "    </tr>\n",
       "  </tbody>\n",
       "</table>\n",
       "</div>"
      ],
      "text/plain": [
       "   key Bulk 1 Bulk 2 Bulk 3               Bulk 4 Bulk 5 Bulk 6 Bulk 7 Bulk 8  \\\n",
       "0    1    NaN    NaN    NaN  2019-05-03 11:21:30    NaN    NaN    NaN    NaN   \n",
       "1    2    NaN    NaN    NaN  2019-05-03 11:46:38    NaN    NaN    NaN    NaN   \n",
       "2    3    NaN    NaN    NaN  2019-05-03 12:31:06    NaN    NaN    NaN    NaN   \n",
       "3    4    NaN    NaN    NaN  2019-05-03 12:48:43    NaN    NaN    NaN    NaN   \n",
       "4    5    NaN    NaN    NaN  2019-05-03 13:18:50    NaN    NaN    NaN    NaN   \n",
       "5    6    NaN    NaN    NaN  2019-05-03 13:59:24    NaN    NaN    NaN    NaN   \n",
       "6    7    NaN    NaN    NaN  2019-05-03 14:29:14    NaN    NaN    NaN    NaN   \n",
       "7    8    NaN    NaN    NaN  2019-05-03 15:04:05    NaN    NaN    NaN    NaN   \n",
       "8    9    NaN    NaN    NaN  2019-05-03 15:47:34    NaN    NaN    NaN    NaN   \n",
       "9   10    NaN    NaN    NaN                  NaN    NaN    NaN    NaN    NaN   \n",
       "\n",
       "  Bulk 9 Bulk 10 Bulk 11              Bulk 12 Bulk 13              Bulk 14  \\\n",
       "0    NaN     NaN     NaN  2019-05-03 11:03:52     NaN  2019-05-03 11:03:52   \n",
       "1    NaN     NaN     NaN  2019-05-03 11:40:20     NaN  2019-05-03 11:40:20   \n",
       "2    NaN     NaN     NaN  2019-05-03 12:09:40     NaN  2019-05-03 12:09:40   \n",
       "3    NaN     NaN     NaN  2019-05-03 12:41:24     NaN  2019-05-03 12:41:24   \n",
       "4    NaN     NaN     NaN  2019-05-03 13:12:56     NaN  2019-05-03 13:12:56   \n",
       "5    NaN     NaN     NaN  2019-05-03 13:53:27     NaN  2019-05-03 13:53:27   \n",
       "6    NaN     NaN     NaN  2019-05-03 14:22:19     NaN  2019-05-03 14:22:19   \n",
       "7    NaN     NaN     NaN  2019-05-03 14:55:46     NaN  2019-05-03 14:55:46   \n",
       "8    NaN     NaN     NaN  2019-05-03 15:41:00     NaN  2019-05-03 15:41:00   \n",
       "9    NaN     NaN     NaN  2019-05-03 16:18:52     NaN  2019-05-03 16:18:52   \n",
       "\n",
       "               Bulk 15  \n",
       "0  2019-05-03 11:03:52  \n",
       "1  2019-05-03 11:40:20  \n",
       "2  2019-05-03 12:09:40  \n",
       "3  2019-05-03 12:41:24  \n",
       "4  2019-05-03 13:12:56  \n",
       "5  2019-05-03 13:53:27  \n",
       "6  2019-05-03 14:22:19  \n",
       "7  2019-05-03 14:55:46  \n",
       "8  2019-05-03 15:41:00  \n",
       "9  2019-05-03 16:18:52  "
      ]
     },
     "execution_count": 114,
     "metadata": {},
     "output_type": "execute_result"
    }
   ],
   "source": [
    "data_bulk_time = pd.read_csv('/datasets/final_steel/data_bulk_time.csv')\n",
    "data_bulk_time.head(10)"
   ]
  },
  {
   "cell_type": "code",
   "execution_count": 115,
   "id": "d2416ac8",
   "metadata": {},
   "outputs": [
    {
     "name": "stdout",
     "output_type": "stream",
     "text": [
      "Количество уникальных значений номера партии:\n"
     ]
    },
    {
     "data": {
      "text/plain": [
       "3129"
      ]
     },
     "execution_count": 115,
     "metadata": {},
     "output_type": "execute_result"
    }
   ],
   "source": [
    "print('Количество уникальных значений номера партии:')\n",
    "len(data_bulk_time['key'].unique())"
   ]
  },
  {
   "cell_type": "code",
   "execution_count": 116,
   "id": "33a96b35",
   "metadata": {
    "scrolled": false
   },
   "outputs": [
    {
     "name": "stdout",
     "output_type": "stream",
     "text": [
      "<class 'pandas.core.frame.DataFrame'>\n",
      "RangeIndex: 3129 entries, 0 to 3128\n",
      "Data columns (total 16 columns):\n",
      " #   Column   Non-Null Count  Dtype \n",
      "---  ------   --------------  ----- \n",
      " 0   key      3129 non-null   int64 \n",
      " 1   Bulk 1   252 non-null    object\n",
      " 2   Bulk 2   22 non-null     object\n",
      " 3   Bulk 3   1298 non-null   object\n",
      " 4   Bulk 4   1014 non-null   object\n",
      " 5   Bulk 5   77 non-null     object\n",
      " 6   Bulk 6   576 non-null    object\n",
      " 7   Bulk 7   25 non-null     object\n",
      " 8   Bulk 8   1 non-null      object\n",
      " 9   Bulk 9   19 non-null     object\n",
      " 10  Bulk 10  176 non-null    object\n",
      " 11  Bulk 11  177 non-null    object\n",
      " 12  Bulk 12  2450 non-null   object\n",
      " 13  Bulk 13  18 non-null     object\n",
      " 14  Bulk 14  2806 non-null   object\n",
      " 15  Bulk 15  2248 non-null   object\n",
      "dtypes: int64(1), object(15)\n",
      "memory usage: 391.2+ KB\n"
     ]
    }
   ],
   "source": [
    "data_bulk_time.info()"
   ]
  },
  {
   "cell_type": "markdown",
   "id": "ba98f54a",
   "metadata": {},
   "source": [
    "Все значения признаков представленны в типе object, бОльшая часть - пропуски. Количества пропусков в признаках data_bulk_time полностью совпадают с колличествами пропусков в признаках data_bulk."
   ]
  },
  {
   "cell_type": "code",
   "execution_count": 117,
   "id": "8af6e680",
   "metadata": {
    "scrolled": true
   },
   "outputs": [
    {
     "name": "stdout",
     "output_type": "stream",
     "text": [
      "Минимальные и максимальные значения data_bulk_time:\n",
      "\n",
      "Bulk 1: 2019-05-03 17:50:19 ----- 2019-08-30 23:01:32\n",
      "Bulk 2: 2019-05-07 08:36:19 ----- 2019-08-08 17:34:38\n",
      "Bulk 3: 2019-05-03 20:13:36 ----- 2019-08-31 23:39:11\n",
      "Bulk 4: 2019-05-03 11:21:30 ----- 2019-08-30 17:36:30\n",
      "Bulk 5: 2019-05-07 08:36:19 ----- 2019-08-28 09:01:08\n",
      "Bulk 6: 2019-05-03 18:52:57 ----- 2019-09-01 03:12:40\n",
      "Bulk 7: 2019-05-07 11:37:42 ----- 2019-08-31 07:22:25\n",
      "Bulk 8: 2019-07-05 17:46:11 ----- 2019-07-05 17:46:11\n",
      "Bulk 9: 2019-05-14 00:04:56 ----- 2019-08-11 15:09:33\n",
      "Bulk 10: 2019-05-06 01:36:24 ----- 2019-08-30 01:30:42\n",
      "Bulk 11: 2019-05-05 16:45:05 ----- 2019-08-31 16:00:49\n",
      "Bulk 12: 2019-05-03 11:03:52 ----- 2019-09-01 01:39:41\n",
      "Bulk 13: 2019-05-05 00:39:35 ----- 2019-08-26 20:31:16\n",
      "Bulk 14: 2019-05-03 11:03:52 ----- 2019-09-01 04:05:34\n",
      "Bulk 15: 2019-05-03 11:03:52 ----- 2019-09-01 04:05:34\n"
     ]
    }
   ],
   "source": [
    "print('Минимальные и максимальные значения data_bulk_time:')\n",
    "print()\n",
    "for column in data_bulk_time.drop('key', axis=1).columns:\n",
    "    print(column+':', pd.to_datetime(data_bulk_time[column]).min(),\\\n",
    "         '-'*5,\\\n",
    "         pd.to_datetime(data_bulk_time[column]).max())"
   ]
  },
  {
   "cell_type": "markdown",
   "id": "8ec202f6",
   "metadata": {},
   "source": [
    "Временные диапазоны data_bulk_time без явных выбросов. "
   ]
  },
  {
   "cell_type": "markdown",
   "id": "81e97131",
   "metadata": {},
   "source": [
    "Разумно предположить, что пропуски в таблице data_bulk означают отсутствие добавок из соответствующего бункера в данной партии key, так же как и пропуски в data_bulk_time. В таком случае если позиции значений без пропусков data_bulk полностью совпадают с позициями значений без пропусков data_bulk_time данные из обеих таблиц можно принять как верные и пригодные для дальнейшего использования."
   ]
  },
  {
   "cell_type": "code",
   "execution_count": 118,
   "id": "eb6e3111",
   "metadata": {},
   "outputs": [
    {
     "name": "stdout",
     "output_type": "stream",
     "text": [
      "Bulk 1:\n",
      "Позиции значений без пропусков полностью совпадают.\n",
      "Bulk 2:\n",
      "Позиции значений без пропусков полностью совпадают.\n",
      "Bulk 3:\n",
      "Позиции значений без пропусков полностью совпадают.\n",
      "Bulk 4:\n",
      "Позиции значений без пропусков полностью совпадают.\n",
      "Bulk 5:\n",
      "Позиции значений без пропусков полностью совпадают.\n",
      "Bulk 6:\n",
      "Позиции значений без пропусков полностью совпадают.\n",
      "Bulk 7:\n",
      "Позиции значений без пропусков полностью совпадают.\n",
      "Bulk 8:\n",
      "Позиции значений без пропусков полностью совпадают.\n",
      "Bulk 9:\n",
      "Позиции значений без пропусков полностью совпадают.\n",
      "Bulk 10:\n",
      "Позиции значений без пропусков полностью совпадают.\n",
      "Bulk 11:\n",
      "Позиции значений без пропусков полностью совпадают.\n",
      "Bulk 12:\n",
      "Позиции значений без пропусков полностью совпадают.\n",
      "Bulk 13:\n",
      "Позиции значений без пропусков полностью совпадают.\n",
      "Bulk 14:\n",
      "Позиции значений без пропусков полностью совпадают.\n",
      "Bulk 15:\n",
      "Позиции значений без пропусков полностью совпадают.\n"
     ]
    }
   ],
   "source": [
    "for column in data_bulk_time.drop('key', axis=1).columns:\n",
    "    print(column+':')\n",
    "    if (data_bulk_time[column].isna() & data_bulk[column].isna()).sum() ==\\\n",
    "    (data_bulk_time[column].isna().sum()):\n",
    "        print('Позиции значений без пропусков полностью совпадают.')\n",
    "    else:\n",
    "        print('Ошибка!')"
   ]
  },
  {
   "cell_type": "markdown",
   "id": "b73df87e",
   "metadata": {},
   "source": [
    "Значения таблиц data_bulk и data_bulk_time пригодны для дальнекйшего использования."
   ]
  },
  {
   "cell_type": "markdown",
   "id": "830a5bb3",
   "metadata": {},
   "source": [
    "### данные о проволочных материалах"
   ]
  },
  {
   "cell_type": "markdown",
   "id": "f0cc9dd7",
   "metadata": {},
   "source": [
    "#### данные о проволочных материалах (объём)"
   ]
  },
  {
   "cell_type": "code",
   "execution_count": 119,
   "id": "ba6ad6a8",
   "metadata": {
    "scrolled": true
   },
   "outputs": [
    {
     "data": {
      "text/html": [
       "<div>\n",
       "<style scoped>\n",
       "    .dataframe tbody tr th:only-of-type {\n",
       "        vertical-align: middle;\n",
       "    }\n",
       "\n",
       "    .dataframe tbody tr th {\n",
       "        vertical-align: top;\n",
       "    }\n",
       "\n",
       "    .dataframe thead th {\n",
       "        text-align: right;\n",
       "    }\n",
       "</style>\n",
       "<table border=\"1\" class=\"dataframe\">\n",
       "  <thead>\n",
       "    <tr style=\"text-align: right;\">\n",
       "      <th></th>\n",
       "      <th>key</th>\n",
       "      <th>Wire 1</th>\n",
       "      <th>Wire 2</th>\n",
       "      <th>Wire 3</th>\n",
       "      <th>Wire 4</th>\n",
       "      <th>Wire 5</th>\n",
       "      <th>Wire 6</th>\n",
       "      <th>Wire 7</th>\n",
       "      <th>Wire 8</th>\n",
       "      <th>Wire 9</th>\n",
       "    </tr>\n",
       "  </thead>\n",
       "  <tbody>\n",
       "    <tr>\n",
       "      <th>0</th>\n",
       "      <td>1</td>\n",
       "      <td>60.059998</td>\n",
       "      <td>NaN</td>\n",
       "      <td>NaN</td>\n",
       "      <td>NaN</td>\n",
       "      <td>NaN</td>\n",
       "      <td>NaN</td>\n",
       "      <td>NaN</td>\n",
       "      <td>NaN</td>\n",
       "      <td>NaN</td>\n",
       "    </tr>\n",
       "    <tr>\n",
       "      <th>1</th>\n",
       "      <td>2</td>\n",
       "      <td>96.052315</td>\n",
       "      <td>NaN</td>\n",
       "      <td>NaN</td>\n",
       "      <td>NaN</td>\n",
       "      <td>NaN</td>\n",
       "      <td>NaN</td>\n",
       "      <td>NaN</td>\n",
       "      <td>NaN</td>\n",
       "      <td>NaN</td>\n",
       "    </tr>\n",
       "    <tr>\n",
       "      <th>2</th>\n",
       "      <td>3</td>\n",
       "      <td>91.160157</td>\n",
       "      <td>NaN</td>\n",
       "      <td>NaN</td>\n",
       "      <td>NaN</td>\n",
       "      <td>NaN</td>\n",
       "      <td>NaN</td>\n",
       "      <td>NaN</td>\n",
       "      <td>NaN</td>\n",
       "      <td>NaN</td>\n",
       "    </tr>\n",
       "    <tr>\n",
       "      <th>3</th>\n",
       "      <td>4</td>\n",
       "      <td>89.063515</td>\n",
       "      <td>NaN</td>\n",
       "      <td>NaN</td>\n",
       "      <td>NaN</td>\n",
       "      <td>NaN</td>\n",
       "      <td>NaN</td>\n",
       "      <td>NaN</td>\n",
       "      <td>NaN</td>\n",
       "      <td>NaN</td>\n",
       "    </tr>\n",
       "    <tr>\n",
       "      <th>4</th>\n",
       "      <td>5</td>\n",
       "      <td>89.238236</td>\n",
       "      <td>9.114560</td>\n",
       "      <td>NaN</td>\n",
       "      <td>NaN</td>\n",
       "      <td>NaN</td>\n",
       "      <td>NaN</td>\n",
       "      <td>NaN</td>\n",
       "      <td>NaN</td>\n",
       "      <td>NaN</td>\n",
       "    </tr>\n",
       "    <tr>\n",
       "      <th>5</th>\n",
       "      <td>6</td>\n",
       "      <td>99.109917</td>\n",
       "      <td>9.114560</td>\n",
       "      <td>NaN</td>\n",
       "      <td>NaN</td>\n",
       "      <td>NaN</td>\n",
       "      <td>NaN</td>\n",
       "      <td>NaN</td>\n",
       "      <td>NaN</td>\n",
       "      <td>NaN</td>\n",
       "    </tr>\n",
       "    <tr>\n",
       "      <th>6</th>\n",
       "      <td>7</td>\n",
       "      <td>98.061600</td>\n",
       "      <td>NaN</td>\n",
       "      <td>NaN</td>\n",
       "      <td>NaN</td>\n",
       "      <td>NaN</td>\n",
       "      <td>NaN</td>\n",
       "      <td>NaN</td>\n",
       "      <td>NaN</td>\n",
       "      <td>NaN</td>\n",
       "    </tr>\n",
       "    <tr>\n",
       "      <th>7</th>\n",
       "      <td>8</td>\n",
       "      <td>155.282394</td>\n",
       "      <td>NaN</td>\n",
       "      <td>NaN</td>\n",
       "      <td>NaN</td>\n",
       "      <td>NaN</td>\n",
       "      <td>NaN</td>\n",
       "      <td>NaN</td>\n",
       "      <td>NaN</td>\n",
       "      <td>NaN</td>\n",
       "    </tr>\n",
       "    <tr>\n",
       "      <th>8</th>\n",
       "      <td>9</td>\n",
       "      <td>113.393279</td>\n",
       "      <td>9.143681</td>\n",
       "      <td>NaN</td>\n",
       "      <td>NaN</td>\n",
       "      <td>NaN</td>\n",
       "      <td>NaN</td>\n",
       "      <td>NaN</td>\n",
       "      <td>NaN</td>\n",
       "      <td>NaN</td>\n",
       "    </tr>\n",
       "    <tr>\n",
       "      <th>9</th>\n",
       "      <td>10</td>\n",
       "      <td>81.244796</td>\n",
       "      <td>12.376000</td>\n",
       "      <td>NaN</td>\n",
       "      <td>NaN</td>\n",
       "      <td>NaN</td>\n",
       "      <td>NaN</td>\n",
       "      <td>NaN</td>\n",
       "      <td>NaN</td>\n",
       "      <td>NaN</td>\n",
       "    </tr>\n",
       "  </tbody>\n",
       "</table>\n",
       "</div>"
      ],
      "text/plain": [
       "   key      Wire 1     Wire 2  Wire 3  Wire 4  Wire 5  Wire 6  Wire 7  Wire 8  \\\n",
       "0    1   60.059998        NaN     NaN     NaN     NaN     NaN     NaN     NaN   \n",
       "1    2   96.052315        NaN     NaN     NaN     NaN     NaN     NaN     NaN   \n",
       "2    3   91.160157        NaN     NaN     NaN     NaN     NaN     NaN     NaN   \n",
       "3    4   89.063515        NaN     NaN     NaN     NaN     NaN     NaN     NaN   \n",
       "4    5   89.238236   9.114560     NaN     NaN     NaN     NaN     NaN     NaN   \n",
       "5    6   99.109917   9.114560     NaN     NaN     NaN     NaN     NaN     NaN   \n",
       "6    7   98.061600        NaN     NaN     NaN     NaN     NaN     NaN     NaN   \n",
       "7    8  155.282394        NaN     NaN     NaN     NaN     NaN     NaN     NaN   \n",
       "8    9  113.393279   9.143681     NaN     NaN     NaN     NaN     NaN     NaN   \n",
       "9   10   81.244796  12.376000     NaN     NaN     NaN     NaN     NaN     NaN   \n",
       "\n",
       "   Wire 9  \n",
       "0     NaN  \n",
       "1     NaN  \n",
       "2     NaN  \n",
       "3     NaN  \n",
       "4     NaN  \n",
       "5     NaN  \n",
       "6     NaN  \n",
       "7     NaN  \n",
       "8     NaN  \n",
       "9     NaN  "
      ]
     },
     "execution_count": 119,
     "metadata": {},
     "output_type": "execute_result"
    }
   ],
   "source": [
    "data_wire = pd.read_csv('/datasets/final_steel/data_wire.csv')\n",
    "data_wire.head(10)"
   ]
  },
  {
   "cell_type": "code",
   "execution_count": 120,
   "id": "ebec849d",
   "metadata": {},
   "outputs": [
    {
     "name": "stdout",
     "output_type": "stream",
     "text": [
      "Количество уникальных значений номера партии:\n"
     ]
    },
    {
     "data": {
      "text/plain": [
       "3081"
      ]
     },
     "execution_count": 120,
     "metadata": {},
     "output_type": "execute_result"
    }
   ],
   "source": [
    "print('Количество уникальных значений номера партии:')\n",
    "len(data_wire['key'].unique())"
   ]
  },
  {
   "cell_type": "code",
   "execution_count": 121,
   "id": "136ae27b",
   "metadata": {},
   "outputs": [
    {
     "name": "stdout",
     "output_type": "stream",
     "text": [
      "<class 'pandas.core.frame.DataFrame'>\n",
      "RangeIndex: 3081 entries, 0 to 3080\n",
      "Data columns (total 10 columns):\n",
      " #   Column  Non-Null Count  Dtype  \n",
      "---  ------  --------------  -----  \n",
      " 0   key     3081 non-null   int64  \n",
      " 1   Wire 1  3055 non-null   float64\n",
      " 2   Wire 2  1079 non-null   float64\n",
      " 3   Wire 3  63 non-null     float64\n",
      " 4   Wire 4  14 non-null     float64\n",
      " 5   Wire 5  1 non-null      float64\n",
      " 6   Wire 6  73 non-null     float64\n",
      " 7   Wire 7  11 non-null     float64\n",
      " 8   Wire 8  19 non-null     float64\n",
      " 9   Wire 9  29 non-null     float64\n",
      "dtypes: float64(9), int64(1)\n",
      "memory usage: 240.8 KB\n"
     ]
    }
   ],
   "source": [
    "data_wire.info()"
   ]
  },
  {
   "cell_type": "markdown",
   "id": "a458fe97",
   "metadata": {},
   "source": [
    "Все значения признаков в data_wire представлены в типе float64. Wire 1 почти без пропусков, Wire 2 - около трети без пропусков, остальные значения почти отсутствуют."
   ]
  },
  {
   "cell_type": "code",
   "execution_count": 122,
   "id": "eab31865",
   "metadata": {
    "scrolled": false
   },
   "outputs": [
    {
     "data": {
      "text/plain": [
       "key        1.000000\n",
       "Wire 1     1.918800\n",
       "Wire 2     0.030160\n",
       "Wire 3     0.144144\n",
       "Wire 4    24.148801\n",
       "Wire 5    15.132000\n",
       "Wire 6     0.034320\n",
       "Wire 7     0.234208\n",
       "Wire 8    45.076721\n",
       "Wire 9     4.622800\n",
       "dtype: float64"
      ]
     },
     "execution_count": 122,
     "metadata": {},
     "output_type": "execute_result"
    }
   ],
   "source": [
    "data_wire.min()"
   ]
  },
  {
   "cell_type": "markdown",
   "id": "f207e320",
   "metadata": {},
   "source": [
    "Отрицательных значений нет (выбросов по этому критерию нет)."
   ]
  },
  {
   "cell_type": "markdown",
   "id": "3f39d641",
   "metadata": {},
   "source": [
    "####  данные о проволочных материалах (время)"
   ]
  },
  {
   "cell_type": "code",
   "execution_count": 123,
   "id": "0700bab2",
   "metadata": {
    "scrolled": false
   },
   "outputs": [
    {
     "data": {
      "text/html": [
       "<div>\n",
       "<style scoped>\n",
       "    .dataframe tbody tr th:only-of-type {\n",
       "        vertical-align: middle;\n",
       "    }\n",
       "\n",
       "    .dataframe tbody tr th {\n",
       "        vertical-align: top;\n",
       "    }\n",
       "\n",
       "    .dataframe thead th {\n",
       "        text-align: right;\n",
       "    }\n",
       "</style>\n",
       "<table border=\"1\" class=\"dataframe\">\n",
       "  <thead>\n",
       "    <tr style=\"text-align: right;\">\n",
       "      <th></th>\n",
       "      <th>key</th>\n",
       "      <th>Wire 1</th>\n",
       "      <th>Wire 2</th>\n",
       "      <th>Wire 3</th>\n",
       "      <th>Wire 4</th>\n",
       "      <th>Wire 5</th>\n",
       "      <th>Wire 6</th>\n",
       "      <th>Wire 7</th>\n",
       "      <th>Wire 8</th>\n",
       "      <th>Wire 9</th>\n",
       "    </tr>\n",
       "  </thead>\n",
       "  <tbody>\n",
       "    <tr>\n",
       "      <th>0</th>\n",
       "      <td>1</td>\n",
       "      <td>2019-05-03 11:11:41</td>\n",
       "      <td>NaN</td>\n",
       "      <td>NaN</td>\n",
       "      <td>NaN</td>\n",
       "      <td>NaN</td>\n",
       "      <td>NaN</td>\n",
       "      <td>NaN</td>\n",
       "      <td>NaN</td>\n",
       "      <td>NaN</td>\n",
       "    </tr>\n",
       "    <tr>\n",
       "      <th>1</th>\n",
       "      <td>2</td>\n",
       "      <td>2019-05-03 11:46:10</td>\n",
       "      <td>NaN</td>\n",
       "      <td>NaN</td>\n",
       "      <td>NaN</td>\n",
       "      <td>NaN</td>\n",
       "      <td>NaN</td>\n",
       "      <td>NaN</td>\n",
       "      <td>NaN</td>\n",
       "      <td>NaN</td>\n",
       "    </tr>\n",
       "    <tr>\n",
       "      <th>2</th>\n",
       "      <td>3</td>\n",
       "      <td>2019-05-03 12:13:47</td>\n",
       "      <td>NaN</td>\n",
       "      <td>NaN</td>\n",
       "      <td>NaN</td>\n",
       "      <td>NaN</td>\n",
       "      <td>NaN</td>\n",
       "      <td>NaN</td>\n",
       "      <td>NaN</td>\n",
       "      <td>NaN</td>\n",
       "    </tr>\n",
       "    <tr>\n",
       "      <th>3</th>\n",
       "      <td>4</td>\n",
       "      <td>2019-05-03 12:48:05</td>\n",
       "      <td>NaN</td>\n",
       "      <td>NaN</td>\n",
       "      <td>NaN</td>\n",
       "      <td>NaN</td>\n",
       "      <td>NaN</td>\n",
       "      <td>NaN</td>\n",
       "      <td>NaN</td>\n",
       "      <td>NaN</td>\n",
       "    </tr>\n",
       "    <tr>\n",
       "      <th>4</th>\n",
       "      <td>5</td>\n",
       "      <td>2019-05-03 13:18:15</td>\n",
       "      <td>2019-05-03 13:32:06</td>\n",
       "      <td>NaN</td>\n",
       "      <td>NaN</td>\n",
       "      <td>NaN</td>\n",
       "      <td>NaN</td>\n",
       "      <td>NaN</td>\n",
       "      <td>NaN</td>\n",
       "      <td>NaN</td>\n",
       "    </tr>\n",
       "    <tr>\n",
       "      <th>5</th>\n",
       "      <td>6</td>\n",
       "      <td>2019-05-03 13:59:02</td>\n",
       "      <td>2019-05-03 13:59:54</td>\n",
       "      <td>NaN</td>\n",
       "      <td>NaN</td>\n",
       "      <td>NaN</td>\n",
       "      <td>NaN</td>\n",
       "      <td>NaN</td>\n",
       "      <td>NaN</td>\n",
       "      <td>NaN</td>\n",
       "    </tr>\n",
       "    <tr>\n",
       "      <th>6</th>\n",
       "      <td>7</td>\n",
       "      <td>2019-05-03 14:28:46</td>\n",
       "      <td>NaN</td>\n",
       "      <td>NaN</td>\n",
       "      <td>NaN</td>\n",
       "      <td>NaN</td>\n",
       "      <td>NaN</td>\n",
       "      <td>NaN</td>\n",
       "      <td>NaN</td>\n",
       "      <td>NaN</td>\n",
       "    </tr>\n",
       "    <tr>\n",
       "      <th>7</th>\n",
       "      <td>8</td>\n",
       "      <td>2019-05-03 15:03:42</td>\n",
       "      <td>NaN</td>\n",
       "      <td>NaN</td>\n",
       "      <td>NaN</td>\n",
       "      <td>NaN</td>\n",
       "      <td>NaN</td>\n",
       "      <td>NaN</td>\n",
       "      <td>NaN</td>\n",
       "      <td>NaN</td>\n",
       "    </tr>\n",
       "    <tr>\n",
       "      <th>8</th>\n",
       "      <td>9</td>\n",
       "      <td>2019-05-03 15:42:43</td>\n",
       "      <td>2019-05-03 15:58:12</td>\n",
       "      <td>NaN</td>\n",
       "      <td>NaN</td>\n",
       "      <td>NaN</td>\n",
       "      <td>NaN</td>\n",
       "      <td>NaN</td>\n",
       "      <td>NaN</td>\n",
       "      <td>NaN</td>\n",
       "    </tr>\n",
       "    <tr>\n",
       "      <th>9</th>\n",
       "      <td>10</td>\n",
       "      <td>2019-05-03 16:20:25</td>\n",
       "      <td>2019-05-03 16:21:02</td>\n",
       "      <td>NaN</td>\n",
       "      <td>NaN</td>\n",
       "      <td>NaN</td>\n",
       "      <td>NaN</td>\n",
       "      <td>NaN</td>\n",
       "      <td>NaN</td>\n",
       "      <td>NaN</td>\n",
       "    </tr>\n",
       "  </tbody>\n",
       "</table>\n",
       "</div>"
      ],
      "text/plain": [
       "   key               Wire 1               Wire 2 Wire 3 Wire 4 Wire 5 Wire 6  \\\n",
       "0    1  2019-05-03 11:11:41                  NaN    NaN    NaN    NaN    NaN   \n",
       "1    2  2019-05-03 11:46:10                  NaN    NaN    NaN    NaN    NaN   \n",
       "2    3  2019-05-03 12:13:47                  NaN    NaN    NaN    NaN    NaN   \n",
       "3    4  2019-05-03 12:48:05                  NaN    NaN    NaN    NaN    NaN   \n",
       "4    5  2019-05-03 13:18:15  2019-05-03 13:32:06    NaN    NaN    NaN    NaN   \n",
       "5    6  2019-05-03 13:59:02  2019-05-03 13:59:54    NaN    NaN    NaN    NaN   \n",
       "6    7  2019-05-03 14:28:46                  NaN    NaN    NaN    NaN    NaN   \n",
       "7    8  2019-05-03 15:03:42                  NaN    NaN    NaN    NaN    NaN   \n",
       "8    9  2019-05-03 15:42:43  2019-05-03 15:58:12    NaN    NaN    NaN    NaN   \n",
       "9   10  2019-05-03 16:20:25  2019-05-03 16:21:02    NaN    NaN    NaN    NaN   \n",
       "\n",
       "  Wire 7 Wire 8 Wire 9  \n",
       "0    NaN    NaN    NaN  \n",
       "1    NaN    NaN    NaN  \n",
       "2    NaN    NaN    NaN  \n",
       "3    NaN    NaN    NaN  \n",
       "4    NaN    NaN    NaN  \n",
       "5    NaN    NaN    NaN  \n",
       "6    NaN    NaN    NaN  \n",
       "7    NaN    NaN    NaN  \n",
       "8    NaN    NaN    NaN  \n",
       "9    NaN    NaN    NaN  "
      ]
     },
     "execution_count": 123,
     "metadata": {},
     "output_type": "execute_result"
    }
   ],
   "source": [
    "data_wire_time = pd.read_csv('/datasets/final_steel/data_wire_time.csv')\n",
    "data_wire_time.head(10)"
   ]
  },
  {
   "cell_type": "code",
   "execution_count": 124,
   "id": "5ea0be0b",
   "metadata": {
    "scrolled": true
   },
   "outputs": [
    {
     "name": "stdout",
     "output_type": "stream",
     "text": [
      "Количество уникальных значений номера партии:\n"
     ]
    },
    {
     "data": {
      "text/plain": [
       "3081"
      ]
     },
     "execution_count": 124,
     "metadata": {},
     "output_type": "execute_result"
    }
   ],
   "source": [
    "print('Количество уникальных значений номера партии:')\n",
    "len(data_wire_time['key'].unique())"
   ]
  },
  {
   "cell_type": "code",
   "execution_count": 125,
   "id": "a0d493e2",
   "metadata": {
    "scrolled": true
   },
   "outputs": [
    {
     "name": "stdout",
     "output_type": "stream",
     "text": [
      "<class 'pandas.core.frame.DataFrame'>\n",
      "RangeIndex: 3081 entries, 0 to 3080\n",
      "Data columns (total 10 columns):\n",
      " #   Column  Non-Null Count  Dtype \n",
      "---  ------  --------------  ----- \n",
      " 0   key     3081 non-null   int64 \n",
      " 1   Wire 1  3055 non-null   object\n",
      " 2   Wire 2  1079 non-null   object\n",
      " 3   Wire 3  63 non-null     object\n",
      " 4   Wire 4  14 non-null     object\n",
      " 5   Wire 5  1 non-null      object\n",
      " 6   Wire 6  73 non-null     object\n",
      " 7   Wire 7  11 non-null     object\n",
      " 8   Wire 8  19 non-null     object\n",
      " 9   Wire 9  29 non-null     object\n",
      "dtypes: int64(1), object(9)\n",
      "memory usage: 240.8+ KB\n"
     ]
    }
   ],
   "source": [
    "data_wire_time.info()"
   ]
  },
  {
   "cell_type": "markdown",
   "id": "e87eaf14",
   "metadata": {},
   "source": [
    "Все значения признаков в data_wire_time представлены в типе object. Wire 1 почти без пропусков, Wire 2 - около трети без пропусков, остальные значения почти отсутствуют. Количества пропусков в признаках data_wire_time полностью совпадают с количествами пропусков в признаках data_wire."
   ]
  },
  {
   "cell_type": "code",
   "execution_count": 126,
   "id": "aeb87945",
   "metadata": {
    "scrolled": false
   },
   "outputs": [
    {
     "name": "stdout",
     "output_type": "stream",
     "text": [
      "Минимальные и максимальные значения data_wire_time:\n",
      "\n",
      "Wire 1: 2019-05-03 11:11:41 ----- 2019-09-01 04:16:01\n",
      "Wire 2: 2019-05-03 13:32:06 ----- 2019-08-31 18:50:15\n",
      "Wire 3: 2019-05-04 04:47:53 ----- 2019-08-28 02:11:18\n",
      "Wire 4: 2019-05-07 08:48:23 ----- 2019-08-08 12:03:12\n",
      "Wire 5: 2019-08-08 16:01:07 ----- 2019-08-08 16:01:07\n",
      "Wire 6: 2019-05-07 08:37:20 ----- 2019-08-14 00:59:11\n",
      "Wire 7: 2019-07-23 12:08:44 ----- 2019-08-08 18:27:34\n",
      "Wire 8: 2019-05-14 00:03:32 ----- 2019-08-11 15:09:29\n",
      "Wire 9: 2019-05-04 16:09:11 ----- 2019-08-29 03:51:31\n"
     ]
    }
   ],
   "source": [
    "print('Минимальные и максимальные значения data_wire_time:')\n",
    "print()\n",
    "for column in data_wire_time.drop('key', axis=1).columns:\n",
    "    print(column+':', pd.to_datetime(data_wire_time[column]).min(),\\\n",
    "         '-'*5,\\\n",
    "         pd.to_datetime(data_wire_time[column]).max())"
   ]
  },
  {
   "cell_type": "markdown",
   "id": "d85b2771",
   "metadata": {},
   "source": [
    "Временные диапазоны data_wire_time без явных выбросов."
   ]
  },
  {
   "cell_type": "markdown",
   "id": "c3006d04",
   "metadata": {},
   "source": [
    "По аналогии с data_bulk и data_bulk_time разумно предположить, что пропуски в таблице data_wire означают отсутствие добавок соответствующего провода в данной партии key, так же как и пропуски в data_wire_time. В таком случае если позиции значений без пропусков data_wire полностью совпадают с позициями значений без пропусков data_wire_time данные из обеих таблиц можно принять как верные и пригодные для дальнейшего использования."
   ]
  },
  {
   "cell_type": "code",
   "execution_count": 127,
   "id": "c91da0e7",
   "metadata": {},
   "outputs": [
    {
     "name": "stdout",
     "output_type": "stream",
     "text": [
      "Wire 1:\n",
      "Позиции значений без пропусков полностью совпадают.\n",
      "Wire 2:\n",
      "Позиции значений без пропусков полностью совпадают.\n",
      "Wire 3:\n",
      "Позиции значений без пропусков полностью совпадают.\n",
      "Wire 4:\n",
      "Позиции значений без пропусков полностью совпадают.\n",
      "Wire 5:\n",
      "Позиции значений без пропусков полностью совпадают.\n",
      "Wire 6:\n",
      "Позиции значений без пропусков полностью совпадают.\n",
      "Wire 7:\n",
      "Позиции значений без пропусков полностью совпадают.\n",
      "Wire 8:\n",
      "Позиции значений без пропусков полностью совпадают.\n",
      "Wire 9:\n",
      "Позиции значений без пропусков полностью совпадают.\n"
     ]
    }
   ],
   "source": [
    "for column in data_wire.drop('key', axis=1).columns:\n",
    "    print(column+':')\n",
    "    if (data_wire[column].isna() & data_wire_time[column].isna()).sum() ==\\\n",
    "    (data_wire[column].isna().sum()):\n",
    "        print('Позиции значений без пропусков полностью совпадают.')\n",
    "    else:\n",
    "        print('Ошибка!')"
   ]
  },
  {
   "cell_type": "markdown",
   "id": "31e8d730",
   "metadata": {},
   "source": [
    "Значения таблиц data_wire и data_wire_time пригодны для дальнекйшего использования."
   ]
  },
  {
   "cell_type": "markdown",
   "id": "6005ad39",
   "metadata": {},
   "source": [
    "### данные о продувке сплава газом"
   ]
  },
  {
   "cell_type": "code",
   "execution_count": 128,
   "id": "f17d8fd8",
   "metadata": {
    "scrolled": true
   },
   "outputs": [
    {
     "data": {
      "text/html": [
       "<div>\n",
       "<style scoped>\n",
       "    .dataframe tbody tr th:only-of-type {\n",
       "        vertical-align: middle;\n",
       "    }\n",
       "\n",
       "    .dataframe tbody tr th {\n",
       "        vertical-align: top;\n",
       "    }\n",
       "\n",
       "    .dataframe thead th {\n",
       "        text-align: right;\n",
       "    }\n",
       "</style>\n",
       "<table border=\"1\" class=\"dataframe\">\n",
       "  <thead>\n",
       "    <tr style=\"text-align: right;\">\n",
       "      <th></th>\n",
       "      <th>key</th>\n",
       "      <th>Газ 1</th>\n",
       "    </tr>\n",
       "  </thead>\n",
       "  <tbody>\n",
       "    <tr>\n",
       "      <th>0</th>\n",
       "      <td>1</td>\n",
       "      <td>29.749986</td>\n",
       "    </tr>\n",
       "    <tr>\n",
       "      <th>1</th>\n",
       "      <td>2</td>\n",
       "      <td>12.555561</td>\n",
       "    </tr>\n",
       "    <tr>\n",
       "      <th>2</th>\n",
       "      <td>3</td>\n",
       "      <td>28.554793</td>\n",
       "    </tr>\n",
       "    <tr>\n",
       "      <th>3</th>\n",
       "      <td>4</td>\n",
       "      <td>18.841219</td>\n",
       "    </tr>\n",
       "    <tr>\n",
       "      <th>4</th>\n",
       "      <td>5</td>\n",
       "      <td>5.413692</td>\n",
       "    </tr>\n",
       "    <tr>\n",
       "      <th>5</th>\n",
       "      <td>6</td>\n",
       "      <td>11.273392</td>\n",
       "    </tr>\n",
       "    <tr>\n",
       "      <th>6</th>\n",
       "      <td>7</td>\n",
       "      <td>9.836267</td>\n",
       "    </tr>\n",
       "    <tr>\n",
       "      <th>7</th>\n",
       "      <td>8</td>\n",
       "      <td>15.171553</td>\n",
       "    </tr>\n",
       "    <tr>\n",
       "      <th>8</th>\n",
       "      <td>9</td>\n",
       "      <td>8.216623</td>\n",
       "    </tr>\n",
       "    <tr>\n",
       "      <th>9</th>\n",
       "      <td>10</td>\n",
       "      <td>6.529891</td>\n",
       "    </tr>\n",
       "  </tbody>\n",
       "</table>\n",
       "</div>"
      ],
      "text/plain": [
       "   key      Газ 1\n",
       "0    1  29.749986\n",
       "1    2  12.555561\n",
       "2    3  28.554793\n",
       "3    4  18.841219\n",
       "4    5   5.413692\n",
       "5    6  11.273392\n",
       "6    7   9.836267\n",
       "7    8  15.171553\n",
       "8    9   8.216623\n",
       "9   10   6.529891"
      ]
     },
     "execution_count": 128,
     "metadata": {},
     "output_type": "execute_result"
    }
   ],
   "source": [
    "data_gas = pd.read_csv('/datasets/final_steel/data_gas.csv')\n",
    "data_gas.head(10)"
   ]
  },
  {
   "cell_type": "code",
   "execution_count": 129,
   "id": "a69856d2",
   "metadata": {},
   "outputs": [
    {
     "name": "stdout",
     "output_type": "stream",
     "text": [
      "Количество уникальных значений номера партии:\n"
     ]
    },
    {
     "data": {
      "text/plain": [
       "3239"
      ]
     },
     "execution_count": 129,
     "metadata": {},
     "output_type": "execute_result"
    }
   ],
   "source": [
    "print('Количество уникальных значений номера партии:')\n",
    "len(data_gas['key'].unique())"
   ]
  },
  {
   "cell_type": "code",
   "execution_count": 130,
   "id": "a950b162",
   "metadata": {},
   "outputs": [
    {
     "name": "stdout",
     "output_type": "stream",
     "text": [
      "<class 'pandas.core.frame.DataFrame'>\n",
      "RangeIndex: 3239 entries, 0 to 3238\n",
      "Data columns (total 2 columns):\n",
      " #   Column  Non-Null Count  Dtype  \n",
      "---  ------  --------------  -----  \n",
      " 0   key     3239 non-null   int64  \n",
      " 1   Газ 1   3239 non-null   float64\n",
      "dtypes: float64(1), int64(1)\n",
      "memory usage: 50.7 KB\n"
     ]
    }
   ],
   "source": [
    "data_gas.info()"
   ]
  },
  {
   "cell_type": "markdown",
   "id": "0a6ff8c2",
   "metadata": {},
   "source": [
    "Пропусков нет, тип данных - float64. "
   ]
  },
  {
   "cell_type": "code",
   "execution_count": 131,
   "id": "907c871f",
   "metadata": {},
   "outputs": [
    {
     "data": {
      "image/png": "[encoded data removed]",
      "text/plain": [
       "<Figure size 432x288 with 1 Axes>"
      ]
     },
     "metadata": {
      "needs_background": "light"
     },
     "output_type": "display_data"
    }
   ],
   "source": [
    "data_gas['Газ 1'].hist(bins=75)\n",
    "plt.show()"
   ]
  },
  {
   "cell_type": "markdown",
   "id": "6a445394",
   "metadata": {},
   "source": [
    "Распределение признаков нормальное. Данные data_gas можно считать пригодными для дальнейшей работы."
   ]
  },
  {
   "cell_type": "markdown",
   "id": "10673c77",
   "metadata": {},
   "source": [
    "### результаты измерения температуры"
   ]
  },
  {
   "cell_type": "code",
   "execution_count": 132,
   "id": "ff18b27a",
   "metadata": {},
   "outputs": [
    {
     "data": {
      "text/html": [
       "<div>\n",
       "<style scoped>\n",
       "    .dataframe tbody tr th:only-of-type {\n",
       "        vertical-align: middle;\n",
       "    }\n",
       "\n",
       "    .dataframe tbody tr th {\n",
       "        vertical-align: top;\n",
       "    }\n",
       "\n",
       "    .dataframe thead th {\n",
       "        text-align: right;\n",
       "    }\n",
       "</style>\n",
       "<table border=\"1\" class=\"dataframe\">\n",
       "  <thead>\n",
       "    <tr style=\"text-align: right;\">\n",
       "      <th></th>\n",
       "      <th>key</th>\n",
       "      <th>Время замера</th>\n",
       "      <th>Температура</th>\n",
       "    </tr>\n",
       "  </thead>\n",
       "  <tbody>\n",
       "    <tr>\n",
       "      <th>0</th>\n",
       "      <td>1</td>\n",
       "      <td>2019-05-03 11:16:18</td>\n",
       "      <td>1571.0</td>\n",
       "    </tr>\n",
       "    <tr>\n",
       "      <th>1</th>\n",
       "      <td>1</td>\n",
       "      <td>2019-05-03 11:25:53</td>\n",
       "      <td>1604.0</td>\n",
       "    </tr>\n",
       "    <tr>\n",
       "      <th>2</th>\n",
       "      <td>1</td>\n",
       "      <td>2019-05-03 11:29:11</td>\n",
       "      <td>1618.0</td>\n",
       "    </tr>\n",
       "    <tr>\n",
       "      <th>3</th>\n",
       "      <td>1</td>\n",
       "      <td>2019-05-03 11:30:01</td>\n",
       "      <td>1601.0</td>\n",
       "    </tr>\n",
       "    <tr>\n",
       "      <th>4</th>\n",
       "      <td>1</td>\n",
       "      <td>2019-05-03 11:30:39</td>\n",
       "      <td>1613.0</td>\n",
       "    </tr>\n",
       "    <tr>\n",
       "      <th>5</th>\n",
       "      <td>2</td>\n",
       "      <td>2019-05-03 11:37:27</td>\n",
       "      <td>1581.0</td>\n",
       "    </tr>\n",
       "    <tr>\n",
       "      <th>6</th>\n",
       "      <td>2</td>\n",
       "      <td>2019-05-03 11:38:00</td>\n",
       "      <td>1577.0</td>\n",
       "    </tr>\n",
       "    <tr>\n",
       "      <th>7</th>\n",
       "      <td>2</td>\n",
       "      <td>2019-05-03 11:49:38</td>\n",
       "      <td>1589.0</td>\n",
       "    </tr>\n",
       "    <tr>\n",
       "      <th>8</th>\n",
       "      <td>2</td>\n",
       "      <td>2019-05-03 11:55:50</td>\n",
       "      <td>1604.0</td>\n",
       "    </tr>\n",
       "    <tr>\n",
       "      <th>9</th>\n",
       "      <td>2</td>\n",
       "      <td>2019-05-03 11:58:24</td>\n",
       "      <td>1608.0</td>\n",
       "    </tr>\n",
       "  </tbody>\n",
       "</table>\n",
       "</div>"
      ],
      "text/plain": [
       "   key         Время замера  Температура\n",
       "0    1  2019-05-03 11:16:18       1571.0\n",
       "1    1  2019-05-03 11:25:53       1604.0\n",
       "2    1  2019-05-03 11:29:11       1618.0\n",
       "3    1  2019-05-03 11:30:01       1601.0\n",
       "4    1  2019-05-03 11:30:39       1613.0\n",
       "5    2  2019-05-03 11:37:27       1581.0\n",
       "6    2  2019-05-03 11:38:00       1577.0\n",
       "7    2  2019-05-03 11:49:38       1589.0\n",
       "8    2  2019-05-03 11:55:50       1604.0\n",
       "9    2  2019-05-03 11:58:24       1608.0"
      ]
     },
     "execution_count": 132,
     "metadata": {},
     "output_type": "execute_result"
    }
   ],
   "source": [
    "data_temp = pd.read_csv('/datasets/final_steel/data_temp.csv')\n",
    "data_temp.head(10)"
   ]
  },
  {
   "cell_type": "code",
   "execution_count": 133,
   "id": "519ab1b4",
   "metadata": {},
   "outputs": [
    {
     "name": "stdout",
     "output_type": "stream",
     "text": [
      "Количество уникальных значений номера партии:\n"
     ]
    },
    {
     "data": {
      "text/plain": [
       "3216"
      ]
     },
     "execution_count": 133,
     "metadata": {},
     "output_type": "execute_result"
    }
   ],
   "source": [
    "print('Количество уникальных значений номера партии:')\n",
    "len(data_temp['key'].unique())"
   ]
  },
  {
   "cell_type": "code",
   "execution_count": 134,
   "id": "a282de34",
   "metadata": {},
   "outputs": [
    {
     "name": "stdout",
     "output_type": "stream",
     "text": [
      "<class 'pandas.core.frame.DataFrame'>\n",
      "RangeIndex: 15907 entries, 0 to 15906\n",
      "Data columns (total 3 columns):\n",
      " #   Column        Non-Null Count  Dtype  \n",
      "---  ------        --------------  -----  \n",
      " 0   key           15907 non-null  int64  \n",
      " 1   Время замера  15907 non-null  object \n",
      " 2   Температура   13006 non-null  float64\n",
      "dtypes: float64(1), int64(1), object(1)\n",
      "memory usage: 372.9+ KB\n"
     ]
    }
   ],
   "source": [
    "data_temp.info()"
   ]
  },
  {
   "cell_type": "markdown",
   "id": "4efc8e03",
   "metadata": {},
   "source": [
    "2901 строка с пропусками значений \"Температура\", это почти 20% от всеё таблицы. В случае использовании данных data_temp пропуски необходимо заполнить, или придётся избавиться от этих строк."
   ]
  },
  {
   "cell_type": "code",
   "execution_count": 135,
   "id": "c86a4d20",
   "metadata": {},
   "outputs": [
    {
     "data": {
      "image/png": "[encoded data removed]",
      "text/plain": [
       "<Figure size 432x288 with 1 Axes>"
      ]
     },
     "metadata": {
      "needs_background": "light"
     },
     "output_type": "display_data"
    }
   ],
   "source": [
    "data_temp['Температура'].hist(bins=75)\n",
    "plt.show()"
   ]
  },
  {
   "cell_type": "markdown",
   "id": "24275e02",
   "metadata": {},
   "source": [
    "Распределение нормальное, однако есть подозрение на выбросы в значениях менее 1500."
   ]
  },
  {
   "cell_type": "code",
   "execution_count": 136,
   "id": "64f92278",
   "metadata": {},
   "outputs": [
    {
     "data": {
      "image/png": "[encoded data removed]",
      "text/plain": [
       "<Figure size 432x288 with 1 Axes>"
      ]
     },
     "metadata": {
      "needs_background": "light"
     },
     "output_type": "display_data"
    }
   ],
   "source": [
    "data_temp.boxplot(column='Температура')\n",
    "plt.show()"
   ]
  },
  {
   "cell_type": "markdown",
   "id": "42d4c113",
   "metadata": {},
   "source": [
    "Значения признака \"Температура\" менее 1500 можно признать выбросами."
   ]
  },
  {
   "cell_type": "code",
   "execution_count": 137,
   "id": "b4970f6e",
   "metadata": {
    "scrolled": true
   },
   "outputs": [
    {
     "data": {
      "image/png": "[encoded data removed]",
      "text/plain": [
       "<Figure size 432x288 with 1 Axes>"
      ]
     },
     "metadata": {
      "needs_background": "light"
     },
     "output_type": "display_data"
    }
   ],
   "source": [
    "data_temp['Температура'][data_temp['Температура'] > 1500].hist(bins=75)\n",
    "plt.show()"
   ]
  },
  {
   "cell_type": "markdown",
   "id": "9e33ad2c",
   "metadata": {},
   "source": [
    "График гистограммы имеет нормальное распределение, однако видны всплески примерно через каждые пять едениц. Это можно связать с особенностями технологического процесса."
   ]
  },
  {
   "cell_type": "markdown",
   "id": "1c80a686",
   "metadata": {},
   "source": [
    "### вывод"
   ]
  },
  {
   "cell_type": "markdown",
   "id": "c9c41ecf",
   "metadata": {},
   "source": [
    "Данные имеют некоторую погрешность: пропуски в знапчениях data_temp['Температура'] наиболее маштабны. Кроме того: количества уникальных значений номера партии в разных таблицах разняться, что так же может отразиться на количестве используемых данных."
   ]
  },
  {
   "cell_type": "markdown",
   "id": "95cc298d",
   "metadata": {},
   "source": [
    "## Уточняющие вопросы"
   ]
  },
  {
   "cell_type": "markdown",
   "id": "06c35d48",
   "metadata": {},
   "source": [
    "Самый главный вопрос для меня на данный момент это определение целевого признака: требуется модель предсказывающая температуру стали на каком этапе? В каждой партии происходит разное количество итераций: необходимо предсказать температуру для каждой, или среднюю для партии?\n",
    "\n",
    "Ответ:\n",
    "\n",
    "Целевым признаком является значение температуры сплава каждой партиии после всех итераций."
   ]
  },
  {
   "cell_type": "markdown",
   "id": "d0bfe41e",
   "metadata": {},
   "source": [
    "## План решения"
   ]
  },
  {
   "cell_type": "markdown",
   "id": "c98fbe5f",
   "metadata": {},
   "source": [
    "1. Заполнение/исключение пропусков (выбрасов).\n",
    "2. Объединение таблиц.\n",
    "3. Определение необходимых для обучения модедели признаков.\n",
    "4. Проверка признаков на мультиколлинеарность.\n",
    "5. Обучение и валидация разных моделей.\n",
    "6. Анализ важности факторов у модели-победителя.\n",
    "7. Тестирование модели-победителя на наборе отобранных признаков."
   ]
  },
  {
   "cell_type": "markdown",
   "id": "bb7b16a3",
   "metadata": {},
   "source": [
    "## Предобработка данных"
   ]
  },
  {
   "cell_type": "markdown",
   "id": "431490b3",
   "metadata": {},
   "source": [
    "### Заполнение/исключение пропусков (выбрасов)"
   ]
  },
  {
   "cell_type": "markdown",
   "id": "30de210e",
   "metadata": {},
   "source": [
    "#### данные об электродах"
   ]
  },
  {
   "cell_type": "markdown",
   "id": "a4cc0e85",
   "metadata": {},
   "source": [
    "Заменим значение data_arc.loc[9780, 'Реактивная мощность'] на среднее значение признака \"Реактивная мощность\" строк схожих (+/- 0.1%) по признаку \"Активная мощность\"."
   ]
  },
  {
   "cell_type": "code",
   "execution_count": 138,
   "id": "28b2d0a4",
   "metadata": {},
   "outputs": [
    {
     "name": "stdout",
     "output_type": "stream",
     "text": [
      "data_arc.loc[9780][\"Реактивная мощность\"] = 0.387059614\n"
     ]
    }
   ],
   "source": [
    "data_arc.loc[9780, 'Реактивная мощность'] =\\\n",
    "data_arc.drop(index=9780)\\\n",
    "[(data_arc.drop(index=9780)['Активная мощность']\\\n",
    "  < data_arc.loc[9780]['Активная мощность']*1.001) &\\\n",
    " (data_arc.drop(index=9780)['Активная мощность']\\\n",
    "  > data_arc.loc[9780]['Активная мощность']*0.999)]['Реактивная мощность'].mean()\n",
    "\n",
    "print('data_arc.loc[9780][\"Реактивная мощность\"] =',\n",
    "data_arc.loc[9780, 'Реактивная мощность'])"
   ]
  },
  {
   "cell_type": "code",
   "execution_count": 139,
   "id": "65838bb3",
   "metadata": {},
   "outputs": [
    {
     "name": "stdout",
     "output_type": "stream",
     "text": [
      "<class 'pandas.core.frame.DataFrame'>\n",
      "RangeIndex: 14876 entries, 0 to 14875\n",
      "Data columns (total 5 columns):\n",
      " #   Column                Non-Null Count  Dtype         \n",
      "---  ------                --------------  -----         \n",
      " 0   key                   14876 non-null  int64         \n",
      " 1   Начало нагрева дугой  14876 non-null  datetime64[ns]\n",
      " 2   Конец нагрева дугой   14876 non-null  datetime64[ns]\n",
      " 3   Активная мощность     14876 non-null  float64       \n",
      " 4   Реактивная мощность   14876 non-null  float64       \n",
      "dtypes: datetime64[ns](2), float64(2), int64(1)\n",
      "memory usage: 581.2 KB\n"
     ]
    }
   ],
   "source": [
    "data_arc.info()"
   ]
  },
  {
   "cell_type": "markdown",
   "id": "8372a071",
   "metadata": {},
   "source": [
    "#### данные о подаче сыпучих материалов (объём)"
   ]
  },
  {
   "cell_type": "markdown",
   "id": "6ef3e01d",
   "metadata": {},
   "source": [
    "Исходя из исследовательского анализа данных заменим пропуски в data_bulk на 0."
   ]
  },
  {
   "cell_type": "code",
   "execution_count": 140,
   "id": "95440ece",
   "metadata": {
    "scrolled": false
   },
   "outputs": [
    {
     "data": {
      "text/html": [
       "<div>\n",
       "<style scoped>\n",
       "    .dataframe tbody tr th:only-of-type {\n",
       "        vertical-align: middle;\n",
       "    }\n",
       "\n",
       "    .dataframe tbody tr th {\n",
       "        vertical-align: top;\n",
       "    }\n",
       "\n",
       "    .dataframe thead th {\n",
       "        text-align: right;\n",
       "    }\n",
       "</style>\n",
       "<table border=\"1\" class=\"dataframe\">\n",
       "  <thead>\n",
       "    <tr style=\"text-align: right;\">\n",
       "      <th></th>\n",
       "      <th>key</th>\n",
       "      <th>Bulk 1</th>\n",
       "      <th>Bulk 2</th>\n",
       "      <th>Bulk 3</th>\n",
       "      <th>Bulk 4</th>\n",
       "      <th>Bulk 5</th>\n",
       "      <th>Bulk 6</th>\n",
       "      <th>Bulk 7</th>\n",
       "      <th>Bulk 8</th>\n",
       "      <th>Bulk 9</th>\n",
       "      <th>Bulk 10</th>\n",
       "      <th>Bulk 11</th>\n",
       "      <th>Bulk 12</th>\n",
       "      <th>Bulk 13</th>\n",
       "      <th>Bulk 14</th>\n",
       "      <th>Bulk 15</th>\n",
       "    </tr>\n",
       "  </thead>\n",
       "  <tbody>\n",
       "    <tr>\n",
       "      <th>0</th>\n",
       "      <td>1</td>\n",
       "      <td>0.0</td>\n",
       "      <td>0.0</td>\n",
       "      <td>0.0</td>\n",
       "      <td>43.0</td>\n",
       "      <td>0.0</td>\n",
       "      <td>0.0</td>\n",
       "      <td>0.0</td>\n",
       "      <td>0.0</td>\n",
       "      <td>0.0</td>\n",
       "      <td>0.0</td>\n",
       "      <td>0.0</td>\n",
       "      <td>206.0</td>\n",
       "      <td>0.0</td>\n",
       "      <td>150.0</td>\n",
       "      <td>154.0</td>\n",
       "    </tr>\n",
       "    <tr>\n",
       "      <th>1</th>\n",
       "      <td>2</td>\n",
       "      <td>0.0</td>\n",
       "      <td>0.0</td>\n",
       "      <td>0.0</td>\n",
       "      <td>73.0</td>\n",
       "      <td>0.0</td>\n",
       "      <td>0.0</td>\n",
       "      <td>0.0</td>\n",
       "      <td>0.0</td>\n",
       "      <td>0.0</td>\n",
       "      <td>0.0</td>\n",
       "      <td>0.0</td>\n",
       "      <td>206.0</td>\n",
       "      <td>0.0</td>\n",
       "      <td>149.0</td>\n",
       "      <td>154.0</td>\n",
       "    </tr>\n",
       "    <tr>\n",
       "      <th>2</th>\n",
       "      <td>3</td>\n",
       "      <td>0.0</td>\n",
       "      <td>0.0</td>\n",
       "      <td>0.0</td>\n",
       "      <td>34.0</td>\n",
       "      <td>0.0</td>\n",
       "      <td>0.0</td>\n",
       "      <td>0.0</td>\n",
       "      <td>0.0</td>\n",
       "      <td>0.0</td>\n",
       "      <td>0.0</td>\n",
       "      <td>0.0</td>\n",
       "      <td>205.0</td>\n",
       "      <td>0.0</td>\n",
       "      <td>152.0</td>\n",
       "      <td>153.0</td>\n",
       "    </tr>\n",
       "    <tr>\n",
       "      <th>3</th>\n",
       "      <td>4</td>\n",
       "      <td>0.0</td>\n",
       "      <td>0.0</td>\n",
       "      <td>0.0</td>\n",
       "      <td>81.0</td>\n",
       "      <td>0.0</td>\n",
       "      <td>0.0</td>\n",
       "      <td>0.0</td>\n",
       "      <td>0.0</td>\n",
       "      <td>0.0</td>\n",
       "      <td>0.0</td>\n",
       "      <td>0.0</td>\n",
       "      <td>207.0</td>\n",
       "      <td>0.0</td>\n",
       "      <td>153.0</td>\n",
       "      <td>154.0</td>\n",
       "    </tr>\n",
       "    <tr>\n",
       "      <th>4</th>\n",
       "      <td>5</td>\n",
       "      <td>0.0</td>\n",
       "      <td>0.0</td>\n",
       "      <td>0.0</td>\n",
       "      <td>78.0</td>\n",
       "      <td>0.0</td>\n",
       "      <td>0.0</td>\n",
       "      <td>0.0</td>\n",
       "      <td>0.0</td>\n",
       "      <td>0.0</td>\n",
       "      <td>0.0</td>\n",
       "      <td>0.0</td>\n",
       "      <td>203.0</td>\n",
       "      <td>0.0</td>\n",
       "      <td>151.0</td>\n",
       "      <td>152.0</td>\n",
       "    </tr>\n",
       "    <tr>\n",
       "      <th>5</th>\n",
       "      <td>6</td>\n",
       "      <td>0.0</td>\n",
       "      <td>0.0</td>\n",
       "      <td>0.0</td>\n",
       "      <td>117.0</td>\n",
       "      <td>0.0</td>\n",
       "      <td>0.0</td>\n",
       "      <td>0.0</td>\n",
       "      <td>0.0</td>\n",
       "      <td>0.0</td>\n",
       "      <td>0.0</td>\n",
       "      <td>0.0</td>\n",
       "      <td>204.0</td>\n",
       "      <td>0.0</td>\n",
       "      <td>201.0</td>\n",
       "      <td>154.0</td>\n",
       "    </tr>\n",
       "    <tr>\n",
       "      <th>6</th>\n",
       "      <td>7</td>\n",
       "      <td>0.0</td>\n",
       "      <td>0.0</td>\n",
       "      <td>0.0</td>\n",
       "      <td>117.0</td>\n",
       "      <td>0.0</td>\n",
       "      <td>0.0</td>\n",
       "      <td>0.0</td>\n",
       "      <td>0.0</td>\n",
       "      <td>0.0</td>\n",
       "      <td>0.0</td>\n",
       "      <td>0.0</td>\n",
       "      <td>204.0</td>\n",
       "      <td>0.0</td>\n",
       "      <td>152.0</td>\n",
       "      <td>154.0</td>\n",
       "    </tr>\n",
       "    <tr>\n",
       "      <th>7</th>\n",
       "      <td>8</td>\n",
       "      <td>0.0</td>\n",
       "      <td>0.0</td>\n",
       "      <td>0.0</td>\n",
       "      <td>99.0</td>\n",
       "      <td>0.0</td>\n",
       "      <td>0.0</td>\n",
       "      <td>0.0</td>\n",
       "      <td>0.0</td>\n",
       "      <td>0.0</td>\n",
       "      <td>0.0</td>\n",
       "      <td>0.0</td>\n",
       "      <td>410.0</td>\n",
       "      <td>0.0</td>\n",
       "      <td>252.0</td>\n",
       "      <td>153.0</td>\n",
       "    </tr>\n",
       "    <tr>\n",
       "      <th>8</th>\n",
       "      <td>9</td>\n",
       "      <td>0.0</td>\n",
       "      <td>0.0</td>\n",
       "      <td>0.0</td>\n",
       "      <td>117.0</td>\n",
       "      <td>0.0</td>\n",
       "      <td>0.0</td>\n",
       "      <td>0.0</td>\n",
       "      <td>0.0</td>\n",
       "      <td>0.0</td>\n",
       "      <td>0.0</td>\n",
       "      <td>0.0</td>\n",
       "      <td>107.0</td>\n",
       "      <td>0.0</td>\n",
       "      <td>99.0</td>\n",
       "      <td>203.0</td>\n",
       "    </tr>\n",
       "    <tr>\n",
       "      <th>9</th>\n",
       "      <td>10</td>\n",
       "      <td>0.0</td>\n",
       "      <td>0.0</td>\n",
       "      <td>0.0</td>\n",
       "      <td>0.0</td>\n",
       "      <td>0.0</td>\n",
       "      <td>0.0</td>\n",
       "      <td>0.0</td>\n",
       "      <td>0.0</td>\n",
       "      <td>0.0</td>\n",
       "      <td>0.0</td>\n",
       "      <td>0.0</td>\n",
       "      <td>203.0</td>\n",
       "      <td>0.0</td>\n",
       "      <td>102.0</td>\n",
       "      <td>204.0</td>\n",
       "    </tr>\n",
       "  </tbody>\n",
       "</table>\n",
       "</div>"
      ],
      "text/plain": [
       "   key  Bulk 1  Bulk 2  Bulk 3  Bulk 4  Bulk 5  Bulk 6  Bulk 7  Bulk 8  \\\n",
       "0    1     0.0     0.0     0.0    43.0     0.0     0.0     0.0     0.0   \n",
       "1    2     0.0     0.0     0.0    73.0     0.0     0.0     0.0     0.0   \n",
       "2    3     0.0     0.0     0.0    34.0     0.0     0.0     0.0     0.0   \n",
       "3    4     0.0     0.0     0.0    81.0     0.0     0.0     0.0     0.0   \n",
       "4    5     0.0     0.0     0.0    78.0     0.0     0.0     0.0     0.0   \n",
       "5    6     0.0     0.0     0.0   117.0     0.0     0.0     0.0     0.0   \n",
       "6    7     0.0     0.0     0.0   117.0     0.0     0.0     0.0     0.0   \n",
       "7    8     0.0     0.0     0.0    99.0     0.0     0.0     0.0     0.0   \n",
       "8    9     0.0     0.0     0.0   117.0     0.0     0.0     0.0     0.0   \n",
       "9   10     0.0     0.0     0.0     0.0     0.0     0.0     0.0     0.0   \n",
       "\n",
       "   Bulk 9  Bulk 10  Bulk 11  Bulk 12  Bulk 13  Bulk 14  Bulk 15  \n",
       "0     0.0      0.0      0.0    206.0      0.0    150.0    154.0  \n",
       "1     0.0      0.0      0.0    206.0      0.0    149.0    154.0  \n",
       "2     0.0      0.0      0.0    205.0      0.0    152.0    153.0  \n",
       "3     0.0      0.0      0.0    207.0      0.0    153.0    154.0  \n",
       "4     0.0      0.0      0.0    203.0      0.0    151.0    152.0  \n",
       "5     0.0      0.0      0.0    204.0      0.0    201.0    154.0  \n",
       "6     0.0      0.0      0.0    204.0      0.0    152.0    154.0  \n",
       "7     0.0      0.0      0.0    410.0      0.0    252.0    153.0  \n",
       "8     0.0      0.0      0.0    107.0      0.0     99.0    203.0  \n",
       "9     0.0      0.0      0.0    203.0      0.0    102.0    204.0  "
      ]
     },
     "metadata": {},
     "output_type": "display_data"
    },
    {
     "name": "stdout",
     "output_type": "stream",
     "text": [
      "<class 'pandas.core.frame.DataFrame'>\n",
      "RangeIndex: 3129 entries, 0 to 3128\n",
      "Data columns (total 16 columns):\n",
      " #   Column   Non-Null Count  Dtype  \n",
      "---  ------   --------------  -----  \n",
      " 0   key      3129 non-null   int64  \n",
      " 1   Bulk 1   3129 non-null   float64\n",
      " 2   Bulk 2   3129 non-null   float64\n",
      " 3   Bulk 3   3129 non-null   float64\n",
      " 4   Bulk 4   3129 non-null   float64\n",
      " 5   Bulk 5   3129 non-null   float64\n",
      " 6   Bulk 6   3129 non-null   float64\n",
      " 7   Bulk 7   3129 non-null   float64\n",
      " 8   Bulk 8   3129 non-null   float64\n",
      " 9   Bulk 9   3129 non-null   float64\n",
      " 10  Bulk 10  3129 non-null   float64\n",
      " 11  Bulk 11  3129 non-null   float64\n",
      " 12  Bulk 12  3129 non-null   float64\n",
      " 13  Bulk 13  3129 non-null   float64\n",
      " 14  Bulk 14  3129 non-null   float64\n",
      " 15  Bulk 15  3129 non-null   float64\n",
      "dtypes: float64(15), int64(1)\n",
      "memory usage: 391.2 KB\n"
     ]
    }
   ],
   "source": [
    "data_bulk = data_bulk.fillna(0)\n",
    "display(data_bulk.head(10))\n",
    "data_bulk.info()"
   ]
  },
  {
   "cell_type": "markdown",
   "id": "ef3edb66",
   "metadata": {},
   "source": [
    "#### данные о проволочных материалах"
   ]
  },
  {
   "cell_type": "markdown",
   "id": "91bb9bed",
   "metadata": {},
   "source": [
    "Исходя из исследовательского анализа данных заменим пропуски в data_wire на 0."
   ]
  },
  {
   "cell_type": "code",
   "execution_count": 141,
   "id": "6aaa793d",
   "metadata": {
    "scrolled": false
   },
   "outputs": [
    {
     "data": {
      "text/html": [
       "<div>\n",
       "<style scoped>\n",
       "    .dataframe tbody tr th:only-of-type {\n",
       "        vertical-align: middle;\n",
       "    }\n",
       "\n",
       "    .dataframe tbody tr th {\n",
       "        vertical-align: top;\n",
       "    }\n",
       "\n",
       "    .dataframe thead th {\n",
       "        text-align: right;\n",
       "    }\n",
       "</style>\n",
       "<table border=\"1\" class=\"dataframe\">\n",
       "  <thead>\n",
       "    <tr style=\"text-align: right;\">\n",
       "      <th></th>\n",
       "      <th>key</th>\n",
       "      <th>Wire 1</th>\n",
       "      <th>Wire 2</th>\n",
       "      <th>Wire 3</th>\n",
       "      <th>Wire 4</th>\n",
       "      <th>Wire 5</th>\n",
       "      <th>Wire 6</th>\n",
       "      <th>Wire 7</th>\n",
       "      <th>Wire 8</th>\n",
       "      <th>Wire 9</th>\n",
       "    </tr>\n",
       "  </thead>\n",
       "  <tbody>\n",
       "    <tr>\n",
       "      <th>0</th>\n",
       "      <td>1</td>\n",
       "      <td>60.059998</td>\n",
       "      <td>0.000000</td>\n",
       "      <td>0.0</td>\n",
       "      <td>0.0</td>\n",
       "      <td>0.0</td>\n",
       "      <td>0.0</td>\n",
       "      <td>0.0</td>\n",
       "      <td>0.0</td>\n",
       "      <td>0.0</td>\n",
       "    </tr>\n",
       "    <tr>\n",
       "      <th>1</th>\n",
       "      <td>2</td>\n",
       "      <td>96.052315</td>\n",
       "      <td>0.000000</td>\n",
       "      <td>0.0</td>\n",
       "      <td>0.0</td>\n",
       "      <td>0.0</td>\n",
       "      <td>0.0</td>\n",
       "      <td>0.0</td>\n",
       "      <td>0.0</td>\n",
       "      <td>0.0</td>\n",
       "    </tr>\n",
       "    <tr>\n",
       "      <th>2</th>\n",
       "      <td>3</td>\n",
       "      <td>91.160157</td>\n",
       "      <td>0.000000</td>\n",
       "      <td>0.0</td>\n",
       "      <td>0.0</td>\n",
       "      <td>0.0</td>\n",
       "      <td>0.0</td>\n",
       "      <td>0.0</td>\n",
       "      <td>0.0</td>\n",
       "      <td>0.0</td>\n",
       "    </tr>\n",
       "    <tr>\n",
       "      <th>3</th>\n",
       "      <td>4</td>\n",
       "      <td>89.063515</td>\n",
       "      <td>0.000000</td>\n",
       "      <td>0.0</td>\n",
       "      <td>0.0</td>\n",
       "      <td>0.0</td>\n",
       "      <td>0.0</td>\n",
       "      <td>0.0</td>\n",
       "      <td>0.0</td>\n",
       "      <td>0.0</td>\n",
       "    </tr>\n",
       "    <tr>\n",
       "      <th>4</th>\n",
       "      <td>5</td>\n",
       "      <td>89.238236</td>\n",
       "      <td>9.114560</td>\n",
       "      <td>0.0</td>\n",
       "      <td>0.0</td>\n",
       "      <td>0.0</td>\n",
       "      <td>0.0</td>\n",
       "      <td>0.0</td>\n",
       "      <td>0.0</td>\n",
       "      <td>0.0</td>\n",
       "    </tr>\n",
       "    <tr>\n",
       "      <th>5</th>\n",
       "      <td>6</td>\n",
       "      <td>99.109917</td>\n",
       "      <td>9.114560</td>\n",
       "      <td>0.0</td>\n",
       "      <td>0.0</td>\n",
       "      <td>0.0</td>\n",
       "      <td>0.0</td>\n",
       "      <td>0.0</td>\n",
       "      <td>0.0</td>\n",
       "      <td>0.0</td>\n",
       "    </tr>\n",
       "    <tr>\n",
       "      <th>6</th>\n",
       "      <td>7</td>\n",
       "      <td>98.061600</td>\n",
       "      <td>0.000000</td>\n",
       "      <td>0.0</td>\n",
       "      <td>0.0</td>\n",
       "      <td>0.0</td>\n",
       "      <td>0.0</td>\n",
       "      <td>0.0</td>\n",
       "      <td>0.0</td>\n",
       "      <td>0.0</td>\n",
       "    </tr>\n",
       "    <tr>\n",
       "      <th>7</th>\n",
       "      <td>8</td>\n",
       "      <td>155.282394</td>\n",
       "      <td>0.000000</td>\n",
       "      <td>0.0</td>\n",
       "      <td>0.0</td>\n",
       "      <td>0.0</td>\n",
       "      <td>0.0</td>\n",
       "      <td>0.0</td>\n",
       "      <td>0.0</td>\n",
       "      <td>0.0</td>\n",
       "    </tr>\n",
       "    <tr>\n",
       "      <th>8</th>\n",
       "      <td>9</td>\n",
       "      <td>113.393279</td>\n",
       "      <td>9.143681</td>\n",
       "      <td>0.0</td>\n",
       "      <td>0.0</td>\n",
       "      <td>0.0</td>\n",
       "      <td>0.0</td>\n",
       "      <td>0.0</td>\n",
       "      <td>0.0</td>\n",
       "      <td>0.0</td>\n",
       "    </tr>\n",
       "    <tr>\n",
       "      <th>9</th>\n",
       "      <td>10</td>\n",
       "      <td>81.244796</td>\n",
       "      <td>12.376000</td>\n",
       "      <td>0.0</td>\n",
       "      <td>0.0</td>\n",
       "      <td>0.0</td>\n",
       "      <td>0.0</td>\n",
       "      <td>0.0</td>\n",
       "      <td>0.0</td>\n",
       "      <td>0.0</td>\n",
       "    </tr>\n",
       "  </tbody>\n",
       "</table>\n",
       "</div>"
      ],
      "text/plain": [
       "   key      Wire 1     Wire 2  Wire 3  Wire 4  Wire 5  Wire 6  Wire 7  Wire 8  \\\n",
       "0    1   60.059998   0.000000     0.0     0.0     0.0     0.0     0.0     0.0   \n",
       "1    2   96.052315   0.000000     0.0     0.0     0.0     0.0     0.0     0.0   \n",
       "2    3   91.160157   0.000000     0.0     0.0     0.0     0.0     0.0     0.0   \n",
       "3    4   89.063515   0.000000     0.0     0.0     0.0     0.0     0.0     0.0   \n",
       "4    5   89.238236   9.114560     0.0     0.0     0.0     0.0     0.0     0.0   \n",
       "5    6   99.109917   9.114560     0.0     0.0     0.0     0.0     0.0     0.0   \n",
       "6    7   98.061600   0.000000     0.0     0.0     0.0     0.0     0.0     0.0   \n",
       "7    8  155.282394   0.000000     0.0     0.0     0.0     0.0     0.0     0.0   \n",
       "8    9  113.393279   9.143681     0.0     0.0     0.0     0.0     0.0     0.0   \n",
       "9   10   81.244796  12.376000     0.0     0.0     0.0     0.0     0.0     0.0   \n",
       "\n",
       "   Wire 9  \n",
       "0     0.0  \n",
       "1     0.0  \n",
       "2     0.0  \n",
       "3     0.0  \n",
       "4     0.0  \n",
       "5     0.0  \n",
       "6     0.0  \n",
       "7     0.0  \n",
       "8     0.0  \n",
       "9     0.0  "
      ]
     },
     "metadata": {},
     "output_type": "display_data"
    },
    {
     "name": "stdout",
     "output_type": "stream",
     "text": [
      "<class 'pandas.core.frame.DataFrame'>\n",
      "RangeIndex: 3081 entries, 0 to 3080\n",
      "Data columns (total 10 columns):\n",
      " #   Column  Non-Null Count  Dtype  \n",
      "---  ------  --------------  -----  \n",
      " 0   key     3081 non-null   int64  \n",
      " 1   Wire 1  3081 non-null   float64\n",
      " 2   Wire 2  3081 non-null   float64\n",
      " 3   Wire 3  3081 non-null   float64\n",
      " 4   Wire 4  3081 non-null   float64\n",
      " 5   Wire 5  3081 non-null   float64\n",
      " 6   Wire 6  3081 non-null   float64\n",
      " 7   Wire 7  3081 non-null   float64\n",
      " 8   Wire 8  3081 non-null   float64\n",
      " 9   Wire 9  3081 non-null   float64\n",
      "dtypes: float64(9), int64(1)\n",
      "memory usage: 240.8 KB\n"
     ]
    }
   ],
   "source": [
    "data_wire = data_wire.fillna(0)\n",
    "display(data_wire.head(10))\n",
    "data_wire.info()"
   ]
  },
  {
   "cell_type": "markdown",
   "id": "8d3ddeb6",
   "metadata": {},
   "source": [
    "#### результаты измерения температуры"
   ]
  },
  {
   "cell_type": "markdown",
   "id": "d251653a",
   "metadata": {},
   "source": [
    "Избавимся от выбросов на основании исследовательского анализа."
   ]
  },
  {
   "cell_type": "code",
   "execution_count": 142,
   "id": "8d0c13cf",
   "metadata": {},
   "outputs": [],
   "source": [
    "data_temp = data_temp[~(data_temp['Температура'] < 1500)]"
   ]
  },
  {
   "cell_type": "code",
   "execution_count": 143,
   "id": "3308bca7",
   "metadata": {},
   "outputs": [
    {
     "data": {
      "image/png": "[encoded data removed]",
      "text/plain": [
       "<Figure size 432x288 with 1 Axes>"
      ]
     },
     "metadata": {
      "needs_background": "light"
     },
     "output_type": "display_data"
    }
   ],
   "source": [
    "pd.read_csv('/datasets/final_steel/data_temp.csv').boxplot(column='Температура')\n",
    "plt.show()"
   ]
  },
  {
   "cell_type": "markdown",
   "id": "2ee8593f",
   "metadata": {},
   "source": [
    "Целевым признаком определено значение температуры сплава для каждой партии key определённое после всех этапов обработки. Для выделения целевого признака оставим в data_temp только максимальные значения времени замера температуры, приведённые к типу datetime, для каждой партии key .  А так же добавим в таблицу разницу между первым и последним замером температуры."
   ]
  },
  {
   "cell_type": "code",
   "execution_count": 144,
   "id": "9d2899e6",
   "metadata": {},
   "outputs": [
    {
     "data": {
      "text/html": [
       "<div>\n",
       "<style scoped>\n",
       "    .dataframe tbody tr th:only-of-type {\n",
       "        vertical-align: middle;\n",
       "    }\n",
       "\n",
       "    .dataframe tbody tr th {\n",
       "        vertical-align: top;\n",
       "    }\n",
       "\n",
       "    .dataframe thead th {\n",
       "        text-align: right;\n",
       "    }\n",
       "</style>\n",
       "<table border=\"1\" class=\"dataframe\">\n",
       "  <thead>\n",
       "    <tr style=\"text-align: right;\">\n",
       "      <th></th>\n",
       "      <th>key</th>\n",
       "      <th>Время замера</th>\n",
       "      <th>initial_temp</th>\n",
       "    </tr>\n",
       "  </thead>\n",
       "  <tbody>\n",
       "    <tr>\n",
       "      <th>0</th>\n",
       "      <td>1</td>\n",
       "      <td>2019-05-03 11:16:18</td>\n",
       "      <td>1571.0</td>\n",
       "    </tr>\n",
       "    <tr>\n",
       "      <th>1</th>\n",
       "      <td>2</td>\n",
       "      <td>2019-05-03 11:37:27</td>\n",
       "      <td>1581.0</td>\n",
       "    </tr>\n",
       "    <tr>\n",
       "      <th>2</th>\n",
       "      <td>3</td>\n",
       "      <td>2019-05-03 12:13:17</td>\n",
       "      <td>1596.0</td>\n",
       "    </tr>\n",
       "    <tr>\n",
       "      <th>3</th>\n",
       "      <td>4</td>\n",
       "      <td>2019-05-03 12:52:57</td>\n",
       "      <td>1601.0</td>\n",
       "    </tr>\n",
       "    <tr>\n",
       "      <th>4</th>\n",
       "      <td>5</td>\n",
       "      <td>2019-05-03 13:23:19</td>\n",
       "      <td>1576.0</td>\n",
       "    </tr>\n",
       "    <tr>\n",
       "      <th>5</th>\n",
       "      <td>6</td>\n",
       "      <td>2019-05-03 13:49:24</td>\n",
       "      <td>1543.0</td>\n",
       "    </tr>\n",
       "    <tr>\n",
       "      <th>6</th>\n",
       "      <td>7</td>\n",
       "      <td>2019-05-03 14:19:43</td>\n",
       "      <td>1586.0</td>\n",
       "    </tr>\n",
       "    <tr>\n",
       "      <th>7</th>\n",
       "      <td>8</td>\n",
       "      <td>2019-05-03 15:07:18</td>\n",
       "      <td>1577.0</td>\n",
       "    </tr>\n",
       "    <tr>\n",
       "      <th>8</th>\n",
       "      <td>9</td>\n",
       "      <td>2019-05-03 15:37:03</td>\n",
       "      <td>1587.0</td>\n",
       "    </tr>\n",
       "    <tr>\n",
       "      <th>9</th>\n",
       "      <td>10</td>\n",
       "      <td>2019-05-03 16:14:29</td>\n",
       "      <td>1574.0</td>\n",
       "    </tr>\n",
       "  </tbody>\n",
       "</table>\n",
       "</div>"
      ],
      "text/plain": [
       "   key         Время замера  initial_temp\n",
       "0    1  2019-05-03 11:16:18        1571.0\n",
       "1    2  2019-05-03 11:37:27        1581.0\n",
       "2    3  2019-05-03 12:13:17        1596.0\n",
       "3    4  2019-05-03 12:52:57        1601.0\n",
       "4    5  2019-05-03 13:23:19        1576.0\n",
       "5    6  2019-05-03 13:49:24        1543.0\n",
       "6    7  2019-05-03 14:19:43        1586.0\n",
       "7    8  2019-05-03 15:07:18        1577.0\n",
       "8    9  2019-05-03 15:37:03        1587.0\n",
       "9   10  2019-05-03 16:14:29        1574.0"
      ]
     },
     "execution_count": 144,
     "metadata": {},
     "output_type": "execute_result"
    }
   ],
   "source": [
    "initial_temp = \\\n",
    "data_temp[data_temp['Время замера'] == \n",
    "          data_temp.groupby('key')['Время замера'].transform('min')]\n",
    "\n",
    "initial_temp = \\\n",
    "initial_temp.rename(columns={\"Температура\": \"initial_temp\"}).reset_index(drop=True)\n",
    "\n",
    "initial_temp.head(10)"
   ]
  },
  {
   "cell_type": "code",
   "execution_count": 145,
   "id": "029b4693",
   "metadata": {},
   "outputs": [
    {
     "data": {
      "text/plain": [
       "key\n",
       "1    2019-05-03 11:30:39\n",
       "2    2019-05-03 11:59:12\n",
       "3    2019-05-03 12:34:57\n",
       "4    2019-05-03 12:59:25\n",
       "5    2019-05-03 13:36:01\n",
       "6    2019-05-03 14:12:29\n",
       "7    2019-05-03 14:42:37\n",
       "8    2019-05-03 15:22:52\n",
       "9    2019-05-03 16:01:16\n",
       "10   2019-05-03 16:36:08\n",
       "Name: Время замера, dtype: datetime64[ns]"
      ]
     },
     "execution_count": 145,
     "metadata": {},
     "output_type": "execute_result"
    }
   ],
   "source": [
    "data_temp['Время замера'] = pd.to_datetime(data_temp['Время замера'])\n",
    "last_iteration = data_temp.groupby('key').max()['Время замера']\n",
    "last_iteration.head(10)"
   ]
  },
  {
   "cell_type": "code",
   "execution_count": 146,
   "id": "7e90241c",
   "metadata": {},
   "outputs": [],
   "source": [
    "all_time = \\\n",
    "data_temp.groupby('key').agg(\n",
    "    {'Время замера': ('min', 'max')}\n",
    ").reset_index()"
   ]
  },
  {
   "cell_type": "code",
   "execution_count": 147,
   "id": "1ed7980d",
   "metadata": {},
   "outputs": [
    {
     "data": {
      "text/html": [
       "<div>\n",
       "<style scoped>\n",
       "    .dataframe tbody tr th:only-of-type {\n",
       "        vertical-align: middle;\n",
       "    }\n",
       "\n",
       "    .dataframe tbody tr th {\n",
       "        vertical-align: top;\n",
       "    }\n",
       "\n",
       "    .dataframe thead tr th {\n",
       "        text-align: left;\n",
       "    }\n",
       "</style>\n",
       "<table border=\"1\" class=\"dataframe\">\n",
       "  <thead>\n",
       "    <tr>\n",
       "      <th></th>\n",
       "      <th>key</th>\n",
       "      <th colspan=\"2\" halign=\"left\">Время замера</th>\n",
       "    </tr>\n",
       "    <tr>\n",
       "      <th></th>\n",
       "      <th></th>\n",
       "      <th>min</th>\n",
       "      <th>max</th>\n",
       "    </tr>\n",
       "  </thead>\n",
       "  <tbody>\n",
       "    <tr>\n",
       "      <th>0</th>\n",
       "      <td>1</td>\n",
       "      <td>2019-05-03 11:16:18</td>\n",
       "      <td>2019-05-03 11:30:39</td>\n",
       "    </tr>\n",
       "    <tr>\n",
       "      <th>1</th>\n",
       "      <td>2</td>\n",
       "      <td>2019-05-03 11:37:27</td>\n",
       "      <td>2019-05-03 11:59:12</td>\n",
       "    </tr>\n",
       "    <tr>\n",
       "      <th>2</th>\n",
       "      <td>3</td>\n",
       "      <td>2019-05-03 12:13:17</td>\n",
       "      <td>2019-05-03 12:34:57</td>\n",
       "    </tr>\n",
       "    <tr>\n",
       "      <th>3</th>\n",
       "      <td>4</td>\n",
       "      <td>2019-05-03 12:52:57</td>\n",
       "      <td>2019-05-03 12:59:25</td>\n",
       "    </tr>\n",
       "    <tr>\n",
       "      <th>4</th>\n",
       "      <td>5</td>\n",
       "      <td>2019-05-03 13:23:19</td>\n",
       "      <td>2019-05-03 13:36:01</td>\n",
       "    </tr>\n",
       "    <tr>\n",
       "      <th>...</th>\n",
       "      <td>...</td>\n",
       "      <td>...</td>\n",
       "      <td>...</td>\n",
       "    </tr>\n",
       "    <tr>\n",
       "      <th>3211</th>\n",
       "      <td>3237</td>\n",
       "      <td>2019-08-31 22:44:04</td>\n",
       "      <td>2019-08-31 23:05:43</td>\n",
       "    </tr>\n",
       "    <tr>\n",
       "      <th>3212</th>\n",
       "      <td>3238</td>\n",
       "      <td>2019-08-31 23:30:31</td>\n",
       "      <td>2019-08-31 23:43:00</td>\n",
       "    </tr>\n",
       "    <tr>\n",
       "      <th>3213</th>\n",
       "      <td>3239</td>\n",
       "      <td>2019-09-01 01:31:47</td>\n",
       "      <td>2019-09-01 02:24:15</td>\n",
       "    </tr>\n",
       "    <tr>\n",
       "      <th>3214</th>\n",
       "      <td>3240</td>\n",
       "      <td>2019-09-01 02:39:01</td>\n",
       "      <td>2019-09-01 03:35:16</td>\n",
       "    </tr>\n",
       "    <tr>\n",
       "      <th>3215</th>\n",
       "      <td>3241</td>\n",
       "      <td>2019-09-01 04:03:30</td>\n",
       "      <td>2019-09-01 04:38:08</td>\n",
       "    </tr>\n",
       "  </tbody>\n",
       "</table>\n",
       "<p>3216 rows × 3 columns</p>\n",
       "</div>"
      ],
      "text/plain": [
       "       key        Время замера                    \n",
       "                           min                 max\n",
       "0        1 2019-05-03 11:16:18 2019-05-03 11:30:39\n",
       "1        2 2019-05-03 11:37:27 2019-05-03 11:59:12\n",
       "2        3 2019-05-03 12:13:17 2019-05-03 12:34:57\n",
       "3        4 2019-05-03 12:52:57 2019-05-03 12:59:25\n",
       "4        5 2019-05-03 13:23:19 2019-05-03 13:36:01\n",
       "...    ...                 ...                 ...\n",
       "3211  3237 2019-08-31 22:44:04 2019-08-31 23:05:43\n",
       "3212  3238 2019-08-31 23:30:31 2019-08-31 23:43:00\n",
       "3213  3239 2019-09-01 01:31:47 2019-09-01 02:24:15\n",
       "3214  3240 2019-09-01 02:39:01 2019-09-01 03:35:16\n",
       "3215  3241 2019-09-01 04:03:30 2019-09-01 04:38:08\n",
       "\n",
       "[3216 rows x 3 columns]"
      ]
     },
     "execution_count": 147,
     "metadata": {},
     "output_type": "execute_result"
    }
   ],
   "source": [
    "all_time"
   ]
  },
  {
   "cell_type": "code",
   "execution_count": 148,
   "id": "3cdc9e49",
   "metadata": {},
   "outputs": [],
   "source": [
    "all_time['all_time'] = \\\n",
    "pd.to_numeric(all_time['Время замера']['max'] - all_time['Время замера']['min'])"
   ]
  },
  {
   "cell_type": "code",
   "execution_count": 149,
   "id": "0670eefb",
   "metadata": {},
   "outputs": [
    {
     "name": "stdout",
     "output_type": "stream",
     "text": [
      "<class 'pandas.core.frame.DataFrame'>\n",
      "Int64Index: 3216 entries, 4 to 15906\n",
      "Data columns (total 3 columns):\n",
      " #   Column        Non-Null Count  Dtype         \n",
      "---  ------        --------------  -----         \n",
      " 0   key           3216 non-null   int64         \n",
      " 1   Время замера  3216 non-null   datetime64[ns]\n",
      " 2   Температура   2477 non-null   float64       \n",
      "dtypes: datetime64[ns](1), float64(1), int64(1)\n",
      "memory usage: 100.5 KB\n"
     ]
    }
   ],
   "source": [
    "data_temp = data_temp[data_temp['Время замера'].isin(last_iteration)]\n",
    "data_temp.info()"
   ]
  },
  {
   "cell_type": "markdown",
   "id": "6bc0b1f3",
   "metadata": {},
   "source": [
    "Из 3216 партий только 2477 не имеют пропусков в значении целевого признака \"Температура\". Заполнение данных пропусков какими-либо усреднёнными значениями признаем не приемлемым из-за возможного искаженния результатов исследования. Оставим только строки без пропусков в целевом признаке."
   ]
  },
  {
   "cell_type": "code",
   "execution_count": 150,
   "id": "d1151770",
   "metadata": {
    "scrolled": false
   },
   "outputs": [
    {
     "name": "stdout",
     "output_type": "stream",
     "text": [
      "<class 'pandas.core.frame.DataFrame'>\n",
      "Int64Index: 2477 entries, 4 to 12266\n",
      "Data columns (total 3 columns):\n",
      " #   Column        Non-Null Count  Dtype         \n",
      "---  ------        --------------  -----         \n",
      " 0   key           2477 non-null   int64         \n",
      " 1   Время замера  2477 non-null   datetime64[ns]\n",
      " 2   Температура   2477 non-null   float64       \n",
      "dtypes: datetime64[ns](1), float64(1), int64(1)\n",
      "memory usage: 77.4 KB\n"
     ]
    }
   ],
   "source": [
    "data_temp = data_temp.dropna()\n",
    "data_temp.info()"
   ]
  },
  {
   "cell_type": "code",
   "execution_count": 151,
   "id": "d09a6592",
   "metadata": {
    "scrolled": false
   },
   "outputs": [],
   "source": [
    "data_temp = \\\n",
    "data_temp.merge(\n",
    "    initial_temp[['key', 'initial_temp']],\n",
    "    on='key',\n",
    "    how='left')"
   ]
  },
  {
   "cell_type": "code",
   "execution_count": 152,
   "id": "7e4d06dd",
   "metadata": {},
   "outputs": [
    {
     "name": "stderr",
     "output_type": "stream",
     "text": [
      "/opt/conda/lib/python3.9/site-packages/pandas/core/reshape/merge.py:648: UserWarning: merging between different levels can give an unintended result (1 levels on the left,2 on the right)\n",
      "  warnings.warn(msg, UserWarning)\n"
     ]
    }
   ],
   "source": [
    "data_temp = \\\n",
    "data_temp.merge(\n",
    "    all_time[['key', 'all_time']],\n",
    "    on='key',\n",
    "    how='left')"
   ]
  },
  {
   "cell_type": "code",
   "execution_count": 153,
   "id": "2cca1b83",
   "metadata": {
    "scrolled": false
   },
   "outputs": [
    {
     "name": "stdout",
     "output_type": "stream",
     "text": [
      "<class 'pandas.core.frame.DataFrame'>\n",
      "Int64Index: 2477 entries, 0 to 2476\n",
      "Data columns (total 5 columns):\n",
      " #   Column        Non-Null Count  Dtype         \n",
      "---  ------        --------------  -----         \n",
      " 0   key           2477 non-null   int64         \n",
      " 1   Время замера  2477 non-null   datetime64[ns]\n",
      " 2   Температура   2477 non-null   float64       \n",
      " 3   all_time      2477 non-null   int64         \n",
      " 4   initial_temp  2477 non-null   float64       \n",
      "dtypes: datetime64[ns](1), float64(2), int64(2)\n",
      "memory usage: 116.1 KB\n"
     ]
    },
    {
     "data": {
      "text/plain": [
       "None"
      ]
     },
     "metadata": {},
     "output_type": "display_data"
    },
    {
     "data": {
      "text/html": [
       "<div>\n",
       "<style scoped>\n",
       "    .dataframe tbody tr th:only-of-type {\n",
       "        vertical-align: middle;\n",
       "    }\n",
       "\n",
       "    .dataframe tbody tr th {\n",
       "        vertical-align: top;\n",
       "    }\n",
       "\n",
       "    .dataframe thead th {\n",
       "        text-align: right;\n",
       "    }\n",
       "</style>\n",
       "<table border=\"1\" class=\"dataframe\">\n",
       "  <thead>\n",
       "    <tr style=\"text-align: right;\">\n",
       "      <th></th>\n",
       "      <th>key</th>\n",
       "      <th>Время замера</th>\n",
       "      <th>Температура</th>\n",
       "      <th>all_time</th>\n",
       "      <th>initial_temp</th>\n",
       "    </tr>\n",
       "  </thead>\n",
       "  <tbody>\n",
       "    <tr>\n",
       "      <th>0</th>\n",
       "      <td>1</td>\n",
       "      <td>2019-05-03 11:30:39</td>\n",
       "      <td>1613.0</td>\n",
       "      <td>861000000000</td>\n",
       "      <td>1571.0</td>\n",
       "    </tr>\n",
       "    <tr>\n",
       "      <th>1</th>\n",
       "      <td>2</td>\n",
       "      <td>2019-05-03 11:59:12</td>\n",
       "      <td>1602.0</td>\n",
       "      <td>1305000000000</td>\n",
       "      <td>1581.0</td>\n",
       "    </tr>\n",
       "    <tr>\n",
       "      <th>2</th>\n",
       "      <td>3</td>\n",
       "      <td>2019-05-03 12:34:57</td>\n",
       "      <td>1599.0</td>\n",
       "      <td>1300000000000</td>\n",
       "      <td>1596.0</td>\n",
       "    </tr>\n",
       "    <tr>\n",
       "      <th>3</th>\n",
       "      <td>4</td>\n",
       "      <td>2019-05-03 12:59:25</td>\n",
       "      <td>1625.0</td>\n",
       "      <td>388000000000</td>\n",
       "      <td>1601.0</td>\n",
       "    </tr>\n",
       "    <tr>\n",
       "      <th>4</th>\n",
       "      <td>5</td>\n",
       "      <td>2019-05-03 13:36:01</td>\n",
       "      <td>1602.0</td>\n",
       "      <td>762000000000</td>\n",
       "      <td>1576.0</td>\n",
       "    </tr>\n",
       "    <tr>\n",
       "      <th>5</th>\n",
       "      <td>6</td>\n",
       "      <td>2019-05-03 14:12:29</td>\n",
       "      <td>1596.0</td>\n",
       "      <td>1385000000000</td>\n",
       "      <td>1543.0</td>\n",
       "    </tr>\n",
       "    <tr>\n",
       "      <th>6</th>\n",
       "      <td>7</td>\n",
       "      <td>2019-05-03 14:42:37</td>\n",
       "      <td>1599.0</td>\n",
       "      <td>1374000000000</td>\n",
       "      <td>1586.0</td>\n",
       "    </tr>\n",
       "    <tr>\n",
       "      <th>7</th>\n",
       "      <td>8</td>\n",
       "      <td>2019-05-03 15:22:52</td>\n",
       "      <td>1598.0</td>\n",
       "      <td>934000000000</td>\n",
       "      <td>1577.0</td>\n",
       "    </tr>\n",
       "    <tr>\n",
       "      <th>8</th>\n",
       "      <td>9</td>\n",
       "      <td>2019-05-03 16:01:16</td>\n",
       "      <td>1592.0</td>\n",
       "      <td>1453000000000</td>\n",
       "      <td>1587.0</td>\n",
       "    </tr>\n",
       "    <tr>\n",
       "      <th>9</th>\n",
       "      <td>10</td>\n",
       "      <td>2019-05-03 16:36:08</td>\n",
       "      <td>1593.0</td>\n",
       "      <td>1299000000000</td>\n",
       "      <td>1574.0</td>\n",
       "    </tr>\n",
       "  </tbody>\n",
       "</table>\n",
       "</div>"
      ],
      "text/plain": [
       "   key        Время замера  Температура       all_time  initial_temp\n",
       "0    1 2019-05-03 11:30:39       1613.0   861000000000        1571.0\n",
       "1    2 2019-05-03 11:59:12       1602.0  1305000000000        1581.0\n",
       "2    3 2019-05-03 12:34:57       1599.0  1300000000000        1596.0\n",
       "3    4 2019-05-03 12:59:25       1625.0   388000000000        1601.0\n",
       "4    5 2019-05-03 13:36:01       1602.0   762000000000        1576.0\n",
       "5    6 2019-05-03 14:12:29       1596.0  1385000000000        1543.0\n",
       "6    7 2019-05-03 14:42:37       1599.0  1374000000000        1586.0\n",
       "7    8 2019-05-03 15:22:52       1598.0   934000000000        1577.0\n",
       "8    9 2019-05-03 16:01:16       1592.0  1453000000000        1587.0\n",
       "9   10 2019-05-03 16:36:08       1593.0  1299000000000        1574.0"
      ]
     },
     "execution_count": 153,
     "metadata": {},
     "output_type": "execute_result"
    }
   ],
   "source": [
    "data_temp['all_time'] = data_temp.iloc[:, 4]\n",
    "data_temp = data_temp[['key', 'Время замера', 'Температура', 'all_time', 'initial_temp']]\n",
    "display(data_temp.info())\n",
    "data_temp.head(10)"
   ]
  },
  {
   "cell_type": "markdown",
   "id": "0d3684d3",
   "metadata": {},
   "source": [
    "### Объединение таблиц / Определение необходимых для обучения модедели признаков"
   ]
  },
  {
   "cell_type": "markdown",
   "id": "3aec3767",
   "metadata": {},
   "source": [
    " #### данные об электродах"
   ]
  },
  {
   "cell_type": "markdown",
   "id": "e73d798c",
   "metadata": {},
   "source": [
    "Создадим признаки для каждой партии key:\n",
    "\n",
    "* суммарного нагрева электродами \n",
    "* среднего значения соотношения потребления активной и реактивной мощности\n",
    "* количества запусков нагрева электродами"
   ]
  },
  {
   "cell_type": "code",
   "execution_count": 154,
   "id": "b6fe5f40",
   "metadata": {
    "scrolled": true
   },
   "outputs": [],
   "source": [
    "data_arc['Время нагрева'] = data_arc['Конец нагрева дугой'] - data_arc['Начало нагрева дугой']\n",
    "data_arc['Время нагрева'] = pd.to_numeric(data_arc['Время нагрева'])\n",
    "\n",
    "data_arc['ratio'] = data_arc['Активная мощность'] / data_arc['Реактивная мощность']\n",
    "\n",
    "data_arc = \\\n",
    "data_arc.groupby('key').agg(\n",
    "    {'Время нагрева': 'sum',\n",
    "     'ratio': 'mean',\n",
    "     'Начало нагрева дугой': 'count',\n",
    "     'Конец нагрева дугой': 'max'\n",
    "    }).reset_index()"
   ]
  },
  {
   "cell_type": "code",
   "execution_count": 155,
   "id": "1a98ebb9",
   "metadata": {},
   "outputs": [
    {
     "data": {
      "text/html": [
       "<div>\n",
       "<style scoped>\n",
       "    .dataframe tbody tr th:only-of-type {\n",
       "        vertical-align: middle;\n",
       "    }\n",
       "\n",
       "    .dataframe tbody tr th {\n",
       "        vertical-align: top;\n",
       "    }\n",
       "\n",
       "    .dataframe thead th {\n",
       "        text-align: right;\n",
       "    }\n",
       "</style>\n",
       "<table border=\"1\" class=\"dataframe\">\n",
       "  <thead>\n",
       "    <tr style=\"text-align: right;\">\n",
       "      <th></th>\n",
       "      <th>key</th>\n",
       "      <th>Время нагрева</th>\n",
       "      <th>ratio</th>\n",
       "      <th>Начало нагрева дугой</th>\n",
       "      <th>Конец нагрева дугой</th>\n",
       "    </tr>\n",
       "  </thead>\n",
       "  <tbody>\n",
       "    <tr>\n",
       "      <th>0</th>\n",
       "      <td>1</td>\n",
       "      <td>1098000000000</td>\n",
       "      <td>1.538898</td>\n",
       "      <td>5</td>\n",
       "      <td>2019-05-03 11:28:37</td>\n",
       "    </tr>\n",
       "    <tr>\n",
       "      <th>1</th>\n",
       "      <td>2</td>\n",
       "      <td>811000000000</td>\n",
       "      <td>1.551834</td>\n",
       "      <td>4</td>\n",
       "      <td>2019-05-03 11:53:18</td>\n",
       "    </tr>\n",
       "    <tr>\n",
       "      <th>2</th>\n",
       "      <td>3</td>\n",
       "      <td>655000000000</td>\n",
       "      <td>1.583120</td>\n",
       "      <td>5</td>\n",
       "      <td>2019-05-03 12:32:19</td>\n",
       "    </tr>\n",
       "    <tr>\n",
       "      <th>3</th>\n",
       "      <td>4</td>\n",
       "      <td>741000000000</td>\n",
       "      <td>1.563487</td>\n",
       "      <td>4</td>\n",
       "      <td>2019-05-03 12:57:50</td>\n",
       "    </tr>\n",
       "    <tr>\n",
       "      <th>4</th>\n",
       "      <td>5</td>\n",
       "      <td>869000000000</td>\n",
       "      <td>1.480428</td>\n",
       "      <td>4</td>\n",
       "      <td>2019-05-03 13:33:55</td>\n",
       "    </tr>\n",
       "    <tr>\n",
       "      <th>5</th>\n",
       "      <td>6</td>\n",
       "      <td>952000000000</td>\n",
       "      <td>1.501854</td>\n",
       "      <td>4</td>\n",
       "      <td>2019-05-03 14:09:24</td>\n",
       "    </tr>\n",
       "    <tr>\n",
       "      <th>6</th>\n",
       "      <td>7</td>\n",
       "      <td>673000000000</td>\n",
       "      <td>1.628748</td>\n",
       "      <td>4</td>\n",
       "      <td>2019-05-03 14:41:15</td>\n",
       "    </tr>\n",
       "    <tr>\n",
       "      <th>7</th>\n",
       "      <td>8</td>\n",
       "      <td>913000000000</td>\n",
       "      <td>1.486391</td>\n",
       "      <td>4</td>\n",
       "      <td>2019-05-03 15:14:47</td>\n",
       "    </tr>\n",
       "    <tr>\n",
       "      <th>8</th>\n",
       "      <td>9</td>\n",
       "      <td>625000000000</td>\n",
       "      <td>1.421598</td>\n",
       "      <td>5</td>\n",
       "      <td>2019-05-03 15:59:48</td>\n",
       "    </tr>\n",
       "    <tr>\n",
       "      <th>9</th>\n",
       "      <td>10</td>\n",
       "      <td>825000000000</td>\n",
       "      <td>1.231654</td>\n",
       "      <td>6</td>\n",
       "      <td>2019-05-03 16:34:50</td>\n",
       "    </tr>\n",
       "  </tbody>\n",
       "</table>\n",
       "</div>"
      ],
      "text/plain": [
       "   key  Время нагрева     ratio  Начало нагрева дугой Конец нагрева дугой\n",
       "0    1  1098000000000  1.538898                     5 2019-05-03 11:28:37\n",
       "1    2   811000000000  1.551834                     4 2019-05-03 11:53:18\n",
       "2    3   655000000000  1.583120                     5 2019-05-03 12:32:19\n",
       "3    4   741000000000  1.563487                     4 2019-05-03 12:57:50\n",
       "4    5   869000000000  1.480428                     4 2019-05-03 13:33:55\n",
       "5    6   952000000000  1.501854                     4 2019-05-03 14:09:24\n",
       "6    7   673000000000  1.628748                     4 2019-05-03 14:41:15\n",
       "7    8   913000000000  1.486391                     4 2019-05-03 15:14:47\n",
       "8    9   625000000000  1.421598                     5 2019-05-03 15:59:48\n",
       "9   10   825000000000  1.231654                     6 2019-05-03 16:34:50"
      ]
     },
     "metadata": {},
     "output_type": "display_data"
    },
    {
     "name": "stdout",
     "output_type": "stream",
     "text": [
      "<class 'pandas.core.frame.DataFrame'>\n",
      "RangeIndex: 3214 entries, 0 to 3213\n",
      "Data columns (total 5 columns):\n",
      " #   Column                Non-Null Count  Dtype         \n",
      "---  ------                --------------  -----         \n",
      " 0   key                   3214 non-null   int64         \n",
      " 1   Время нагрева         3214 non-null   int64         \n",
      " 2   ratio                 3214 non-null   float64       \n",
      " 3   Начало нагрева дугой  3214 non-null   int64         \n",
      " 4   Конец нагрева дугой   3214 non-null   datetime64[ns]\n",
      "dtypes: datetime64[ns](1), float64(1), int64(3)\n",
      "memory usage: 125.7 KB\n"
     ]
    }
   ],
   "source": [
    "display(data_arc.head(10))\n",
    "data_arc.info()"
   ]
  },
  {
   "cell_type": "markdown",
   "id": "fbcb2e41",
   "metadata": {},
   "source": [
    "Создадим таблицу df из data_arc и data_temp, исключим строки с пропусками."
   ]
  },
  {
   "cell_type": "code",
   "execution_count": 156,
   "id": "0fcf06f0",
   "metadata": {
    "scrolled": false
   },
   "outputs": [],
   "source": [
    "df = (\n",
    "    data_temp.merge(\n",
    "    data_arc,\n",
    "    on='key',\n",
    "    how='left')\n",
    "    ).dropna()"
   ]
  },
  {
   "cell_type": "code",
   "execution_count": 157,
   "id": "f57e1c6f",
   "metadata": {},
   "outputs": [
    {
     "data": {
      "text/html": [
       "<div>\n",
       "<style scoped>\n",
       "    .dataframe tbody tr th:only-of-type {\n",
       "        vertical-align: middle;\n",
       "    }\n",
       "\n",
       "    .dataframe tbody tr th {\n",
       "        vertical-align: top;\n",
       "    }\n",
       "\n",
       "    .dataframe thead th {\n",
       "        text-align: right;\n",
       "    }\n",
       "</style>\n",
       "<table border=\"1\" class=\"dataframe\">\n",
       "  <thead>\n",
       "    <tr style=\"text-align: right;\">\n",
       "      <th></th>\n",
       "      <th>key</th>\n",
       "      <th>Время замера</th>\n",
       "      <th>Температура</th>\n",
       "      <th>all_time</th>\n",
       "      <th>initial_temp</th>\n",
       "      <th>Время нагрева</th>\n",
       "      <th>ratio</th>\n",
       "      <th>Начало нагрева дугой</th>\n",
       "      <th>Конец нагрева дугой</th>\n",
       "    </tr>\n",
       "  </thead>\n",
       "  <tbody>\n",
       "    <tr>\n",
       "      <th>0</th>\n",
       "      <td>1</td>\n",
       "      <td>2019-05-03 11:30:39</td>\n",
       "      <td>1613.0</td>\n",
       "      <td>861000000000</td>\n",
       "      <td>1571.0</td>\n",
       "      <td>1.098000e+12</td>\n",
       "      <td>1.538898</td>\n",
       "      <td>5.0</td>\n",
       "      <td>2019-05-03 11:28:37</td>\n",
       "    </tr>\n",
       "    <tr>\n",
       "      <th>1</th>\n",
       "      <td>2</td>\n",
       "      <td>2019-05-03 11:59:12</td>\n",
       "      <td>1602.0</td>\n",
       "      <td>1305000000000</td>\n",
       "      <td>1581.0</td>\n",
       "      <td>8.110000e+11</td>\n",
       "      <td>1.551834</td>\n",
       "      <td>4.0</td>\n",
       "      <td>2019-05-03 11:53:18</td>\n",
       "    </tr>\n",
       "    <tr>\n",
       "      <th>2</th>\n",
       "      <td>3</td>\n",
       "      <td>2019-05-03 12:34:57</td>\n",
       "      <td>1599.0</td>\n",
       "      <td>1300000000000</td>\n",
       "      <td>1596.0</td>\n",
       "      <td>6.550000e+11</td>\n",
       "      <td>1.583120</td>\n",
       "      <td>5.0</td>\n",
       "      <td>2019-05-03 12:32:19</td>\n",
       "    </tr>\n",
       "    <tr>\n",
       "      <th>3</th>\n",
       "      <td>4</td>\n",
       "      <td>2019-05-03 12:59:25</td>\n",
       "      <td>1625.0</td>\n",
       "      <td>388000000000</td>\n",
       "      <td>1601.0</td>\n",
       "      <td>7.410000e+11</td>\n",
       "      <td>1.563487</td>\n",
       "      <td>4.0</td>\n",
       "      <td>2019-05-03 12:57:50</td>\n",
       "    </tr>\n",
       "    <tr>\n",
       "      <th>4</th>\n",
       "      <td>5</td>\n",
       "      <td>2019-05-03 13:36:01</td>\n",
       "      <td>1602.0</td>\n",
       "      <td>762000000000</td>\n",
       "      <td>1576.0</td>\n",
       "      <td>8.690000e+11</td>\n",
       "      <td>1.480428</td>\n",
       "      <td>4.0</td>\n",
       "      <td>2019-05-03 13:33:55</td>\n",
       "    </tr>\n",
       "    <tr>\n",
       "      <th>5</th>\n",
       "      <td>6</td>\n",
       "      <td>2019-05-03 14:12:29</td>\n",
       "      <td>1596.0</td>\n",
       "      <td>1385000000000</td>\n",
       "      <td>1543.0</td>\n",
       "      <td>9.520000e+11</td>\n",
       "      <td>1.501854</td>\n",
       "      <td>4.0</td>\n",
       "      <td>2019-05-03 14:09:24</td>\n",
       "    </tr>\n",
       "    <tr>\n",
       "      <th>6</th>\n",
       "      <td>7</td>\n",
       "      <td>2019-05-03 14:42:37</td>\n",
       "      <td>1599.0</td>\n",
       "      <td>1374000000000</td>\n",
       "      <td>1586.0</td>\n",
       "      <td>6.730000e+11</td>\n",
       "      <td>1.628748</td>\n",
       "      <td>4.0</td>\n",
       "      <td>2019-05-03 14:41:15</td>\n",
       "    </tr>\n",
       "    <tr>\n",
       "      <th>7</th>\n",
       "      <td>8</td>\n",
       "      <td>2019-05-03 15:22:52</td>\n",
       "      <td>1598.0</td>\n",
       "      <td>934000000000</td>\n",
       "      <td>1577.0</td>\n",
       "      <td>9.130000e+11</td>\n",
       "      <td>1.486391</td>\n",
       "      <td>4.0</td>\n",
       "      <td>2019-05-03 15:14:47</td>\n",
       "    </tr>\n",
       "    <tr>\n",
       "      <th>8</th>\n",
       "      <td>9</td>\n",
       "      <td>2019-05-03 16:01:16</td>\n",
       "      <td>1592.0</td>\n",
       "      <td>1453000000000</td>\n",
       "      <td>1587.0</td>\n",
       "      <td>6.250000e+11</td>\n",
       "      <td>1.421598</td>\n",
       "      <td>5.0</td>\n",
       "      <td>2019-05-03 15:59:48</td>\n",
       "    </tr>\n",
       "    <tr>\n",
       "      <th>9</th>\n",
       "      <td>10</td>\n",
       "      <td>2019-05-03 16:36:08</td>\n",
       "      <td>1593.0</td>\n",
       "      <td>1299000000000</td>\n",
       "      <td>1574.0</td>\n",
       "      <td>8.250000e+11</td>\n",
       "      <td>1.231654</td>\n",
       "      <td>6.0</td>\n",
       "      <td>2019-05-03 16:34:50</td>\n",
       "    </tr>\n",
       "  </tbody>\n",
       "</table>\n",
       "</div>"
      ],
      "text/plain": [
       "   key        Время замера  Температура       all_time  initial_temp  \\\n",
       "0    1 2019-05-03 11:30:39       1613.0   861000000000        1571.0   \n",
       "1    2 2019-05-03 11:59:12       1602.0  1305000000000        1581.0   \n",
       "2    3 2019-05-03 12:34:57       1599.0  1300000000000        1596.0   \n",
       "3    4 2019-05-03 12:59:25       1625.0   388000000000        1601.0   \n",
       "4    5 2019-05-03 13:36:01       1602.0   762000000000        1576.0   \n",
       "5    6 2019-05-03 14:12:29       1596.0  1385000000000        1543.0   \n",
       "6    7 2019-05-03 14:42:37       1599.0  1374000000000        1586.0   \n",
       "7    8 2019-05-03 15:22:52       1598.0   934000000000        1577.0   \n",
       "8    9 2019-05-03 16:01:16       1592.0  1453000000000        1587.0   \n",
       "9   10 2019-05-03 16:36:08       1593.0  1299000000000        1574.0   \n",
       "\n",
       "   Время нагрева     ratio  Начало нагрева дугой Конец нагрева дугой  \n",
       "0   1.098000e+12  1.538898                   5.0 2019-05-03 11:28:37  \n",
       "1   8.110000e+11  1.551834                   4.0 2019-05-03 11:53:18  \n",
       "2   6.550000e+11  1.583120                   5.0 2019-05-03 12:32:19  \n",
       "3   7.410000e+11  1.563487                   4.0 2019-05-03 12:57:50  \n",
       "4   8.690000e+11  1.480428                   4.0 2019-05-03 13:33:55  \n",
       "5   9.520000e+11  1.501854                   4.0 2019-05-03 14:09:24  \n",
       "6   6.730000e+11  1.628748                   4.0 2019-05-03 14:41:15  \n",
       "7   9.130000e+11  1.486391                   4.0 2019-05-03 15:14:47  \n",
       "8   6.250000e+11  1.421598                   5.0 2019-05-03 15:59:48  \n",
       "9   8.250000e+11  1.231654                   6.0 2019-05-03 16:34:50  "
      ]
     },
     "metadata": {},
     "output_type": "display_data"
    },
    {
     "name": "stdout",
     "output_type": "stream",
     "text": [
      "<class 'pandas.core.frame.DataFrame'>\n",
      "Int64Index: 2475 entries, 0 to 2476\n",
      "Data columns (total 9 columns):\n",
      " #   Column                Non-Null Count  Dtype         \n",
      "---  ------                --------------  -----         \n",
      " 0   key                   2475 non-null   int64         \n",
      " 1   Время замера          2475 non-null   datetime64[ns]\n",
      " 2   Температура           2475 non-null   float64       \n",
      " 3   all_time              2475 non-null   int64         \n",
      " 4   initial_temp          2475 non-null   float64       \n",
      " 5   Время нагрева         2475 non-null   float64       \n",
      " 6   ratio                 2475 non-null   float64       \n",
      " 7   Начало нагрева дугой  2475 non-null   float64       \n",
      " 8   Конец нагрева дугой   2475 non-null   datetime64[ns]\n",
      "dtypes: datetime64[ns](2), float64(5), int64(2)\n",
      "memory usage: 193.4 KB\n"
     ]
    }
   ],
   "source": [
    "display(df.head(10))\n",
    "df.info()"
   ]
  },
  {
   "cell_type": "markdown",
   "id": "71337f6b",
   "metadata": {},
   "source": [
    "Партии key, где финальный замер температуры был произведён до финальной итерации, являютя не пригодными для дольнейшей работы, поскольку значение признака Температура не является целевым по определению. Исключим данные партии."
   ]
  },
  {
   "cell_type": "code",
   "execution_count": 158,
   "id": "c09fd911",
   "metadata": {
    "scrolled": false
   },
   "outputs": [],
   "source": [
    "df =\\\n",
    "df[df['Время замера'] > df['Конец нагрева дугой']]\\\n",
    ".drop('Конец нагрева дугой', axis=1)"
   ]
  },
  {
   "cell_type": "code",
   "execution_count": 159,
   "id": "c89cb174",
   "metadata": {},
   "outputs": [
    {
     "data": {
      "text/html": [
       "<div>\n",
       "<style scoped>\n",
       "    .dataframe tbody tr th:only-of-type {\n",
       "        vertical-align: middle;\n",
       "    }\n",
       "\n",
       "    .dataframe tbody tr th {\n",
       "        vertical-align: top;\n",
       "    }\n",
       "\n",
       "    .dataframe thead th {\n",
       "        text-align: right;\n",
       "    }\n",
       "</style>\n",
       "<table border=\"1\" class=\"dataframe\">\n",
       "  <thead>\n",
       "    <tr style=\"text-align: right;\">\n",
       "      <th></th>\n",
       "      <th>key</th>\n",
       "      <th>Время замера</th>\n",
       "      <th>Температура</th>\n",
       "      <th>all_time</th>\n",
       "      <th>initial_temp</th>\n",
       "      <th>Время нагрева</th>\n",
       "      <th>ratio</th>\n",
       "      <th>Начало нагрева дугой</th>\n",
       "    </tr>\n",
       "  </thead>\n",
       "  <tbody>\n",
       "    <tr>\n",
       "      <th>0</th>\n",
       "      <td>1</td>\n",
       "      <td>2019-05-03 11:30:39</td>\n",
       "      <td>1613.0</td>\n",
       "      <td>861000000000</td>\n",
       "      <td>1571.0</td>\n",
       "      <td>1.098000e+12</td>\n",
       "      <td>1.538898</td>\n",
       "      <td>5.0</td>\n",
       "    </tr>\n",
       "    <tr>\n",
       "      <th>1</th>\n",
       "      <td>2</td>\n",
       "      <td>2019-05-03 11:59:12</td>\n",
       "      <td>1602.0</td>\n",
       "      <td>1305000000000</td>\n",
       "      <td>1581.0</td>\n",
       "      <td>8.110000e+11</td>\n",
       "      <td>1.551834</td>\n",
       "      <td>4.0</td>\n",
       "    </tr>\n",
       "    <tr>\n",
       "      <th>2</th>\n",
       "      <td>3</td>\n",
       "      <td>2019-05-03 12:34:57</td>\n",
       "      <td>1599.0</td>\n",
       "      <td>1300000000000</td>\n",
       "      <td>1596.0</td>\n",
       "      <td>6.550000e+11</td>\n",
       "      <td>1.583120</td>\n",
       "      <td>5.0</td>\n",
       "    </tr>\n",
       "    <tr>\n",
       "      <th>3</th>\n",
       "      <td>4</td>\n",
       "      <td>2019-05-03 12:59:25</td>\n",
       "      <td>1625.0</td>\n",
       "      <td>388000000000</td>\n",
       "      <td>1601.0</td>\n",
       "      <td>7.410000e+11</td>\n",
       "      <td>1.563487</td>\n",
       "      <td>4.0</td>\n",
       "    </tr>\n",
       "    <tr>\n",
       "      <th>4</th>\n",
       "      <td>5</td>\n",
       "      <td>2019-05-03 13:36:01</td>\n",
       "      <td>1602.0</td>\n",
       "      <td>762000000000</td>\n",
       "      <td>1576.0</td>\n",
       "      <td>8.690000e+11</td>\n",
       "      <td>1.480428</td>\n",
       "      <td>4.0</td>\n",
       "    </tr>\n",
       "    <tr>\n",
       "      <th>5</th>\n",
       "      <td>6</td>\n",
       "      <td>2019-05-03 14:12:29</td>\n",
       "      <td>1596.0</td>\n",
       "      <td>1385000000000</td>\n",
       "      <td>1543.0</td>\n",
       "      <td>9.520000e+11</td>\n",
       "      <td>1.501854</td>\n",
       "      <td>4.0</td>\n",
       "    </tr>\n",
       "    <tr>\n",
       "      <th>6</th>\n",
       "      <td>7</td>\n",
       "      <td>2019-05-03 14:42:37</td>\n",
       "      <td>1599.0</td>\n",
       "      <td>1374000000000</td>\n",
       "      <td>1586.0</td>\n",
       "      <td>6.730000e+11</td>\n",
       "      <td>1.628748</td>\n",
       "      <td>4.0</td>\n",
       "    </tr>\n",
       "    <tr>\n",
       "      <th>7</th>\n",
       "      <td>8</td>\n",
       "      <td>2019-05-03 15:22:52</td>\n",
       "      <td>1598.0</td>\n",
       "      <td>934000000000</td>\n",
       "      <td>1577.0</td>\n",
       "      <td>9.130000e+11</td>\n",
       "      <td>1.486391</td>\n",
       "      <td>4.0</td>\n",
       "    </tr>\n",
       "    <tr>\n",
       "      <th>8</th>\n",
       "      <td>9</td>\n",
       "      <td>2019-05-03 16:01:16</td>\n",
       "      <td>1592.0</td>\n",
       "      <td>1453000000000</td>\n",
       "      <td>1587.0</td>\n",
       "      <td>6.250000e+11</td>\n",
       "      <td>1.421598</td>\n",
       "      <td>5.0</td>\n",
       "    </tr>\n",
       "    <tr>\n",
       "      <th>9</th>\n",
       "      <td>10</td>\n",
       "      <td>2019-05-03 16:36:08</td>\n",
       "      <td>1593.0</td>\n",
       "      <td>1299000000000</td>\n",
       "      <td>1574.0</td>\n",
       "      <td>8.250000e+11</td>\n",
       "      <td>1.231654</td>\n",
       "      <td>6.0</td>\n",
       "    </tr>\n",
       "  </tbody>\n",
       "</table>\n",
       "</div>"
      ],
      "text/plain": [
       "   key        Время замера  Температура       all_time  initial_temp  \\\n",
       "0    1 2019-05-03 11:30:39       1613.0   861000000000        1571.0   \n",
       "1    2 2019-05-03 11:59:12       1602.0  1305000000000        1581.0   \n",
       "2    3 2019-05-03 12:34:57       1599.0  1300000000000        1596.0   \n",
       "3    4 2019-05-03 12:59:25       1625.0   388000000000        1601.0   \n",
       "4    5 2019-05-03 13:36:01       1602.0   762000000000        1576.0   \n",
       "5    6 2019-05-03 14:12:29       1596.0  1385000000000        1543.0   \n",
       "6    7 2019-05-03 14:42:37       1599.0  1374000000000        1586.0   \n",
       "7    8 2019-05-03 15:22:52       1598.0   934000000000        1577.0   \n",
       "8    9 2019-05-03 16:01:16       1592.0  1453000000000        1587.0   \n",
       "9   10 2019-05-03 16:36:08       1593.0  1299000000000        1574.0   \n",
       "\n",
       "   Время нагрева     ratio  Начало нагрева дугой  \n",
       "0   1.098000e+12  1.538898                   5.0  \n",
       "1   8.110000e+11  1.551834                   4.0  \n",
       "2   6.550000e+11  1.583120                   5.0  \n",
       "3   7.410000e+11  1.563487                   4.0  \n",
       "4   8.690000e+11  1.480428                   4.0  \n",
       "5   9.520000e+11  1.501854                   4.0  \n",
       "6   6.730000e+11  1.628748                   4.0  \n",
       "7   9.130000e+11  1.486391                   4.0  \n",
       "8   6.250000e+11  1.421598                   5.0  \n",
       "9   8.250000e+11  1.231654                   6.0  "
      ]
     },
     "metadata": {},
     "output_type": "display_data"
    },
    {
     "name": "stdout",
     "output_type": "stream",
     "text": [
      "<class 'pandas.core.frame.DataFrame'>\n",
      "Int64Index: 2344 entries, 0 to 2476\n",
      "Data columns (total 8 columns):\n",
      " #   Column                Non-Null Count  Dtype         \n",
      "---  ------                --------------  -----         \n",
      " 0   key                   2344 non-null   int64         \n",
      " 1   Время замера          2344 non-null   datetime64[ns]\n",
      " 2   Температура           2344 non-null   float64       \n",
      " 3   all_time              2344 non-null   int64         \n",
      " 4   initial_temp          2344 non-null   float64       \n",
      " 5   Время нагрева         2344 non-null   float64       \n",
      " 6   ratio                 2344 non-null   float64       \n",
      " 7   Начало нагрева дугой  2344 non-null   float64       \n",
      "dtypes: datetime64[ns](1), float64(5), int64(2)\n",
      "memory usage: 164.8 KB\n"
     ]
    }
   ],
   "source": [
    "display(df.head(10))\n",
    "df.info()"
   ]
  },
  {
   "cell_type": "markdown",
   "id": "d6f4bd05",
   "metadata": {},
   "source": [
    "#### данные о подаче сыпучих материалов"
   ]
  },
  {
   "cell_type": "markdown",
   "id": "7a79a47f",
   "metadata": {},
   "source": [
    "Добавление разных сыпучих материалов в разных объёмах могут по разному отражаться на температуре сплава."
   ]
  },
  {
   "cell_type": "markdown",
   "id": "623ff87e",
   "metadata": {},
   "source": [
    "Добавим к df данные data_bulk_time приведённые к типу datetime. Затем исключим строки в которых последний замер температуры был выполнен раньше последнего добаления сыпучих материалов и исключим из df признаки data_bulk_time за ненадобностью дальнейшего их использования."
   ]
  },
  {
   "cell_type": "code",
   "execution_count": 160,
   "id": "75e244aa",
   "metadata": {},
   "outputs": [],
   "source": [
    "for column in data_bulk_time.columns.drop('key'):\n",
    "    data_bulk_time[column] = pd.to_datetime(data_bulk_time[column])"
   ]
  },
  {
   "cell_type": "code",
   "execution_count": 161,
   "id": "f0b5c6cd",
   "metadata": {
    "scrolled": true
   },
   "outputs": [],
   "source": [
    "df = df.merge(\n",
    "    data_bulk_time,\n",
    "    on='key',\n",
    "    how='left')"
   ]
  },
  {
   "cell_type": "code",
   "execution_count": 162,
   "id": "456baead",
   "metadata": {
    "scrolled": false
   },
   "outputs": [],
   "source": [
    "for num_col in range(-len(data_bulk_time.columns.drop('key')), 0):\n",
    "    df = df[~(df.loc[:, 'Время замера'] < df.iloc[:, num_col])]"
   ]
  },
  {
   "cell_type": "code",
   "execution_count": 163,
   "id": "8c929890",
   "metadata": {},
   "outputs": [],
   "source": [
    "df = df.iloc[:, : -len(data_bulk_time.columns.drop('key'))]"
   ]
  },
  {
   "cell_type": "code",
   "execution_count": 164,
   "id": "ff4643dd",
   "metadata": {
    "scrolled": true
   },
   "outputs": [
    {
     "name": "stdout",
     "output_type": "stream",
     "text": [
      "<class 'pandas.core.frame.DataFrame'>\n",
      "Int64Index: 2340 entries, 0 to 2343\n",
      "Data columns (total 8 columns):\n",
      " #   Column                Non-Null Count  Dtype         \n",
      "---  ------                --------------  -----         \n",
      " 0   key                   2340 non-null   int64         \n",
      " 1   Время замера          2340 non-null   datetime64[ns]\n",
      " 2   Температура           2340 non-null   float64       \n",
      " 3   all_time              2340 non-null   int64         \n",
      " 4   initial_temp          2340 non-null   float64       \n",
      " 5   Время нагрева         2340 non-null   float64       \n",
      " 6   ratio                 2340 non-null   float64       \n",
      " 7   Начало нагрева дугой  2340 non-null   float64       \n",
      "dtypes: datetime64[ns](1), float64(5), int64(2)\n",
      "memory usage: 164.5 KB\n"
     ]
    }
   ],
   "source": [
    "df.info()"
   ]
  },
  {
   "cell_type": "markdown",
   "id": "bc651647",
   "metadata": {},
   "source": [
    "Добавим к df данные data_bulk и исключим пропуски."
   ]
  },
  {
   "cell_type": "code",
   "execution_count": 165,
   "id": "2db266ee",
   "metadata": {},
   "outputs": [],
   "source": [
    "df = df.merge(\n",
    "    data_bulk,\n",
    "    on='key',\n",
    "    how='left').dropna()"
   ]
  },
  {
   "cell_type": "code",
   "execution_count": 166,
   "id": "dda74624",
   "metadata": {
    "scrolled": false
   },
   "outputs": [
    {
     "data": {
      "text/html": [
       "<div>\n",
       "<style scoped>\n",
       "    .dataframe tbody tr th:only-of-type {\n",
       "        vertical-align: middle;\n",
       "    }\n",
       "\n",
       "    .dataframe tbody tr th {\n",
       "        vertical-align: top;\n",
       "    }\n",
       "\n",
       "    .dataframe thead th {\n",
       "        text-align: right;\n",
       "    }\n",
       "</style>\n",
       "<table border=\"1\" class=\"dataframe\">\n",
       "  <thead>\n",
       "    <tr style=\"text-align: right;\">\n",
       "      <th></th>\n",
       "      <th>key</th>\n",
       "      <th>Время замера</th>\n",
       "      <th>Температура</th>\n",
       "      <th>all_time</th>\n",
       "      <th>initial_temp</th>\n",
       "      <th>Время нагрева</th>\n",
       "      <th>ratio</th>\n",
       "      <th>Начало нагрева дугой</th>\n",
       "      <th>Bulk 1</th>\n",
       "      <th>Bulk 2</th>\n",
       "      <th>...</th>\n",
       "      <th>Bulk 6</th>\n",
       "      <th>Bulk 7</th>\n",
       "      <th>Bulk 8</th>\n",
       "      <th>Bulk 9</th>\n",
       "      <th>Bulk 10</th>\n",
       "      <th>Bulk 11</th>\n",
       "      <th>Bulk 12</th>\n",
       "      <th>Bulk 13</th>\n",
       "      <th>Bulk 14</th>\n",
       "      <th>Bulk 15</th>\n",
       "    </tr>\n",
       "  </thead>\n",
       "  <tbody>\n",
       "    <tr>\n",
       "      <th>0</th>\n",
       "      <td>1</td>\n",
       "      <td>2019-05-03 11:30:39</td>\n",
       "      <td>1613.0</td>\n",
       "      <td>861000000000</td>\n",
       "      <td>1571.0</td>\n",
       "      <td>1.098000e+12</td>\n",
       "      <td>1.538898</td>\n",
       "      <td>5.0</td>\n",
       "      <td>0.0</td>\n",
       "      <td>0.0</td>\n",
       "      <td>...</td>\n",
       "      <td>0.0</td>\n",
       "      <td>0.0</td>\n",
       "      <td>0.0</td>\n",
       "      <td>0.0</td>\n",
       "      <td>0.0</td>\n",
       "      <td>0.0</td>\n",
       "      <td>206.0</td>\n",
       "      <td>0.0</td>\n",
       "      <td>150.0</td>\n",
       "      <td>154.0</td>\n",
       "    </tr>\n",
       "    <tr>\n",
       "      <th>1</th>\n",
       "      <td>2</td>\n",
       "      <td>2019-05-03 11:59:12</td>\n",
       "      <td>1602.0</td>\n",
       "      <td>1305000000000</td>\n",
       "      <td>1581.0</td>\n",
       "      <td>8.110000e+11</td>\n",
       "      <td>1.551834</td>\n",
       "      <td>4.0</td>\n",
       "      <td>0.0</td>\n",
       "      <td>0.0</td>\n",
       "      <td>...</td>\n",
       "      <td>0.0</td>\n",
       "      <td>0.0</td>\n",
       "      <td>0.0</td>\n",
       "      <td>0.0</td>\n",
       "      <td>0.0</td>\n",
       "      <td>0.0</td>\n",
       "      <td>206.0</td>\n",
       "      <td>0.0</td>\n",
       "      <td>149.0</td>\n",
       "      <td>154.0</td>\n",
       "    </tr>\n",
       "    <tr>\n",
       "      <th>2</th>\n",
       "      <td>3</td>\n",
       "      <td>2019-05-03 12:34:57</td>\n",
       "      <td>1599.0</td>\n",
       "      <td>1300000000000</td>\n",
       "      <td>1596.0</td>\n",
       "      <td>6.550000e+11</td>\n",
       "      <td>1.583120</td>\n",
       "      <td>5.0</td>\n",
       "      <td>0.0</td>\n",
       "      <td>0.0</td>\n",
       "      <td>...</td>\n",
       "      <td>0.0</td>\n",
       "      <td>0.0</td>\n",
       "      <td>0.0</td>\n",
       "      <td>0.0</td>\n",
       "      <td>0.0</td>\n",
       "      <td>0.0</td>\n",
       "      <td>205.0</td>\n",
       "      <td>0.0</td>\n",
       "      <td>152.0</td>\n",
       "      <td>153.0</td>\n",
       "    </tr>\n",
       "    <tr>\n",
       "      <th>3</th>\n",
       "      <td>4</td>\n",
       "      <td>2019-05-03 12:59:25</td>\n",
       "      <td>1625.0</td>\n",
       "      <td>388000000000</td>\n",
       "      <td>1601.0</td>\n",
       "      <td>7.410000e+11</td>\n",
       "      <td>1.563487</td>\n",
       "      <td>4.0</td>\n",
       "      <td>0.0</td>\n",
       "      <td>0.0</td>\n",
       "      <td>...</td>\n",
       "      <td>0.0</td>\n",
       "      <td>0.0</td>\n",
       "      <td>0.0</td>\n",
       "      <td>0.0</td>\n",
       "      <td>0.0</td>\n",
       "      <td>0.0</td>\n",
       "      <td>207.0</td>\n",
       "      <td>0.0</td>\n",
       "      <td>153.0</td>\n",
       "      <td>154.0</td>\n",
       "    </tr>\n",
       "    <tr>\n",
       "      <th>4</th>\n",
       "      <td>5</td>\n",
       "      <td>2019-05-03 13:36:01</td>\n",
       "      <td>1602.0</td>\n",
       "      <td>762000000000</td>\n",
       "      <td>1576.0</td>\n",
       "      <td>8.690000e+11</td>\n",
       "      <td>1.480428</td>\n",
       "      <td>4.0</td>\n",
       "      <td>0.0</td>\n",
       "      <td>0.0</td>\n",
       "      <td>...</td>\n",
       "      <td>0.0</td>\n",
       "      <td>0.0</td>\n",
       "      <td>0.0</td>\n",
       "      <td>0.0</td>\n",
       "      <td>0.0</td>\n",
       "      <td>0.0</td>\n",
       "      <td>203.0</td>\n",
       "      <td>0.0</td>\n",
       "      <td>151.0</td>\n",
       "      <td>152.0</td>\n",
       "    </tr>\n",
       "    <tr>\n",
       "      <th>5</th>\n",
       "      <td>6</td>\n",
       "      <td>2019-05-03 14:12:29</td>\n",
       "      <td>1596.0</td>\n",
       "      <td>1385000000000</td>\n",
       "      <td>1543.0</td>\n",
       "      <td>9.520000e+11</td>\n",
       "      <td>1.501854</td>\n",
       "      <td>4.0</td>\n",
       "      <td>0.0</td>\n",
       "      <td>0.0</td>\n",
       "      <td>...</td>\n",
       "      <td>0.0</td>\n",
       "      <td>0.0</td>\n",
       "      <td>0.0</td>\n",
       "      <td>0.0</td>\n",
       "      <td>0.0</td>\n",
       "      <td>0.0</td>\n",
       "      <td>204.0</td>\n",
       "      <td>0.0</td>\n",
       "      <td>201.0</td>\n",
       "      <td>154.0</td>\n",
       "    </tr>\n",
       "    <tr>\n",
       "      <th>6</th>\n",
       "      <td>7</td>\n",
       "      <td>2019-05-03 14:42:37</td>\n",
       "      <td>1599.0</td>\n",
       "      <td>1374000000000</td>\n",
       "      <td>1586.0</td>\n",
       "      <td>6.730000e+11</td>\n",
       "      <td>1.628748</td>\n",
       "      <td>4.0</td>\n",
       "      <td>0.0</td>\n",
       "      <td>0.0</td>\n",
       "      <td>...</td>\n",
       "      <td>0.0</td>\n",
       "      <td>0.0</td>\n",
       "      <td>0.0</td>\n",
       "      <td>0.0</td>\n",
       "      <td>0.0</td>\n",
       "      <td>0.0</td>\n",
       "      <td>204.0</td>\n",
       "      <td>0.0</td>\n",
       "      <td>152.0</td>\n",
       "      <td>154.0</td>\n",
       "    </tr>\n",
       "    <tr>\n",
       "      <th>7</th>\n",
       "      <td>8</td>\n",
       "      <td>2019-05-03 15:22:52</td>\n",
       "      <td>1598.0</td>\n",
       "      <td>934000000000</td>\n",
       "      <td>1577.0</td>\n",
       "      <td>9.130000e+11</td>\n",
       "      <td>1.486391</td>\n",
       "      <td>4.0</td>\n",
       "      <td>0.0</td>\n",
       "      <td>0.0</td>\n",
       "      <td>...</td>\n",
       "      <td>0.0</td>\n",
       "      <td>0.0</td>\n",
       "      <td>0.0</td>\n",
       "      <td>0.0</td>\n",
       "      <td>0.0</td>\n",
       "      <td>0.0</td>\n",
       "      <td>410.0</td>\n",
       "      <td>0.0</td>\n",
       "      <td>252.0</td>\n",
       "      <td>153.0</td>\n",
       "    </tr>\n",
       "    <tr>\n",
       "      <th>8</th>\n",
       "      <td>9</td>\n",
       "      <td>2019-05-03 16:01:16</td>\n",
       "      <td>1592.0</td>\n",
       "      <td>1453000000000</td>\n",
       "      <td>1587.0</td>\n",
       "      <td>6.250000e+11</td>\n",
       "      <td>1.421598</td>\n",
       "      <td>5.0</td>\n",
       "      <td>0.0</td>\n",
       "      <td>0.0</td>\n",
       "      <td>...</td>\n",
       "      <td>0.0</td>\n",
       "      <td>0.0</td>\n",
       "      <td>0.0</td>\n",
       "      <td>0.0</td>\n",
       "      <td>0.0</td>\n",
       "      <td>0.0</td>\n",
       "      <td>107.0</td>\n",
       "      <td>0.0</td>\n",
       "      <td>99.0</td>\n",
       "      <td>203.0</td>\n",
       "    </tr>\n",
       "    <tr>\n",
       "      <th>9</th>\n",
       "      <td>10</td>\n",
       "      <td>2019-05-03 16:36:08</td>\n",
       "      <td>1593.0</td>\n",
       "      <td>1299000000000</td>\n",
       "      <td>1574.0</td>\n",
       "      <td>8.250000e+11</td>\n",
       "      <td>1.231654</td>\n",
       "      <td>6.0</td>\n",
       "      <td>0.0</td>\n",
       "      <td>0.0</td>\n",
       "      <td>...</td>\n",
       "      <td>0.0</td>\n",
       "      <td>0.0</td>\n",
       "      <td>0.0</td>\n",
       "      <td>0.0</td>\n",
       "      <td>0.0</td>\n",
       "      <td>0.0</td>\n",
       "      <td>203.0</td>\n",
       "      <td>0.0</td>\n",
       "      <td>102.0</td>\n",
       "      <td>204.0</td>\n",
       "    </tr>\n",
       "  </tbody>\n",
       "</table>\n",
       "<p>10 rows × 23 columns</p>\n",
       "</div>"
      ],
      "text/plain": [
       "   key        Время замера  Температура       all_time  initial_temp  \\\n",
       "0    1 2019-05-03 11:30:39       1613.0   861000000000        1571.0   \n",
       "1    2 2019-05-03 11:59:12       1602.0  1305000000000        1581.0   \n",
       "2    3 2019-05-03 12:34:57       1599.0  1300000000000        1596.0   \n",
       "3    4 2019-05-03 12:59:25       1625.0   388000000000        1601.0   \n",
       "4    5 2019-05-03 13:36:01       1602.0   762000000000        1576.0   \n",
       "5    6 2019-05-03 14:12:29       1596.0  1385000000000        1543.0   \n",
       "6    7 2019-05-03 14:42:37       1599.0  1374000000000        1586.0   \n",
       "7    8 2019-05-03 15:22:52       1598.0   934000000000        1577.0   \n",
       "8    9 2019-05-03 16:01:16       1592.0  1453000000000        1587.0   \n",
       "9   10 2019-05-03 16:36:08       1593.0  1299000000000        1574.0   \n",
       "\n",
       "   Время нагрева     ratio  Начало нагрева дугой  Bulk 1  Bulk 2  ...  Bulk 6  \\\n",
       "0   1.098000e+12  1.538898                   5.0     0.0     0.0  ...     0.0   \n",
       "1   8.110000e+11  1.551834                   4.0     0.0     0.0  ...     0.0   \n",
       "2   6.550000e+11  1.583120                   5.0     0.0     0.0  ...     0.0   \n",
       "3   7.410000e+11  1.563487                   4.0     0.0     0.0  ...     0.0   \n",
       "4   8.690000e+11  1.480428                   4.0     0.0     0.0  ...     0.0   \n",
       "5   9.520000e+11  1.501854                   4.0     0.0     0.0  ...     0.0   \n",
       "6   6.730000e+11  1.628748                   4.0     0.0     0.0  ...     0.0   \n",
       "7   9.130000e+11  1.486391                   4.0     0.0     0.0  ...     0.0   \n",
       "8   6.250000e+11  1.421598                   5.0     0.0     0.0  ...     0.0   \n",
       "9   8.250000e+11  1.231654                   6.0     0.0     0.0  ...     0.0   \n",
       "\n",
       "   Bulk 7  Bulk 8  Bulk 9  Bulk 10  Bulk 11  Bulk 12  Bulk 13  Bulk 14  \\\n",
       "0     0.0     0.0     0.0      0.0      0.0    206.0      0.0    150.0   \n",
       "1     0.0     0.0     0.0      0.0      0.0    206.0      0.0    149.0   \n",
       "2     0.0     0.0     0.0      0.0      0.0    205.0      0.0    152.0   \n",
       "3     0.0     0.0     0.0      0.0      0.0    207.0      0.0    153.0   \n",
       "4     0.0     0.0     0.0      0.0      0.0    203.0      0.0    151.0   \n",
       "5     0.0     0.0     0.0      0.0      0.0    204.0      0.0    201.0   \n",
       "6     0.0     0.0     0.0      0.0      0.0    204.0      0.0    152.0   \n",
       "7     0.0     0.0     0.0      0.0      0.0    410.0      0.0    252.0   \n",
       "8     0.0     0.0     0.0      0.0      0.0    107.0      0.0     99.0   \n",
       "9     0.0     0.0     0.0      0.0      0.0    203.0      0.0    102.0   \n",
       "\n",
       "   Bulk 15  \n",
       "0    154.0  \n",
       "1    154.0  \n",
       "2    153.0  \n",
       "3    154.0  \n",
       "4    152.0  \n",
       "5    154.0  \n",
       "6    154.0  \n",
       "7    153.0  \n",
       "8    203.0  \n",
       "9    204.0  \n",
       "\n",
       "[10 rows x 23 columns]"
      ]
     },
     "metadata": {},
     "output_type": "display_data"
    },
    {
     "name": "stdout",
     "output_type": "stream",
     "text": [
      "<class 'pandas.core.frame.DataFrame'>\n",
      "Int64Index: 2279 entries, 0 to 2339\n",
      "Data columns (total 23 columns):\n",
      " #   Column                Non-Null Count  Dtype         \n",
      "---  ------                --------------  -----         \n",
      " 0   key                   2279 non-null   int64         \n",
      " 1   Время замера          2279 non-null   datetime64[ns]\n",
      " 2   Температура           2279 non-null   float64       \n",
      " 3   all_time              2279 non-null   int64         \n",
      " 4   initial_temp          2279 non-null   float64       \n",
      " 5   Время нагрева         2279 non-null   float64       \n",
      " 6   ratio                 2279 non-null   float64       \n",
      " 7   Начало нагрева дугой  2279 non-null   float64       \n",
      " 8   Bulk 1                2279 non-null   float64       \n",
      " 9   Bulk 2                2279 non-null   float64       \n",
      " 10  Bulk 3                2279 non-null   float64       \n",
      " 11  Bulk 4                2279 non-null   float64       \n",
      " 12  Bulk 5                2279 non-null   float64       \n",
      " 13  Bulk 6                2279 non-null   float64       \n",
      " 14  Bulk 7                2279 non-null   float64       \n",
      " 15  Bulk 8                2279 non-null   float64       \n",
      " 16  Bulk 9                2279 non-null   float64       \n",
      " 17  Bulk 10               2279 non-null   float64       \n",
      " 18  Bulk 11               2279 non-null   float64       \n",
      " 19  Bulk 12               2279 non-null   float64       \n",
      " 20  Bulk 13               2279 non-null   float64       \n",
      " 21  Bulk 14               2279 non-null   float64       \n",
      " 22  Bulk 15               2279 non-null   float64       \n",
      "dtypes: datetime64[ns](1), float64(20), int64(2)\n",
      "memory usage: 427.3 KB\n"
     ]
    }
   ],
   "source": [
    "display(df.head(10))\n",
    "df.info()"
   ]
  },
  {
   "cell_type": "markdown",
   "id": "32a15191",
   "metadata": {},
   "source": [
    "#### данные о проволочных материалах"
   ]
  },
  {
   "cell_type": "markdown",
   "id": "7d392189",
   "metadata": {},
   "source": [
    "Добавление разных проволочных материалов в разных объёмах могут по разному отражаться на температуре сплава."
   ]
  },
  {
   "cell_type": "markdown",
   "id": "810f6365",
   "metadata": {},
   "source": [
    "Добавим к df данные data_wire_time приведённые к типу datetime. Затем исключим строки в которых последний замер температуры был выполнен раньше последнего добаления проволочных материалов и исключим из df признаки data_wire_time за ненадобностью дальнейшего их использования."
   ]
  },
  {
   "cell_type": "code",
   "execution_count": 167,
   "id": "853aa68c",
   "metadata": {},
   "outputs": [],
   "source": [
    "for column in data_wire_time.columns.drop('key'):\n",
    "    data_wire_time[column] = pd.to_datetime(data_wire_time[column])"
   ]
  },
  {
   "cell_type": "code",
   "execution_count": 168,
   "id": "40adfc89",
   "metadata": {
    "scrolled": true
   },
   "outputs": [],
   "source": [
    "df = df.merge(\n",
    "    data_wire_time,\n",
    "    on='key',\n",
    "    how='left')"
   ]
  },
  {
   "cell_type": "code",
   "execution_count": 169,
   "id": "ad1869dc",
   "metadata": {
    "scrolled": false
   },
   "outputs": [],
   "source": [
    "for num_col in range(-len(data_wire_time.columns.drop('key')), 0):\n",
    "    df = df[~(df.loc[:, 'Время замера'] < df.iloc[:, num_col])]"
   ]
  },
  {
   "cell_type": "code",
   "execution_count": 170,
   "id": "66f126eb",
   "metadata": {},
   "outputs": [],
   "source": [
    "df = df.iloc[:, : -len(data_wire_time.columns.drop('key'))]"
   ]
  },
  {
   "cell_type": "code",
   "execution_count": 171,
   "id": "72599894",
   "metadata": {
    "scrolled": false
   },
   "outputs": [
    {
     "name": "stdout",
     "output_type": "stream",
     "text": [
      "<class 'pandas.core.frame.DataFrame'>\n",
      "Int64Index: 2279 entries, 0 to 2278\n",
      "Data columns (total 23 columns):\n",
      " #   Column                Non-Null Count  Dtype         \n",
      "---  ------                --------------  -----         \n",
      " 0   key                   2279 non-null   int64         \n",
      " 1   Время замера          2279 non-null   datetime64[ns]\n",
      " 2   Температура           2279 non-null   float64       \n",
      " 3   all_time              2279 non-null   int64         \n",
      " 4   initial_temp          2279 non-null   float64       \n",
      " 5   Время нагрева         2279 non-null   float64       \n",
      " 6   ratio                 2279 non-null   float64       \n",
      " 7   Начало нагрева дугой  2279 non-null   float64       \n",
      " 8   Bulk 1                2279 non-null   float64       \n",
      " 9   Bulk 2                2279 non-null   float64       \n",
      " 10  Bulk 3                2279 non-null   float64       \n",
      " 11  Bulk 4                2279 non-null   float64       \n",
      " 12  Bulk 5                2279 non-null   float64       \n",
      " 13  Bulk 6                2279 non-null   float64       \n",
      " 14  Bulk 7                2279 non-null   float64       \n",
      " 15  Bulk 8                2279 non-null   float64       \n",
      " 16  Bulk 9                2279 non-null   float64       \n",
      " 17  Bulk 10               2279 non-null   float64       \n",
      " 18  Bulk 11               2279 non-null   float64       \n",
      " 19  Bulk 12               2279 non-null   float64       \n",
      " 20  Bulk 13               2279 non-null   float64       \n",
      " 21  Bulk 14               2279 non-null   float64       \n",
      " 22  Bulk 15               2279 non-null   float64       \n",
      "dtypes: datetime64[ns](1), float64(20), int64(2)\n",
      "memory usage: 427.3 KB\n"
     ]
    }
   ],
   "source": [
    "df.info()"
   ]
  },
  {
   "cell_type": "markdown",
   "id": "038fda4e",
   "metadata": {},
   "source": [
    "Добавим к df данные data_wire и исключим пропуски."
   ]
  },
  {
   "cell_type": "code",
   "execution_count": 172,
   "id": "3b9ea287",
   "metadata": {},
   "outputs": [],
   "source": [
    "df = df.merge(\n",
    "    data_wire,\n",
    "    on='key',\n",
    "    how='left').dropna()"
   ]
  },
  {
   "cell_type": "code",
   "execution_count": 173,
   "id": "ad8cf0cb",
   "metadata": {},
   "outputs": [
    {
     "data": {
      "text/html": [
       "<div>\n",
       "<style scoped>\n",
       "    .dataframe tbody tr th:only-of-type {\n",
       "        vertical-align: middle;\n",
       "    }\n",
       "\n",
       "    .dataframe tbody tr th {\n",
       "        vertical-align: top;\n",
       "    }\n",
       "\n",
       "    .dataframe thead th {\n",
       "        text-align: right;\n",
       "    }\n",
       "</style>\n",
       "<table border=\"1\" class=\"dataframe\">\n",
       "  <thead>\n",
       "    <tr style=\"text-align: right;\">\n",
       "      <th></th>\n",
       "      <th>key</th>\n",
       "      <th>Время замера</th>\n",
       "      <th>Температура</th>\n",
       "      <th>all_time</th>\n",
       "      <th>initial_temp</th>\n",
       "      <th>Время нагрева</th>\n",
       "      <th>ratio</th>\n",
       "      <th>Начало нагрева дугой</th>\n",
       "      <th>Bulk 1</th>\n",
       "      <th>Bulk 2</th>\n",
       "      <th>...</th>\n",
       "      <th>Bulk 15</th>\n",
       "      <th>Wire 1</th>\n",
       "      <th>Wire 2</th>\n",
       "      <th>Wire 3</th>\n",
       "      <th>Wire 4</th>\n",
       "      <th>Wire 5</th>\n",
       "      <th>Wire 6</th>\n",
       "      <th>Wire 7</th>\n",
       "      <th>Wire 8</th>\n",
       "      <th>Wire 9</th>\n",
       "    </tr>\n",
       "  </thead>\n",
       "  <tbody>\n",
       "    <tr>\n",
       "      <th>0</th>\n",
       "      <td>1</td>\n",
       "      <td>2019-05-03 11:30:39</td>\n",
       "      <td>1613.0</td>\n",
       "      <td>861000000000</td>\n",
       "      <td>1571.0</td>\n",
       "      <td>1.098000e+12</td>\n",
       "      <td>1.538898</td>\n",
       "      <td>5.0</td>\n",
       "      <td>0.0</td>\n",
       "      <td>0.0</td>\n",
       "      <td>...</td>\n",
       "      <td>154.0</td>\n",
       "      <td>60.059998</td>\n",
       "      <td>0.000000</td>\n",
       "      <td>0.0</td>\n",
       "      <td>0.0</td>\n",
       "      <td>0.0</td>\n",
       "      <td>0.0</td>\n",
       "      <td>0.0</td>\n",
       "      <td>0.0</td>\n",
       "      <td>0.0</td>\n",
       "    </tr>\n",
       "    <tr>\n",
       "      <th>1</th>\n",
       "      <td>2</td>\n",
       "      <td>2019-05-03 11:59:12</td>\n",
       "      <td>1602.0</td>\n",
       "      <td>1305000000000</td>\n",
       "      <td>1581.0</td>\n",
       "      <td>8.110000e+11</td>\n",
       "      <td>1.551834</td>\n",
       "      <td>4.0</td>\n",
       "      <td>0.0</td>\n",
       "      <td>0.0</td>\n",
       "      <td>...</td>\n",
       "      <td>154.0</td>\n",
       "      <td>96.052315</td>\n",
       "      <td>0.000000</td>\n",
       "      <td>0.0</td>\n",
       "      <td>0.0</td>\n",
       "      <td>0.0</td>\n",
       "      <td>0.0</td>\n",
       "      <td>0.0</td>\n",
       "      <td>0.0</td>\n",
       "      <td>0.0</td>\n",
       "    </tr>\n",
       "    <tr>\n",
       "      <th>2</th>\n",
       "      <td>3</td>\n",
       "      <td>2019-05-03 12:34:57</td>\n",
       "      <td>1599.0</td>\n",
       "      <td>1300000000000</td>\n",
       "      <td>1596.0</td>\n",
       "      <td>6.550000e+11</td>\n",
       "      <td>1.583120</td>\n",
       "      <td>5.0</td>\n",
       "      <td>0.0</td>\n",
       "      <td>0.0</td>\n",
       "      <td>...</td>\n",
       "      <td>153.0</td>\n",
       "      <td>91.160157</td>\n",
       "      <td>0.000000</td>\n",
       "      <td>0.0</td>\n",
       "      <td>0.0</td>\n",
       "      <td>0.0</td>\n",
       "      <td>0.0</td>\n",
       "      <td>0.0</td>\n",
       "      <td>0.0</td>\n",
       "      <td>0.0</td>\n",
       "    </tr>\n",
       "    <tr>\n",
       "      <th>3</th>\n",
       "      <td>4</td>\n",
       "      <td>2019-05-03 12:59:25</td>\n",
       "      <td>1625.0</td>\n",
       "      <td>388000000000</td>\n",
       "      <td>1601.0</td>\n",
       "      <td>7.410000e+11</td>\n",
       "      <td>1.563487</td>\n",
       "      <td>4.0</td>\n",
       "      <td>0.0</td>\n",
       "      <td>0.0</td>\n",
       "      <td>...</td>\n",
       "      <td>154.0</td>\n",
       "      <td>89.063515</td>\n",
       "      <td>0.000000</td>\n",
       "      <td>0.0</td>\n",
       "      <td>0.0</td>\n",
       "      <td>0.0</td>\n",
       "      <td>0.0</td>\n",
       "      <td>0.0</td>\n",
       "      <td>0.0</td>\n",
       "      <td>0.0</td>\n",
       "    </tr>\n",
       "    <tr>\n",
       "      <th>4</th>\n",
       "      <td>5</td>\n",
       "      <td>2019-05-03 13:36:01</td>\n",
       "      <td>1602.0</td>\n",
       "      <td>762000000000</td>\n",
       "      <td>1576.0</td>\n",
       "      <td>8.690000e+11</td>\n",
       "      <td>1.480428</td>\n",
       "      <td>4.0</td>\n",
       "      <td>0.0</td>\n",
       "      <td>0.0</td>\n",
       "      <td>...</td>\n",
       "      <td>152.0</td>\n",
       "      <td>89.238236</td>\n",
       "      <td>9.114560</td>\n",
       "      <td>0.0</td>\n",
       "      <td>0.0</td>\n",
       "      <td>0.0</td>\n",
       "      <td>0.0</td>\n",
       "      <td>0.0</td>\n",
       "      <td>0.0</td>\n",
       "      <td>0.0</td>\n",
       "    </tr>\n",
       "    <tr>\n",
       "      <th>5</th>\n",
       "      <td>6</td>\n",
       "      <td>2019-05-03 14:12:29</td>\n",
       "      <td>1596.0</td>\n",
       "      <td>1385000000000</td>\n",
       "      <td>1543.0</td>\n",
       "      <td>9.520000e+11</td>\n",
       "      <td>1.501854</td>\n",
       "      <td>4.0</td>\n",
       "      <td>0.0</td>\n",
       "      <td>0.0</td>\n",
       "      <td>...</td>\n",
       "      <td>154.0</td>\n",
       "      <td>99.109917</td>\n",
       "      <td>9.114560</td>\n",
       "      <td>0.0</td>\n",
       "      <td>0.0</td>\n",
       "      <td>0.0</td>\n",
       "      <td>0.0</td>\n",
       "      <td>0.0</td>\n",
       "      <td>0.0</td>\n",
       "      <td>0.0</td>\n",
       "    </tr>\n",
       "    <tr>\n",
       "      <th>6</th>\n",
       "      <td>7</td>\n",
       "      <td>2019-05-03 14:42:37</td>\n",
       "      <td>1599.0</td>\n",
       "      <td>1374000000000</td>\n",
       "      <td>1586.0</td>\n",
       "      <td>6.730000e+11</td>\n",
       "      <td>1.628748</td>\n",
       "      <td>4.0</td>\n",
       "      <td>0.0</td>\n",
       "      <td>0.0</td>\n",
       "      <td>...</td>\n",
       "      <td>154.0</td>\n",
       "      <td>98.061600</td>\n",
       "      <td>0.000000</td>\n",
       "      <td>0.0</td>\n",
       "      <td>0.0</td>\n",
       "      <td>0.0</td>\n",
       "      <td>0.0</td>\n",
       "      <td>0.0</td>\n",
       "      <td>0.0</td>\n",
       "      <td>0.0</td>\n",
       "    </tr>\n",
       "    <tr>\n",
       "      <th>7</th>\n",
       "      <td>8</td>\n",
       "      <td>2019-05-03 15:22:52</td>\n",
       "      <td>1598.0</td>\n",
       "      <td>934000000000</td>\n",
       "      <td>1577.0</td>\n",
       "      <td>9.130000e+11</td>\n",
       "      <td>1.486391</td>\n",
       "      <td>4.0</td>\n",
       "      <td>0.0</td>\n",
       "      <td>0.0</td>\n",
       "      <td>...</td>\n",
       "      <td>153.0</td>\n",
       "      <td>155.282394</td>\n",
       "      <td>0.000000</td>\n",
       "      <td>0.0</td>\n",
       "      <td>0.0</td>\n",
       "      <td>0.0</td>\n",
       "      <td>0.0</td>\n",
       "      <td>0.0</td>\n",
       "      <td>0.0</td>\n",
       "      <td>0.0</td>\n",
       "    </tr>\n",
       "    <tr>\n",
       "      <th>8</th>\n",
       "      <td>9</td>\n",
       "      <td>2019-05-03 16:01:16</td>\n",
       "      <td>1592.0</td>\n",
       "      <td>1453000000000</td>\n",
       "      <td>1587.0</td>\n",
       "      <td>6.250000e+11</td>\n",
       "      <td>1.421598</td>\n",
       "      <td>5.0</td>\n",
       "      <td>0.0</td>\n",
       "      <td>0.0</td>\n",
       "      <td>...</td>\n",
       "      <td>203.0</td>\n",
       "      <td>113.393279</td>\n",
       "      <td>9.143681</td>\n",
       "      <td>0.0</td>\n",
       "      <td>0.0</td>\n",
       "      <td>0.0</td>\n",
       "      <td>0.0</td>\n",
       "      <td>0.0</td>\n",
       "      <td>0.0</td>\n",
       "      <td>0.0</td>\n",
       "    </tr>\n",
       "    <tr>\n",
       "      <th>9</th>\n",
       "      <td>10</td>\n",
       "      <td>2019-05-03 16:36:08</td>\n",
       "      <td>1593.0</td>\n",
       "      <td>1299000000000</td>\n",
       "      <td>1574.0</td>\n",
       "      <td>8.250000e+11</td>\n",
       "      <td>1.231654</td>\n",
       "      <td>6.0</td>\n",
       "      <td>0.0</td>\n",
       "      <td>0.0</td>\n",
       "      <td>...</td>\n",
       "      <td>204.0</td>\n",
       "      <td>81.244796</td>\n",
       "      <td>12.376000</td>\n",
       "      <td>0.0</td>\n",
       "      <td>0.0</td>\n",
       "      <td>0.0</td>\n",
       "      <td>0.0</td>\n",
       "      <td>0.0</td>\n",
       "      <td>0.0</td>\n",
       "      <td>0.0</td>\n",
       "    </tr>\n",
       "  </tbody>\n",
       "</table>\n",
       "<p>10 rows × 32 columns</p>\n",
       "</div>"
      ],
      "text/plain": [
       "   key        Время замера  Температура       all_time  initial_temp  \\\n",
       "0    1 2019-05-03 11:30:39       1613.0   861000000000        1571.0   \n",
       "1    2 2019-05-03 11:59:12       1602.0  1305000000000        1581.0   \n",
       "2    3 2019-05-03 12:34:57       1599.0  1300000000000        1596.0   \n",
       "3    4 2019-05-03 12:59:25       1625.0   388000000000        1601.0   \n",
       "4    5 2019-05-03 13:36:01       1602.0   762000000000        1576.0   \n",
       "5    6 2019-05-03 14:12:29       1596.0  1385000000000        1543.0   \n",
       "6    7 2019-05-03 14:42:37       1599.0  1374000000000        1586.0   \n",
       "7    8 2019-05-03 15:22:52       1598.0   934000000000        1577.0   \n",
       "8    9 2019-05-03 16:01:16       1592.0  1453000000000        1587.0   \n",
       "9   10 2019-05-03 16:36:08       1593.0  1299000000000        1574.0   \n",
       "\n",
       "   Время нагрева     ratio  Начало нагрева дугой  Bulk 1  Bulk 2  ...  \\\n",
       "0   1.098000e+12  1.538898                   5.0     0.0     0.0  ...   \n",
       "1   8.110000e+11  1.551834                   4.0     0.0     0.0  ...   \n",
       "2   6.550000e+11  1.583120                   5.0     0.0     0.0  ...   \n",
       "3   7.410000e+11  1.563487                   4.0     0.0     0.0  ...   \n",
       "4   8.690000e+11  1.480428                   4.0     0.0     0.0  ...   \n",
       "5   9.520000e+11  1.501854                   4.0     0.0     0.0  ...   \n",
       "6   6.730000e+11  1.628748                   4.0     0.0     0.0  ...   \n",
       "7   9.130000e+11  1.486391                   4.0     0.0     0.0  ...   \n",
       "8   6.250000e+11  1.421598                   5.0     0.0     0.0  ...   \n",
       "9   8.250000e+11  1.231654                   6.0     0.0     0.0  ...   \n",
       "\n",
       "   Bulk 15      Wire 1     Wire 2  Wire 3  Wire 4  Wire 5  Wire 6  Wire 7  \\\n",
       "0    154.0   60.059998   0.000000     0.0     0.0     0.0     0.0     0.0   \n",
       "1    154.0   96.052315   0.000000     0.0     0.0     0.0     0.0     0.0   \n",
       "2    153.0   91.160157   0.000000     0.0     0.0     0.0     0.0     0.0   \n",
       "3    154.0   89.063515   0.000000     0.0     0.0     0.0     0.0     0.0   \n",
       "4    152.0   89.238236   9.114560     0.0     0.0     0.0     0.0     0.0   \n",
       "5    154.0   99.109917   9.114560     0.0     0.0     0.0     0.0     0.0   \n",
       "6    154.0   98.061600   0.000000     0.0     0.0     0.0     0.0     0.0   \n",
       "7    153.0  155.282394   0.000000     0.0     0.0     0.0     0.0     0.0   \n",
       "8    203.0  113.393279   9.143681     0.0     0.0     0.0     0.0     0.0   \n",
       "9    204.0   81.244796  12.376000     0.0     0.0     0.0     0.0     0.0   \n",
       "\n",
       "   Wire 8  Wire 9  \n",
       "0     0.0     0.0  \n",
       "1     0.0     0.0  \n",
       "2     0.0     0.0  \n",
       "3     0.0     0.0  \n",
       "4     0.0     0.0  \n",
       "5     0.0     0.0  \n",
       "6     0.0     0.0  \n",
       "7     0.0     0.0  \n",
       "8     0.0     0.0  \n",
       "9     0.0     0.0  \n",
       "\n",
       "[10 rows x 32 columns]"
      ]
     },
     "metadata": {},
     "output_type": "display_data"
    },
    {
     "name": "stdout",
     "output_type": "stream",
     "text": [
      "<class 'pandas.core.frame.DataFrame'>\n",
      "Int64Index: 2208 entries, 0 to 2278\n",
      "Data columns (total 32 columns):\n",
      " #   Column                Non-Null Count  Dtype         \n",
      "---  ------                --------------  -----         \n",
      " 0   key                   2208 non-null   int64         \n",
      " 1   Время замера          2208 non-null   datetime64[ns]\n",
      " 2   Температура           2208 non-null   float64       \n",
      " 3   all_time              2208 non-null   int64         \n",
      " 4   initial_temp          2208 non-null   float64       \n",
      " 5   Время нагрева         2208 non-null   float64       \n",
      " 6   ratio                 2208 non-null   float64       \n",
      " 7   Начало нагрева дугой  2208 non-null   float64       \n",
      " 8   Bulk 1                2208 non-null   float64       \n",
      " 9   Bulk 2                2208 non-null   float64       \n",
      " 10  Bulk 3                2208 non-null   float64       \n",
      " 11  Bulk 4                2208 non-null   float64       \n",
      " 12  Bulk 5                2208 non-null   float64       \n",
      " 13  Bulk 6                2208 non-null   float64       \n",
      " 14  Bulk 7                2208 non-null   float64       \n",
      " 15  Bulk 8                2208 non-null   float64       \n",
      " 16  Bulk 9                2208 non-null   float64       \n",
      " 17  Bulk 10               2208 non-null   float64       \n",
      " 18  Bulk 11               2208 non-null   float64       \n",
      " 19  Bulk 12               2208 non-null   float64       \n",
      " 20  Bulk 13               2208 non-null   float64       \n",
      " 21  Bulk 14               2208 non-null   float64       \n",
      " 22  Bulk 15               2208 non-null   float64       \n",
      " 23  Wire 1                2208 non-null   float64       \n",
      " 24  Wire 2                2208 non-null   float64       \n",
      " 25  Wire 3                2208 non-null   float64       \n",
      " 26  Wire 4                2208 non-null   float64       \n",
      " 27  Wire 5                2208 non-null   float64       \n",
      " 28  Wire 6                2208 non-null   float64       \n",
      " 29  Wire 7                2208 non-null   float64       \n",
      " 30  Wire 8                2208 non-null   float64       \n",
      " 31  Wire 9                2208 non-null   float64       \n",
      "dtypes: datetime64[ns](1), float64(29), int64(2)\n",
      "memory usage: 569.2 KB\n"
     ]
    }
   ],
   "source": [
    "display(df.head(10))\n",
    "df.info()"
   ]
  },
  {
   "cell_type": "markdown",
   "id": "8319a9a3",
   "metadata": {},
   "source": [
    "Исключим из df признаки не связанные с посттроением модели: key, Время замера."
   ]
  },
  {
   "cell_type": "code",
   "execution_count": 174,
   "id": "4477e96e",
   "metadata": {},
   "outputs": [],
   "source": [
    "df = df.drop(['key', 'Время замера'], axis=1)"
   ]
  },
  {
   "cell_type": "markdown",
   "id": "a2855152",
   "metadata": {},
   "source": [
    "Все данные признанные необходимыми для создания модели собраны в одну таблицу df."
   ]
  },
  {
   "cell_type": "code",
   "execution_count": 175,
   "id": "246b0e15",
   "metadata": {},
   "outputs": [
    {
     "data": {
      "text/html": [
       "<div>\n",
       "<style scoped>\n",
       "    .dataframe tbody tr th:only-of-type {\n",
       "        vertical-align: middle;\n",
       "    }\n",
       "\n",
       "    .dataframe tbody tr th {\n",
       "        vertical-align: top;\n",
       "    }\n",
       "\n",
       "    .dataframe thead th {\n",
       "        text-align: right;\n",
       "    }\n",
       "</style>\n",
       "<table border=\"1\" class=\"dataframe\">\n",
       "  <thead>\n",
       "    <tr style=\"text-align: right;\">\n",
       "      <th></th>\n",
       "      <th>Температура</th>\n",
       "      <th>all_time</th>\n",
       "      <th>initial_temp</th>\n",
       "      <th>Время нагрева</th>\n",
       "      <th>ratio</th>\n",
       "      <th>Начало нагрева дугой</th>\n",
       "      <th>Bulk 1</th>\n",
       "      <th>Bulk 2</th>\n",
       "      <th>Bulk 3</th>\n",
       "      <th>Bulk 4</th>\n",
       "      <th>...</th>\n",
       "      <th>Bulk 15</th>\n",
       "      <th>Wire 1</th>\n",
       "      <th>Wire 2</th>\n",
       "      <th>Wire 3</th>\n",
       "      <th>Wire 4</th>\n",
       "      <th>Wire 5</th>\n",
       "      <th>Wire 6</th>\n",
       "      <th>Wire 7</th>\n",
       "      <th>Wire 8</th>\n",
       "      <th>Wire 9</th>\n",
       "    </tr>\n",
       "  </thead>\n",
       "  <tbody>\n",
       "    <tr>\n",
       "      <th>0</th>\n",
       "      <td>1613.0</td>\n",
       "      <td>861000000000</td>\n",
       "      <td>1571.0</td>\n",
       "      <td>1.098000e+12</td>\n",
       "      <td>1.538898</td>\n",
       "      <td>5.0</td>\n",
       "      <td>0.0</td>\n",
       "      <td>0.0</td>\n",
       "      <td>0.0</td>\n",
       "      <td>43.0</td>\n",
       "      <td>...</td>\n",
       "      <td>154.0</td>\n",
       "      <td>60.059998</td>\n",
       "      <td>0.00000</td>\n",
       "      <td>0.0</td>\n",
       "      <td>0.0</td>\n",
       "      <td>0.0</td>\n",
       "      <td>0.0</td>\n",
       "      <td>0.0</td>\n",
       "      <td>0.0</td>\n",
       "      <td>0.0</td>\n",
       "    </tr>\n",
       "    <tr>\n",
       "      <th>1</th>\n",
       "      <td>1602.0</td>\n",
       "      <td>1305000000000</td>\n",
       "      <td>1581.0</td>\n",
       "      <td>8.110000e+11</td>\n",
       "      <td>1.551834</td>\n",
       "      <td>4.0</td>\n",
       "      <td>0.0</td>\n",
       "      <td>0.0</td>\n",
       "      <td>0.0</td>\n",
       "      <td>73.0</td>\n",
       "      <td>...</td>\n",
       "      <td>154.0</td>\n",
       "      <td>96.052315</td>\n",
       "      <td>0.00000</td>\n",
       "      <td>0.0</td>\n",
       "      <td>0.0</td>\n",
       "      <td>0.0</td>\n",
       "      <td>0.0</td>\n",
       "      <td>0.0</td>\n",
       "      <td>0.0</td>\n",
       "      <td>0.0</td>\n",
       "    </tr>\n",
       "    <tr>\n",
       "      <th>2</th>\n",
       "      <td>1599.0</td>\n",
       "      <td>1300000000000</td>\n",
       "      <td>1596.0</td>\n",
       "      <td>6.550000e+11</td>\n",
       "      <td>1.583120</td>\n",
       "      <td>5.0</td>\n",
       "      <td>0.0</td>\n",
       "      <td>0.0</td>\n",
       "      <td>0.0</td>\n",
       "      <td>34.0</td>\n",
       "      <td>...</td>\n",
       "      <td>153.0</td>\n",
       "      <td>91.160157</td>\n",
       "      <td>0.00000</td>\n",
       "      <td>0.0</td>\n",
       "      <td>0.0</td>\n",
       "      <td>0.0</td>\n",
       "      <td>0.0</td>\n",
       "      <td>0.0</td>\n",
       "      <td>0.0</td>\n",
       "      <td>0.0</td>\n",
       "    </tr>\n",
       "    <tr>\n",
       "      <th>3</th>\n",
       "      <td>1625.0</td>\n",
       "      <td>388000000000</td>\n",
       "      <td>1601.0</td>\n",
       "      <td>7.410000e+11</td>\n",
       "      <td>1.563487</td>\n",
       "      <td>4.0</td>\n",
       "      <td>0.0</td>\n",
       "      <td>0.0</td>\n",
       "      <td>0.0</td>\n",
       "      <td>81.0</td>\n",
       "      <td>...</td>\n",
       "      <td>154.0</td>\n",
       "      <td>89.063515</td>\n",
       "      <td>0.00000</td>\n",
       "      <td>0.0</td>\n",
       "      <td>0.0</td>\n",
       "      <td>0.0</td>\n",
       "      <td>0.0</td>\n",
       "      <td>0.0</td>\n",
       "      <td>0.0</td>\n",
       "      <td>0.0</td>\n",
       "    </tr>\n",
       "    <tr>\n",
       "      <th>4</th>\n",
       "      <td>1602.0</td>\n",
       "      <td>762000000000</td>\n",
       "      <td>1576.0</td>\n",
       "      <td>8.690000e+11</td>\n",
       "      <td>1.480428</td>\n",
       "      <td>4.0</td>\n",
       "      <td>0.0</td>\n",
       "      <td>0.0</td>\n",
       "      <td>0.0</td>\n",
       "      <td>78.0</td>\n",
       "      <td>...</td>\n",
       "      <td>152.0</td>\n",
       "      <td>89.238236</td>\n",
       "      <td>9.11456</td>\n",
       "      <td>0.0</td>\n",
       "      <td>0.0</td>\n",
       "      <td>0.0</td>\n",
       "      <td>0.0</td>\n",
       "      <td>0.0</td>\n",
       "      <td>0.0</td>\n",
       "      <td>0.0</td>\n",
       "    </tr>\n",
       "  </tbody>\n",
       "</table>\n",
       "<p>5 rows × 30 columns</p>\n",
       "</div>"
      ],
      "text/plain": [
       "   Температура       all_time  initial_temp  Время нагрева     ratio  \\\n",
       "0       1613.0   861000000000        1571.0   1.098000e+12  1.538898   \n",
       "1       1602.0  1305000000000        1581.0   8.110000e+11  1.551834   \n",
       "2       1599.0  1300000000000        1596.0   6.550000e+11  1.583120   \n",
       "3       1625.0   388000000000        1601.0   7.410000e+11  1.563487   \n",
       "4       1602.0   762000000000        1576.0   8.690000e+11  1.480428   \n",
       "\n",
       "   Начало нагрева дугой  Bulk 1  Bulk 2  Bulk 3  Bulk 4  ...  Bulk 15  \\\n",
       "0                   5.0     0.0     0.0     0.0    43.0  ...    154.0   \n",
       "1                   4.0     0.0     0.0     0.0    73.0  ...    154.0   \n",
       "2                   5.0     0.0     0.0     0.0    34.0  ...    153.0   \n",
       "3                   4.0     0.0     0.0     0.0    81.0  ...    154.0   \n",
       "4                   4.0     0.0     0.0     0.0    78.0  ...    152.0   \n",
       "\n",
       "      Wire 1   Wire 2  Wire 3  Wire 4  Wire 5  Wire 6  Wire 7  Wire 8  Wire 9  \n",
       "0  60.059998  0.00000     0.0     0.0     0.0     0.0     0.0     0.0     0.0  \n",
       "1  96.052315  0.00000     0.0     0.0     0.0     0.0     0.0     0.0     0.0  \n",
       "2  91.160157  0.00000     0.0     0.0     0.0     0.0     0.0     0.0     0.0  \n",
       "3  89.063515  0.00000     0.0     0.0     0.0     0.0     0.0     0.0     0.0  \n",
       "4  89.238236  9.11456     0.0     0.0     0.0     0.0     0.0     0.0     0.0  \n",
       "\n",
       "[5 rows x 30 columns]"
      ]
     },
     "execution_count": 175,
     "metadata": {},
     "output_type": "execute_result"
    }
   ],
   "source": [
    "df.head()"
   ]
  },
  {
   "cell_type": "markdown",
   "id": "89a16e57",
   "metadata": {},
   "source": [
    "## Проверка признаков на мультиколлинеарность"
   ]
  },
  {
   "cell_type": "code",
   "execution_count": 176,
   "id": "ee504f44",
   "metadata": {
    "scrolled": false
   },
   "outputs": [
    {
     "name": "stdout",
     "output_type": "stream",
     "text": [
      "Bulk 9 Index(['Wire 8'], dtype='object')\n",
      "Wire 8 Index(['Bulk 9'], dtype='object')\n"
     ]
    }
   ],
   "source": [
    "df_corr = df.corr()\n",
    "for col in df_corr.columns:\n",
    "    if len(\n",
    "        df_corr[(abs(df_corr[col]) > 0.9) & (df_corr[col] != 1)].index) > 0:\n",
    "        print(col, df_corr[(abs(df_corr[col]) > 0.9) & (df_corr[col] != 1)].index)"
   ]
  },
  {
   "cell_type": "markdown",
   "id": "b15fefa9",
   "metadata": {},
   "source": [
    "Коэффициент корреляции Пирсона показывает взаимосвязь между разными признаками. Выберем признаки с абсолютным значением коэффициента более 0,9:\n",
    "\n",
    "* Bulk 9, Wire 8"
   ]
  },
  {
   "cell_type": "markdown",
   "id": "a7cd48e1",
   "metadata": {},
   "source": [
    "Из признаков с высокой корреляцией оставим только наиболее значимый для определения целевого признака Температура. Оценку значимости выполним так же с помощью коэффициента корреляции Пирсона."
   ]
  },
  {
   "cell_type": "code",
   "execution_count": 177,
   "id": "254a2e4b",
   "metadata": {},
   "outputs": [
    {
     "data": {
      "text/html": [
       "<div>\n",
       "<style scoped>\n",
       "    .dataframe tbody tr th:only-of-type {\n",
       "        vertical-align: middle;\n",
       "    }\n",
       "\n",
       "    .dataframe tbody tr th {\n",
       "        vertical-align: top;\n",
       "    }\n",
       "\n",
       "    .dataframe thead th {\n",
       "        text-align: right;\n",
       "    }\n",
       "</style>\n",
       "<table border=\"1\" class=\"dataframe\">\n",
       "  <thead>\n",
       "    <tr style=\"text-align: right;\">\n",
       "      <th></th>\n",
       "      <th>Температура</th>\n",
       "      <th>Bulk 9</th>\n",
       "      <th>Wire 8</th>\n",
       "    </tr>\n",
       "  </thead>\n",
       "  <tbody>\n",
       "    <tr>\n",
       "      <th>Температура</th>\n",
       "      <td>1.000000</td>\n",
       "      <td>-0.017167</td>\n",
       "      <td>-0.011728</td>\n",
       "    </tr>\n",
       "    <tr>\n",
       "      <th>Bulk 9</th>\n",
       "      <td>-0.017167</td>\n",
       "      <td>1.000000</td>\n",
       "      <td>0.974962</td>\n",
       "    </tr>\n",
       "    <tr>\n",
       "      <th>Wire 8</th>\n",
       "      <td>-0.011728</td>\n",
       "      <td>0.974962</td>\n",
       "      <td>1.000000</td>\n",
       "    </tr>\n",
       "  </tbody>\n",
       "</table>\n",
       "</div>"
      ],
      "text/plain": [
       "             Температура    Bulk 9    Wire 8\n",
       "Температура     1.000000 -0.017167 -0.011728\n",
       "Bulk 9         -0.017167  1.000000  0.974962\n",
       "Wire 8         -0.011728  0.974962  1.000000"
      ]
     },
     "execution_count": 177,
     "metadata": {},
     "output_type": "execute_result"
    }
   ],
   "source": [
    "df[['Температура', 'Bulk 9', 'Wire 8']].corr()"
   ]
  },
  {
   "cell_type": "code",
   "execution_count": 178,
   "id": "458d31f5",
   "metadata": {},
   "outputs": [],
   "source": [
    "df = df.drop('Wire 8', axis=1)"
   ]
  },
  {
   "cell_type": "code",
   "execution_count": 179,
   "id": "701ca493",
   "metadata": {},
   "outputs": [
    {
     "name": "stdout",
     "output_type": "stream",
     "text": [
      "<class 'pandas.core.frame.DataFrame'>\n",
      "Int64Index: 2208 entries, 0 to 2278\n",
      "Data columns (total 29 columns):\n",
      " #   Column                Non-Null Count  Dtype  \n",
      "---  ------                --------------  -----  \n",
      " 0   Температура           2208 non-null   float64\n",
      " 1   all_time              2208 non-null   int64  \n",
      " 2   initial_temp          2208 non-null   float64\n",
      " 3   Время нагрева         2208 non-null   float64\n",
      " 4   ratio                 2208 non-null   float64\n",
      " 5   Начало нагрева дугой  2208 non-null   float64\n",
      " 6   Bulk 1                2208 non-null   float64\n",
      " 7   Bulk 2                2208 non-null   float64\n",
      " 8   Bulk 3                2208 non-null   float64\n",
      " 9   Bulk 4                2208 non-null   float64\n",
      " 10  Bulk 5                2208 non-null   float64\n",
      " 11  Bulk 6                2208 non-null   float64\n",
      " 12  Bulk 7                2208 non-null   float64\n",
      " 13  Bulk 8                2208 non-null   float64\n",
      " 14  Bulk 9                2208 non-null   float64\n",
      " 15  Bulk 10               2208 non-null   float64\n",
      " 16  Bulk 11               2208 non-null   float64\n",
      " 17  Bulk 12               2208 non-null   float64\n",
      " 18  Bulk 13               2208 non-null   float64\n",
      " 19  Bulk 14               2208 non-null   float64\n",
      " 20  Bulk 15               2208 non-null   float64\n",
      " 21  Wire 1                2208 non-null   float64\n",
      " 22  Wire 2                2208 non-null   float64\n",
      " 23  Wire 3                2208 non-null   float64\n",
      " 24  Wire 4                2208 non-null   float64\n",
      " 25  Wire 5                2208 non-null   float64\n",
      " 26  Wire 6                2208 non-null   float64\n",
      " 27  Wire 7                2208 non-null   float64\n",
      " 28  Wire 9                2208 non-null   float64\n",
      "dtypes: float64(28), int64(1)\n",
      "memory usage: 517.5 KB\n"
     ]
    }
   ],
   "source": [
    "df.info()"
   ]
  },
  {
   "cell_type": "markdown",
   "id": "c72ab703",
   "metadata": {},
   "source": [
    "Данные готовы для создания модели."
   ]
  },
  {
   "cell_type": "markdown",
   "id": "c1993358",
   "metadata": {},
   "source": [
    "## Обучение и валидация разных моделей"
   ]
  },
  {
   "cell_type": "markdown",
   "id": "55489259",
   "metadata": {},
   "source": [
    "Разделение данных"
   ]
  },
  {
   "cell_type": "markdown",
   "id": "fc8ca00f",
   "metadata": {},
   "source": [
    "Разделим данные на обучающую (80%) и тестовую (20%) выборки, а их в свою очередь на выборки с целевым признаком target_train, target_test и остальными признаками features_train, features_test."
   ]
  },
  {
   "cell_type": "code",
   "execution_count": 180,
   "id": "04335880",
   "metadata": {},
   "outputs": [
    {
     "name": "stdout",
     "output_type": "stream",
     "text": [
      "<class 'pandas.core.frame.DataFrame'>\n",
      "Int64Index: 2208 entries, 0 to 2278\n",
      "Data columns (total 28 columns):\n",
      " #   Column                Non-Null Count  Dtype  \n",
      "---  ------                --------------  -----  \n",
      " 0   all_time              2208 non-null   int64  \n",
      " 1   initial_temp          2208 non-null   float64\n",
      " 2   Время нагрева         2208 non-null   float64\n",
      " 3   ratio                 2208 non-null   float64\n",
      " 4   Начало нагрева дугой  2208 non-null   float64\n",
      " 5   Bulk 1                2208 non-null   float64\n",
      " 6   Bulk 2                2208 non-null   float64\n",
      " 7   Bulk 3                2208 non-null   float64\n",
      " 8   Bulk 4                2208 non-null   float64\n",
      " 9   Bulk 5                2208 non-null   float64\n",
      " 10  Bulk 6                2208 non-null   float64\n",
      " 11  Bulk 7                2208 non-null   float64\n",
      " 12  Bulk 8                2208 non-null   float64\n",
      " 13  Bulk 9                2208 non-null   float64\n",
      " 14  Bulk 10               2208 non-null   float64\n",
      " 15  Bulk 11               2208 non-null   float64\n",
      " 16  Bulk 12               2208 non-null   float64\n",
      " 17  Bulk 13               2208 non-null   float64\n",
      " 18  Bulk 14               2208 non-null   float64\n",
      " 19  Bulk 15               2208 non-null   float64\n",
      " 20  Wire 1                2208 non-null   float64\n",
      " 21  Wire 2                2208 non-null   float64\n",
      " 22  Wire 3                2208 non-null   float64\n",
      " 23  Wire 4                2208 non-null   float64\n",
      " 24  Wire 5                2208 non-null   float64\n",
      " 25  Wire 6                2208 non-null   float64\n",
      " 26  Wire 7                2208 non-null   float64\n",
      " 27  Wire 9                2208 non-null   float64\n",
      "dtypes: float64(27), int64(1)\n",
      "memory usage: 500.2 KB\n",
      "<class 'pandas.core.frame.DataFrame'>\n",
      "Int64Index: 2208 entries, 0 to 2278\n",
      "Data columns (total 1 columns):\n",
      " #   Column       Non-Null Count  Dtype  \n",
      "---  ------       --------------  -----  \n",
      " 0   Температура  2208 non-null   float64\n",
      "dtypes: float64(1)\n",
      "memory usage: 34.5 KB\n"
     ]
    }
   ],
   "source": [
    "features = df.drop('Температура', axis=1)\n",
    "target = df['Температура']\n",
    "features.info()\n",
    "(target).to_frame().info()"
   ]
  },
  {
   "cell_type": "code",
   "execution_count": 181,
   "id": "ea070cd6",
   "metadata": {},
   "outputs": [],
   "source": [
    "features_train, features_test, target_train, target_test = train_test_split(\n",
    "    features, target, test_size=.2, random_state=9)"
   ]
  },
  {
   "cell_type": "code",
   "execution_count": 182,
   "id": "dfc37513",
   "metadata": {},
   "outputs": [
    {
     "name": "stdout",
     "output_type": "stream",
     "text": [
      "features_train.shape: (1766, 28)\n",
      "features_test.shape: (442, 28)\n",
      "target_train.shape: (1766,)\n",
      "target_test.shape: (442,)\n"
     ]
    }
   ],
   "source": [
    "print('features_train.shape:', features_train.shape)\n",
    "print('features_test.shape:', features_test.shape)\n",
    "print('target_train.shape:', target_train.shape)\n",
    "print('target_test.shape:', target_test.shape)"
   ]
  },
  {
   "cell_type": "markdown",
   "id": "c88f1749",
   "metadata": {},
   "source": [
    "### LinearRegression"
   ]
  },
  {
   "cell_type": "code",
   "execution_count": 183,
   "id": "54a43372",
   "metadata": {},
   "outputs": [],
   "source": [
    "model = LinearRegression()"
   ]
  },
  {
   "cell_type": "code",
   "execution_count": 184,
   "id": "8f8806cb",
   "metadata": {},
   "outputs": [],
   "source": [
    "pg = {'fit_intercept':['True', 'False']}"
   ]
  },
  {
   "cell_type": "code",
   "execution_count": 185,
   "id": "1772bfaf",
   "metadata": {
    "scrolled": true
   },
   "outputs": [
    {
     "data": {
      "text/plain": [
       "GridSearchCV(cv=5, estimator=LinearRegression(),\n",
       "             param_grid={'fit_intercept': ['True', 'False']},\n",
       "             scoring='neg_mean_absolute_error')"
      ]
     },
     "execution_count": 185,
     "metadata": {},
     "output_type": "execute_result"
    }
   ],
   "source": [
    "GSCV = GridSearchCV(model, param_grid=pg, cv=5, scoring='neg_mean_absolute_error')\n",
    "GSCV.fit(features_train, target_train)"
   ]
  },
  {
   "cell_type": "code",
   "execution_count": 186,
   "id": "9c7e3577",
   "metadata": {},
   "outputs": [
    {
     "name": "stdout",
     "output_type": "stream",
     "text": [
      "GSCV.best_score_: 5.902213326210854\n",
      "GSCV.best_params_: {'fit_intercept': 'True'}\n"
     ]
    }
   ],
   "source": [
    "print('GSCV.best_score_:', abs(GSCV.best_score_))\n",
    "print('GSCV.best_params_:', GSCV.best_params_)"
   ]
  },
  {
   "cell_type": "code",
   "execution_count": 187,
   "id": "a63110dc",
   "metadata": {},
   "outputs": [
    {
     "name": "stdout",
     "output_type": "stream",
     "text": [
      "MAE LinearRegression(fit_intercept=True) на тестовой выборке: 5.69\n"
     ]
    }
   ],
   "source": [
    "model = LinearRegression(fit_intercept=True)\n",
    "model.fit(features_train, target_train)\n",
    "predict_data = model.predict(features_test)\n",
    "result = round(mean_absolute_error(target_test, predict_data), 2)\n",
    "print('MAE LinearRegression(fit_intercept=True) на тестовой выборке:',\n",
    "      result)"
   ]
  },
  {
   "cell_type": "markdown",
   "id": "e2a2329d",
   "metadata": {},
   "source": [
    "### DecisionTreeRegressor"
   ]
  },
  {
   "cell_type": "code",
   "execution_count": 188,
   "id": "254b47c0",
   "metadata": {},
   "outputs": [],
   "source": [
    "model = DecisionTreeRegressor()"
   ]
  },
  {
   "cell_type": "code",
   "execution_count": 189,
   "id": "fb89834f",
   "metadata": {},
   "outputs": [],
   "source": [
    "pg = {'max_depth':range(1, 250), 'random_state':[9]}"
   ]
  },
  {
   "cell_type": "code",
   "execution_count": 190,
   "id": "f9e1d1d1",
   "metadata": {},
   "outputs": [
    {
     "data": {
      "text/plain": [
       "GridSearchCV(cv=5, estimator=DecisionTreeRegressor(),\n",
       "             param_grid={'max_depth': range(1, 250), 'random_state': [9]},\n",
       "             scoring='neg_mean_absolute_error')"
      ]
     },
     "execution_count": 190,
     "metadata": {},
     "output_type": "execute_result"
    }
   ],
   "source": [
    "GSCV = GridSearchCV(model, param_grid=pg, cv=5, scoring='neg_mean_absolute_error')\n",
    "GSCV.fit(features_train, target_train)"
   ]
  },
  {
   "cell_type": "code",
   "execution_count": 191,
   "id": "c8ab681a",
   "metadata": {},
   "outputs": [
    {
     "name": "stdout",
     "output_type": "stream",
     "text": [
      "GSCV.best_score_: 7.061661745940333\n",
      "GSCV.best_params_: {'max_depth': 5, 'random_state': 9}\n"
     ]
    }
   ],
   "source": [
    "print('GSCV.best_score_:', abs(GSCV.best_score_))\n",
    "print('GSCV.best_params_:', GSCV.best_params_)"
   ]
  },
  {
   "cell_type": "code",
   "execution_count": 192,
   "id": "041983c8",
   "metadata": {},
   "outputs": [
    {
     "name": "stdout",
     "output_type": "stream",
     "text": [
      "MAE DecisionTreeRegressor(max_depth=5, random_state=9) на тестовой выборке: 6.69\n"
     ]
    }
   ],
   "source": [
    "model = DecisionTreeRegressor(max_depth=5, random_state=9)\n",
    "model.fit(features_train, target_train)\n",
    "predict_data = model.predict(features_test)\n",
    "result = round(mean_absolute_error(target_test, predict_data), 2)\n",
    "print('MAE DecisionTreeRegressor(max_depth=5, random_state=9) на тестовой выборке:',\n",
    "      result)"
   ]
  },
  {
   "cell_type": "markdown",
   "id": "1df69945",
   "metadata": {},
   "source": [
    "### RandomForestRegressor"
   ]
  },
  {
   "cell_type": "code",
   "execution_count": 193,
   "id": "4b18dc22",
   "metadata": {},
   "outputs": [],
   "source": [
    "model = RandomForestRegressor()"
   ]
  },
  {
   "cell_type": "code",
   "execution_count": 194,
   "id": "0c369b03",
   "metadata": {},
   "outputs": [],
   "source": [
    "pg = {'max_depth':range(1, 10), 'n_estimators':range(75, 126, 10), 'random_state':[9]}"
   ]
  },
  {
   "cell_type": "code",
   "execution_count": 195,
   "id": "966593a0",
   "metadata": {},
   "outputs": [
    {
     "data": {
      "text/plain": [
       "GridSearchCV(cv=5, estimator=RandomForestRegressor(),\n",
       "             param_grid={'max_depth': range(1, 10),\n",
       "                         'n_estimators': range(75, 126, 10),\n",
       "                         'random_state': [9]},\n",
       "             scoring='neg_mean_absolute_error')"
      ]
     },
     "execution_count": 195,
     "metadata": {},
     "output_type": "execute_result"
    }
   ],
   "source": [
    "GSCV = GridSearchCV(model, param_grid=pg, cv=5, scoring='neg_mean_absolute_error')\n",
    "GSCV.fit(features_train, target_train)"
   ]
  },
  {
   "cell_type": "code",
   "execution_count": 196,
   "id": "df74ae7d",
   "metadata": {},
   "outputs": [
    {
     "name": "stdout",
     "output_type": "stream",
     "text": [
      "GSCV.best_score_: 6.123228155741915\n",
      "GSCV.best_params_: {'max_depth': 9, 'n_estimators': 75, 'random_state': 9}\n"
     ]
    }
   ],
   "source": [
    "print('GSCV.best_score_:', abs(GSCV.best_score_))\n",
    "print('GSCV.best_params_:', GSCV.best_params_)"
   ]
  },
  {
   "cell_type": "code",
   "execution_count": 197,
   "id": "b57ee59c",
   "metadata": {},
   "outputs": [
    {
     "name": "stdout",
     "output_type": "stream",
     "text": [
      "MAE RandomForestRegressor\n",
      "(max_depth=9, n_estimators=75, random_state=9)\n",
      "на тестовой выборке: 5.74\n"
     ]
    }
   ],
   "source": [
    "model = RandomForestRegressor(max_depth=9,\n",
    "                              n_estimators=75,\n",
    "                              random_state=9)\n",
    "model.fit(features_train, target_train)\n",
    "predict_data = model.predict(features_test)\n",
    "result = round(mean_absolute_error(target_test, predict_data), 2)\n",
    "print('''MAE RandomForestRegressor\n",
    "(max_depth=9, n_estimators=75, random_state=9)\n",
    "на тестовой выборке:''',\n",
    "      result)"
   ]
  },
  {
   "cell_type": "markdown",
   "id": "19b8d074",
   "metadata": {},
   "source": [
    "### CatBoostRegressor"
   ]
  },
  {
   "cell_type": "code",
   "execution_count": 198,
   "id": "71873574",
   "metadata": {},
   "outputs": [],
   "source": [
    "model = CatBoostRegressor()"
   ]
  },
  {
   "cell_type": "code",
   "execution_count": 199,
   "id": "dda6972f",
   "metadata": {},
   "outputs": [],
   "source": [
    "pg = {'iterations':[50, 52, 48],\n",
    "      'learning_rate':[.16, .18, .2],\n",
    "      'depth':[6, 8, 7],\n",
    "      'loss_function':[\"MAE\"],\n",
    "      'verbose':[False]}"
   ]
  },
  {
   "cell_type": "code",
   "execution_count": 200,
   "id": "0776479e",
   "metadata": {},
   "outputs": [
    {
     "data": {
      "text/plain": [
       "GridSearchCV(cv=5,\n",
       "             estimator=<catboost.core.CatBoostRegressor object at 0x7f4ffb5a64c0>,\n",
       "             param_grid={'depth': [6, 8, 7], 'iterations': [50, 52, 48],\n",
       "                         'learning_rate': [0.16, 0.18, 0.2],\n",
       "                         'loss_function': ['MAE'], 'verbose': [False]},\n",
       "             scoring='neg_mean_absolute_error')"
      ]
     },
     "execution_count": 200,
     "metadata": {},
     "output_type": "execute_result"
    }
   ],
   "source": [
    "GSCV = GridSearchCV(model, param_grid=pg, cv=5, scoring='neg_mean_absolute_error')\n",
    "GSCV.fit(features_train, target_train)"
   ]
  },
  {
   "cell_type": "code",
   "execution_count": 201,
   "id": "ff24fbeb",
   "metadata": {},
   "outputs": [
    {
     "name": "stdout",
     "output_type": "stream",
     "text": [
      "GSCV.best_score_: 5.977343452481999\n",
      "GSCV.best_params_: {'depth': 7, 'iterations': 52, 'learning_rate': 0.16, 'loss_function': 'MAE', 'verbose': False}\n"
     ]
    }
   ],
   "source": [
    "print('GSCV.best_score_:', abs(GSCV.best_score_))\n",
    "print('GSCV.best_params_:', GSCV.best_params_)"
   ]
  },
  {
   "cell_type": "code",
   "execution_count": 202,
   "id": "1acbce7f",
   "metadata": {},
   "outputs": [
    {
     "name": "stdout",
     "output_type": "stream",
     "text": [
      "MAE CatBoostRegressor\n",
      "(iterations=52, learning_rate=0.16, depth=7, loss_function=\"MAE\", verbose=False)\n",
      "на тестовой выборке: 5.66\n"
     ]
    }
   ],
   "source": [
    "model = CatBoostRegressor(iterations=52,\n",
    "                          learning_rate=.16,\n",
    "                          depth=7,\n",
    "                          loss_function='MAE',\n",
    "                          verbose=False\n",
    "                         )\n",
    "model.fit(features_train, target_train)\n",
    "predict_data = model.predict(features_test)\n",
    "result = round(mean_absolute_error(target_test, predict_data), 2)\n",
    "print('''MAE CatBoostRegressor\n",
    "(iterations=52, learning_rate=0.16, depth=7, loss_function=\"MAE\", verbose=False)\n",
    "на тестовой выборке:''',\n",
    "      result)"
   ]
  },
  {
   "cell_type": "markdown",
   "id": "912e1689",
   "metadata": {},
   "source": [
    "### LGBMRegressor"
   ]
  },
  {
   "cell_type": "code",
   "execution_count": 206,
   "id": "8bee369a",
   "metadata": {},
   "outputs": [],
   "source": [
    "model = LGBMRegressor()"
   ]
  },
  {
   "cell_type": "code",
   "execution_count": 207,
   "id": "4ec05a3f",
   "metadata": {},
   "outputs": [],
   "source": [
    "pg = {'n_estimators':[200, 190, 250],\n",
    "      'learning_rate':[.09, .08, .1],\n",
    "      'max_depth':[8, 7, 6]}"
   ]
  },
  {
   "cell_type": "code",
   "execution_count": 208,
   "id": "a17e8ce6",
   "metadata": {},
   "outputs": [
    {
     "data": {
      "text/plain": [
       "GridSearchCV(cv=5, estimator=LGBMRegressor(),\n",
       "             param_grid={'learning_rate': [0.09, 0.08, 0.1],\n",
       "                         'max_depth': [8, 7, 6],\n",
       "                         'n_estimators': [200, 190, 250]},\n",
       "             scoring='neg_mean_absolute_error')"
      ]
     },
     "execution_count": 208,
     "metadata": {},
     "output_type": "execute_result"
    }
   ],
   "source": [
    "GSCV = GridSearchCV(model, param_grid=pg, cv=5, scoring='neg_mean_absolute_error')\n",
    "GSCV.fit(features_train, target_train)"
   ]
  },
  {
   "cell_type": "code",
   "execution_count": 209,
   "id": "188d2a1a",
   "metadata": {},
   "outputs": [
    {
     "name": "stdout",
     "output_type": "stream",
     "text": [
      "GSCV.best_score_: 5.801615076462613\n",
      "GSCV.best_params_: {'learning_rate': 0.08, 'max_depth': 7, 'n_estimators': 190}\n"
     ]
    }
   ],
   "source": [
    "print('GSCV.best_score_:', abs(GSCV.best_score_))\n",
    "print('GSCV.best_params_:', GSCV.best_params_)"
   ]
  },
  {
   "cell_type": "code",
   "execution_count": 210,
   "id": "c59b8e06",
   "metadata": {},
   "outputs": [
    {
     "name": "stdout",
     "output_type": "stream",
     "text": [
      "MAE LGBMRegressor\n",
      "(n_estimators=190, learning_rate=0.08, max_depth=7)\n",
      "на тестовой выборке: 5.28\n"
     ]
    }
   ],
   "source": [
    "model = LGBMRegressor(n_estimators=190,\n",
    "                      learning_rate=.08,\n",
    "                      max_depth=7\n",
    "                      )\n",
    "model.fit(features_train, target_train)\n",
    "predict_data = model.predict(features_test)\n",
    "result = round(mean_absolute_error(target_test, predict_data), 2)\n",
    "print('''MAE LGBMRegressor\n",
    "(n_estimators=190, learning_rate=0.08, max_depth=7)\n",
    "на тестовой выборке:''',\n",
    "      result)"
   ]
  },
  {
   "cell_type": "markdown",
   "id": "d8a45081",
   "metadata": {},
   "source": [
    "## Анализ важности факторов у модели-победителя."
   ]
  },
  {
   "cell_type": "markdown",
   "id": "ebb43f74",
   "metadata": {},
   "source": [
    "Наилучший результат показала модель:\n",
    "\n",
    "$model = LGBMRegressor(n Estimators=190,\n",
    "                      learning Rate=.08,\n",
    "                      max Depth=7\n",
    "                      )$\n",
    "\n",
    "* МАЕ на кроссвалидации: 5,8\n",
    "* МАЕ на тестовой выборке: 5,28"
   ]
  },
  {
   "cell_type": "markdown",
   "id": "798412c3",
   "metadata": {},
   "source": [
    "Изучим качество работы модели на наиболее значимых признаках исключив менее значимые."
   ]
  },
  {
   "cell_type": "code",
   "execution_count": 211,
   "id": "7b89110f",
   "metadata": {
    "scrolled": false
   },
   "outputs": [
    {
     "name": "stdout",
     "output_type": "stream",
     "text": [
      "GenericUnivariateSelect(param=19)\n",
      "MAE:6.17\n",
      "---------------------------------\n",
      "GenericUnivariateSelect(param=18)\n",
      "MAE:6.35\n",
      "---------------------------------\n",
      "GenericUnivariateSelect(param=17)\n",
      "MAE:7.41\n",
      "---------------------------------\n",
      "GenericUnivariateSelect(param=16)\n",
      "MAE:7.05\n",
      "---------------------------------\n",
      "GenericUnivariateSelect(param=15)\n",
      "MAE:6.35\n",
      "---------------------------------\n",
      "GenericUnivariateSelect(param=14)\n",
      "MAE:8.42\n",
      "---------------------------------\n",
      "GenericUnivariateSelect(param=13)\n",
      "MAE:7.92\n",
      "---------------------------------\n",
      "GenericUnivariateSelect(param=12)\n",
      "MAE:6.44\n",
      "---------------------------------\n",
      "GenericUnivariateSelect(param=11)\n",
      "MAE:6.54\n",
      "---------------------------------\n",
      "GenericUnivariateSelect(param=10)\n",
      "MAE:11.86\n",
      "---------------------------------\n",
      "GenericUnivariateSelect(param=9)\n",
      "MAE:6.37\n",
      "---------------------------------\n",
      "GenericUnivariateSelect(param=8)\n",
      "MAE:22.64\n",
      "---------------------------------\n",
      "GenericUnivariateSelect(param=7)\n",
      "MAE:21.14\n",
      "---------------------------------\n",
      "GenericUnivariateSelect(param=6)\n",
      "MAE:7.45\n",
      "---------------------------------\n",
      "GenericUnivariateSelect(param=5)\n",
      "MAE:8.1\n",
      "---------------------------------\n",
      "GenericUnivariateSelect(param=4)\n",
      "MAE:8.35\n",
      "---------------------------------\n",
      "GenericUnivariateSelect(param=3)\n",
      "MAE:7.81\n",
      "---------------------------------\n",
      "GenericUnivariateSelect(param=2)\n",
      "MAE:8.64\n",
      "---------------------------------\n",
      "GenericUnivariateSelect(param=1)\n",
      "MAE:11.41\n",
      "---------------------------------\n"
     ]
    }
   ],
   "source": [
    "model = LGBMRegressor(n_estimators=190,\n",
    "                      learning_rate=.08,\n",
    "                      max_depth=7\n",
    "                      )\n",
    "\n",
    "for p in range(-19, 0):\n",
    "    transformer = GenericUnivariateSelect(mutual_info_regression, mode='k_best', param=abs(p))\n",
    "    features_train_new = transformer.fit_transform(features_train, target_train)\n",
    "    print('GenericUnivariateSelect(param='+ str(abs(p)) +')')\n",
    "    model.fit(features_train_new, target_train)\n",
    "    predict_data = model.predict(transformer.fit_transform(features_test, target_test))\n",
    "    result = round(mean_absolute_error(target_test, predict_data), 2)\n",
    "    print('MAE:'+ str(result))\n",
    "    print('-'*33)"
   ]
  },
  {
   "cell_type": "markdown",
   "id": "ad9fe686",
   "metadata": {},
   "source": [
    "Исключение менее значимых признаков не улучшило результат предсказания модели. Наиболее эффективно модель работает на датафрейме со всеми отобранными и дополнительно сформированными признаками."
   ]
  },
  {
   "cell_type": "markdown",
   "id": "49bd9519",
   "metadata": {},
   "source": [
    "## Отчёт"
   ]
  },
  {
   "cell_type": "markdown",
   "id": "a02620dc",
   "metadata": {},
   "source": [
    "* 1. Все пункты плана решения были выполнены.\n",
    "* 2. Самая большая трудность, с которой пришлось столкнуться в работе над проектом, это отбор/моделирование признаков. Неправильная интерпритация описания признаков помешала выбрать нужные для обучения модели. После консультации с тимлидом улучшилось понимание значений входящих данных и скорректированный отбор признаков помог значительно улучшить качество модели. Так же помог обзор разных работ по обработке признаков с учётом мультиколлинеарности.\n",
    "* 3. В качестве ключевых шагов в решении задачи выделю анализ и предобработку данных. Как показала практика, качество признаков очень сильно влияет на результат. А так же, исходя из выше изложенного, очень важно понимать природу изучаемых процессов. Чем глубже получается изучить тематику проекта, тем понятнее становятся принципы определения значимости того, или иного признака. В этом может помочь хорошая обратная связь с заказчиком.\n",
    "* 4. Итоговая модель:\n",
    "$$model = LGBMRegressor(n Estimators=190, learning Rate=.08, max Depth=7)$$\n",
    "Качество итоговой модели на кроссвалидации:\n",
    "$$MeanAbsoluteError: 5,8$$\n",
    "Качество итоговой модели на тестовой выборке:\n",
    "$$MeanAbsoluteError: 5,28$$"
   ]
  },
  {
   "cell_type": "code",
   "execution_count": null,
   "id": "56e3825b",
   "metadata": {},
   "outputs": [],
   "source": []
  }
 ],
 "metadata": {
  "kernelspec": {
   "display_name": "Python 3 (ipykernel)",
   "language": "python",
   "name": "python3"
  },
  "language_info": {
   "codemirror_mode": {
    "name": "ipython",
    "version": 3
   },
   "file_extension": ".py",
   "mimetype": "text/x-python",
   "name": "python",
   "nbconvert_exporter": "python",
   "pygments_lexer": "ipython3",
   "version": "3.9.5"
  },
  "toc": {
   "base_numbering": 1,
   "nav_menu": {},
   "number_sections": true,
   "sideBar": true,
   "skip_h1_title": true,
   "title_cell": "Table of Contents",
   "title_sidebar": "Contents",
   "toc_cell": false,
   "toc_position": {},
   "toc_section_display": true,
   "toc_window_display": false
  }
 },
 "nbformat": 4,
 "nbformat_minor": 5
}
